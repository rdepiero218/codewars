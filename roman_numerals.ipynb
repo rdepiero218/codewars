{
 "cells": [
  {
   "cell_type": "code",
   "execution_count": 89,
   "id": "7ff6e774-f0ef-47ee-9674-3226a91a94cb",
   "metadata": {
    "tags": []
   },
   "outputs": [
    {
     "name": "stdout",
     "output_type": "stream",
     "text": [
      "thousands:  1\n",
      "hundreds:  9\n",
      "tens:  8\n",
      "ones:  9\n",
      "thousands numeral:  M\n",
      "hundreds numeral:  CM\n",
      "tens numeral:  LXXX\n",
      "ones numeral:  IX\n"
     ]
    },
    {
     "data": {
      "text/plain": [
       "'MCMLXXXIX'"
      ]
     },
     "execution_count": 89,
     "metadata": {},
     "output_type": "execute_result"
    }
   ],
   "source": [
    "n = 1989\n",
    "\n",
    "numeral = ''\n",
    "\n",
    "thou_place = int(n/1000)\n",
    "hund_place = int(n%1000/100)\n",
    "ten_place = int((n%100)/10)\n",
    "ones_place = n%10\n",
    "\n",
    "print('thousands: ', thou_place)\n",
    "print('hundreds: ', hund_place)\n",
    "print('tens: ', ten_place)\n",
    "print('ones: ', ones_place)\n",
    "\n",
    "thousands = ''\n",
    "hundreds = ''\n",
    "tens = ''\n",
    "ones = ''\n",
    "\n",
    "if n > 1000:\n",
    "    thousands += ('M' * thou_place)\n",
    "\n",
    "if n == 1000:\n",
    "    thousands += 'M'\n",
    "\n",
    "## HUNDREDS\n",
    "if hund_place < 4:\n",
    "    hundreds += 'I' * hund_place\n",
    "\n",
    "if hund_place == 9:\n",
    "    hundreds += 'C' + 'M' \n",
    "\n",
    "interval = hund_place - 5\n",
    "\n",
    "if abs(interval) < 4:\n",
    "    if interval > 0:\n",
    "        hundreds += 'D' + 'C' * interval \n",
    "    else:\n",
    "        hundreds += 'C' + 'D' * interval\n",
    "\n",
    "## TENS\n",
    "interval = ten_place - 5\n",
    "\n",
    "if interval < -1:\n",
    "    tens += 'X' * ten_place\n",
    "elif interval >= 0 and interval <= 4:\n",
    "    tens += 'L' + 'X' * interval \n",
    "elif interval == -1:\n",
    "    tens += 'X' + 'L' * interval \n",
    "else:\n",
    "    tens += 'X' + 'C' \n",
    "\n",
    "        \n",
    "## ONES\n",
    "\n",
    "if ones_place < 4:\n",
    "    ones += 'I' * ones_place\n",
    "\n",
    "if ones_place == 9:\n",
    "    ones += 'I' + 'X' \n",
    "\n",
    "interval = ones_place - 5\n",
    "\n",
    "if abs(interval) < 4:\n",
    "    \n",
    "    if interval > 0:\n",
    "        ones += 'V' + 'I' * interval \n",
    "    else:\n",
    "        ones += 'I' + 'V'\n",
    "\n",
    "\n",
    "print('thousands numeral: ', thousands)\n",
    "print('hundreds numeral: ', hundreds)\n",
    "print('tens numeral: ', tens)\n",
    "print('ones numeral: ', ones)\n",
    "\n",
    "numeral = thousands + hundreds + tens + ones\n",
    "numeral"
   ]
  },
  {
   "cell_type": "code",
   "execution_count": 26,
   "id": "6ba624cd-e665-4c13-b83d-b434e18ddb46",
   "metadata": {
    "tags": []
   },
   "outputs": [
    {
     "data": {
      "text/plain": [
       "'XX'"
      ]
     },
     "execution_count": 26,
     "metadata": {},
     "output_type": "execute_result"
    }
   ],
   "source": [
    "tens"
   ]
  },
  {
   "cell_type": "code",
   "execution_count": 6,
   "id": "c914d452-45a6-47e5-a7ec-278a60b9a831",
   "metadata": {
    "tags": []
   },
   "outputs": [
    {
     "data": {
      "text/plain": [
       "-4"
      ]
     },
     "execution_count": 6,
     "metadata": {},
     "output_type": "execute_result"
    }
   ],
   "source": [
    "ones_place - 5"
   ]
  },
  {
   "cell_type": "code",
   "execution_count": 11,
   "id": "452f99ed-c797-432b-b618-94504b581490",
   "metadata": {
    "tags": []
   },
   "outputs": [
    {
     "data": {
      "text/plain": [
       "-3"
      ]
     },
     "execution_count": 11,
     "metadata": {},
     "output_type": "execute_result"
    }
   ],
   "source": [
    "ten_place - 5"
   ]
  },
  {
   "cell_type": "code",
   "execution_count": 12,
   "id": "342182a6-93b6-4dc3-8321-5cfa28b630a1",
   "metadata": {
    "tags": []
   },
   "outputs": [
    {
     "data": {
      "text/plain": [
       "'XX'"
      ]
     },
     "execution_count": 12,
     "metadata": {},
     "output_type": "execute_result"
    }
   ],
   "source": [
    "tens"
   ]
  },
  {
   "cell_type": "code",
   "execution_count": 15,
   "id": "8daab33f-2c79-4bb3-886f-516765d43800",
   "metadata": {
    "tags": []
   },
   "outputs": [
    {
     "data": {
      "text/plain": [
       "''"
      ]
     },
     "execution_count": 15,
     "metadata": {},
     "output_type": "execute_result"
    }
   ],
   "source": [
    "'I'*(-1)"
   ]
  },
  {
   "cell_type": "code",
   "execution_count": 16,
   "id": "bf8b15fe-dbd4-48fb-be11-17f7c14c400a",
   "metadata": {
    "tags": []
   },
   "outputs": [
    {
     "data": {
      "text/plain": [
       "'I'"
      ]
     },
     "execution_count": 16,
     "metadata": {},
     "output_type": "execute_result"
    }
   ],
   "source": [
    "'I'*(1)"
   ]
  },
  {
   "cell_type": "code",
   "execution_count": 17,
   "id": "d7c42cf4-00dc-47cf-b090-d651aa8951e2",
   "metadata": {
    "tags": []
   },
   "outputs": [
    {
     "data": {
      "text/plain": [
       "''"
      ]
     },
     "execution_count": 17,
     "metadata": {},
     "output_type": "execute_result"
    }
   ],
   "source": [
    "'I'*(-2)"
   ]
  },
  {
   "cell_type": "code",
   "execution_count": 18,
   "id": "5c6f32ae-c492-4bc0-85f3-efcec8c2308e",
   "metadata": {
    "tags": []
   },
   "outputs": [
    {
     "data": {
      "text/plain": [
       "''"
      ]
     },
     "execution_count": 18,
     "metadata": {},
     "output_type": "execute_result"
    }
   ],
   "source": [
    "'I'*(0)"
   ]
  },
  {
   "cell_type": "code",
   "execution_count": 151,
   "id": "5073e0f0-e138-437b-bc34-042a244e5d59",
   "metadata": {
    "tags": []
   },
   "outputs": [
    {
     "name": "stdout",
     "output_type": "stream",
     "text": [
      "i = 3\n",
      "place: thousands\n",
      "interval =  -5\n",
      "M\n",
      "roman numeral =  \n",
      "i = 2\n",
      "place: hundreds\n",
      "interval =  4\n",
      "C\n",
      "roman numeral =  CM\n",
      "i = 1\n",
      "place: tens\n",
      "interval =  3\n",
      "X\n",
      "roman numeral =  LXXX\n",
      "i = 0\n",
      "place: ones\n",
      "interval =  -1\n",
      "I\n",
      "roman numeral =  IV\n",
      "thousands numeral:  \n",
      "hundreds numeral:  CM\n",
      "tens numeral:  LXXX\n",
      "ones numeral:  IV\n",
      "CMLXXXIV\n"
     ]
    }
   ],
   "source": [
    "\n",
    "n = 984\n",
    "\n",
    "letters = ['M', 'D', 'C', 'L', 'X', 'V', 'I']\n",
    "\n",
    "romans = {\n",
    "    1000 : 'M',\n",
    "    500 : 'D',\n",
    "    100 : 'C',\n",
    "    50 : 'L',\n",
    "    10 : 'X',\n",
    "    5 : 'V',\n",
    "    1 : 'I',\n",
    "    0 : '',\n",
    "}\n",
    "\n",
    "\n",
    "places = {\n",
    "    'thousands': int(n/1000),\n",
    "    'hundreds' : int(n%1000/100),\n",
    "    'tens' : int((n%100)/10),\n",
    "    'ones' : n%10\n",
    "}\n",
    "\n",
    "numeral = {\n",
    "    'thousands': '',\n",
    "    'hundreds' : '',\n",
    "    'tens' : '',\n",
    "    'ones' : ''\n",
    "}\n",
    "    \n",
    "\n",
    "# i = 0\n",
    "\n",
    "# j = list(places.keys())\n",
    "\n",
    "# i = 0\n",
    "# for key in places:\n",
    "#     interval = places[key] - 5\n",
    "\n",
    "#     if interval < -1:\n",
    "#         numeral[key] += letters[i-1] * places[key]\n",
    "#     elif interval >= 0 and interval < 4:\n",
    "#         numeral[key] += letters[i] + letters[i-1] * interval \n",
    "#     elif interval == -1:\n",
    "#         numeral[key] += letters[i-1] + letters[i] * interval \n",
    "#     else:\n",
    "#         numeral[key] += letters[i-1] + letters[i]   \n",
    "#     i += 1\n",
    "\n",
    "# i = 3\n",
    "# print(places)\n",
    "# for key in places:\n",
    "#     interval = places[key] - 5\n",
    "#     print('i =',i)\n",
    "#     print('place:', key)\n",
    "#     print('interval = ', interval)\n",
    "#     print(romans[int(10**i)])\n",
    "#     print(romans[int(10**i/2)])\n",
    "    \n",
    "#     if interval < -1:\n",
    "#         numeral[key] += romans[int(10**i)] * places[key]\n",
    "#     elif interval >= 0 and interval < 4:\n",
    "#         numeral[key] += romans[int(10**i)] + romans[int(10**i/2)] * interval \n",
    "#     elif interval == -1:\n",
    "#         numeral[key] += romans[int(10**i/2)] + romans[int(10**i)] * interval \n",
    "#     else:\n",
    "#         numeral[key] += romans[int(10**i/2)] + romans[10**i]\n",
    "#     i -= 1\n",
    "#     print('roman numeral = ', numeral[key])\n",
    "\n",
    "\n",
    "i = 3\n",
    "# print(places)\n",
    "for key in places:\n",
    "    interval = places[key] - 5\n",
    "    print('i =',i)\n",
    "    print('place:', key)\n",
    "    print('interval = ', interval)\n",
    "    print(romans[int(10**i)])\n",
    "    # print(romans[int((10**(i+1))/2)])\n",
    "    \n",
    "    if interval < -1:\n",
    "        numeral[key] += romans[int(10**i)] * places[key]\n",
    "    elif interval >= 0 and interval < 4:\n",
    "        numeral[key] += romans[int(10**(i+1)/2)] + romans[int(10**i)] * interval \n",
    "    elif interval == -1:\n",
    "        numeral[key] += romans[int(10**i)] + romans[int((10**(i+1))/2)]\n",
    "    else:\n",
    "        numeral[key] += romans[int(10**(i))] + romans[10**(i+1)]\n",
    "    i -= 1\n",
    "    print('roman numeral = ', numeral[key])\n",
    "\n",
    "# key = 'tens'\n",
    "# i = 1\n",
    "# interval = places[key] - 5\n",
    "# print('i =',i)\n",
    "# print('place:', key)\n",
    "# print('interval = ', interval)\n",
    "# print(romans[int(10**i)])\n",
    "# print(int(10**i))\n",
    "# print(romans[int(10**(i+1))])\n",
    "# print(int(10**(i+1)))\n",
    "\n",
    "# if interval < -1:\n",
    "#     numeral[key] += romans[int(10**i)] * places[key]\n",
    "# elif interval >= 0 and interval < 4:\n",
    "#     numeral[key] += romans[int(10**i)] + romans[int(10**(i+1))] * interval \n",
    "# elif interval == -1:\n",
    "#     numeral[key] += romans[int(10**(i+1))] + romans[int(10**i)] * interval \n",
    "# else:\n",
    "#     numeral[key] += romans[int(10**(i+1))] + romans[10**i]\n",
    "# i -= 1\n",
    "# print('roman numeral = ', numeral[key])\n",
    "\n",
    "\n",
    "print('thousands numeral: ', numeral['thousands'])\n",
    "print('hundreds numeral: ', numeral['hundreds'])\n",
    "print('tens numeral: ', numeral['tens'])\n",
    "print('ones numeral: ', numeral['ones'])\n",
    "\n",
    "# numeral = thousands + hundreds + tens + ones\n",
    "numeral_str = ''\n",
    "for key in numeral:\n",
    "    numeral_str += numeral[key]\n",
    "    \n",
    "print(numeral_str)"
   ]
  },
  {
   "cell_type": "code",
   "execution_count": 31,
   "id": "79ceb6b4-f790-4069-b0f4-7e83e72e677e",
   "metadata": {
    "tags": []
   },
   "outputs": [
    {
     "name": "stdout",
     "output_type": "stream",
     "text": [
      "thousands\n",
      "hundreds\n",
      "tens\n",
      "ones\n"
     ]
    }
   ],
   "source": [
    "'MCMLXXXIX'\n",
    "for key in places:\n",
    "    print(key)"
   ]
  },
  {
   "cell_type": "code",
   "execution_count": 35,
   "id": "861d5066-cef4-4c69-a476-247e22151177",
   "metadata": {
    "tags": []
   },
   "outputs": [
    {
     "data": {
      "text/plain": [
       "['thousands', 'hundreds', 'tens', 'ones']"
      ]
     },
     "execution_count": 35,
     "metadata": {},
     "output_type": "execute_result"
    }
   ],
   "source": [
    "list(places.keys())"
   ]
  },
  {
   "cell_type": "code",
   "execution_count": 37,
   "id": "a04aecc0-d7f4-460a-9e27-0d26dacc87ad",
   "metadata": {
    "tags": []
   },
   "outputs": [
    {
     "data": {
      "text/plain": [
       "{1000: 'M', 500: 'D', 100: 'C', 50: 'L', 10: 'X', 5: 'V', 1: 'I'}"
      ]
     },
     "execution_count": 37,
     "metadata": {},
     "output_type": "execute_result"
    }
   ],
   "source": [
    "romans"
   ]
  },
  {
   "cell_type": "code",
   "execution_count": 38,
   "id": "dd2038f1-355e-4a85-907e-14e3cb70d49a",
   "metadata": {
    "tags": []
   },
   "outputs": [
    {
     "data": {
      "text/plain": [
       "'X'"
      ]
     },
     "execution_count": 38,
     "metadata": {},
     "output_type": "execute_result"
    }
   ],
   "source": [
    "romans[10]"
   ]
  },
  {
   "cell_type": "code",
   "execution_count": 61,
   "id": "4b3d2782-2c57-47c5-ab25-38bd87f19416",
   "metadata": {
    "tags": []
   },
   "outputs": [
    {
     "data": {
      "text/plain": [
       "1000"
      ]
     },
     "execution_count": 61,
     "metadata": {},
     "output_type": "execute_result"
    }
   ],
   "source": [
    "10**3"
   ]
  },
  {
   "cell_type": "code",
   "execution_count": 74,
   "id": "c576cf06-e70a-40c3-9528-c9a02ed04976",
   "metadata": {
    "tags": []
   },
   "outputs": [
    {
     "name": "stdout",
     "output_type": "stream",
     "text": [
      "1000\n",
      "500\n",
      "100\n",
      "50\n",
      "10\n",
      "5\n",
      "1\n",
      "0\n"
     ]
    }
   ],
   "source": [
    "# i = 3\n",
    "\n",
    "for i in range(3, -1, -1):\n",
    "    print(10**i)\n",
    "    print(int(10**i/2))\n",
    "    # i -= 1"
   ]
  },
  {
   "cell_type": "code",
   "execution_count": 67,
   "id": "9a5de05b-71a4-4234-b60d-5b82865b8010",
   "metadata": {
    "tags": []
   },
   "outputs": [
    {
     "data": {
      "text/plain": [
       "range(3, 1, -1)"
      ]
     },
     "execution_count": 67,
     "metadata": {},
     "output_type": "execute_result"
    }
   ],
   "source": []
  },
  {
   "cell_type": "code",
   "execution_count": null,
   "id": "47a4d236-1143-4b48-a365-97b88d00ffc1",
   "metadata": {},
   "outputs": [],
   "source": []
  }
 ],
 "metadata": {
  "kernelspec": {
   "display_name": "Python 3 (ipykernel)",
   "language": "python",
   "name": "python3"
  },
  "language_info": {
   "codemirror_mode": {
    "name": "ipython",
    "version": 3
   },
   "file_extension": ".py",
   "mimetype": "text/x-python",
   "name": "python",
   "nbconvert_exporter": "python",
   "pygments_lexer": "ipython3",
   "version": "3.10.13"
  }
 },
 "nbformat": 4,
 "nbformat_minor": 5
}
