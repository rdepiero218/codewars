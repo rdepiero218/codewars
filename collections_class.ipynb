{
 "cells": [
  {
   "cell_type": "code",
   "execution_count": 6,
   "id": "0856ae36-c96b-47a3-bdb7-d0ecfb87022b",
   "metadata": {
    "tags": []
   },
   "outputs": [],
   "source": [
    "collection = ['a','b','c','d','e','f']"
   ]
  },
  {
   "cell_type": "code",
   "execution_count": 5,
   "id": "e39ba1d1-ddc1-4d21-959b-d8eaa65e6633",
   "metadata": {
    "tags": []
   },
   "outputs": [
    {
     "data": {
      "text/plain": [
       "['a', 'b', 'c', 'd']"
      ]
     },
     "execution_count": 5,
     "metadata": {},
     "output_type": "execute_result"
    }
   ],
   "source": [
    "val = 4\n",
    "\n",
    "collection[:4]"
   ]
  },
  {
   "cell_type": "code",
   "execution_count": 7,
   "id": "d6546c62-43b0-4dc0-84bb-093a5e1072aa",
   "metadata": {
    "tags": []
   },
   "outputs": [],
   "source": [
    "pages = []\n",
    "for i in range(1, int(len(collection)/val)):\n",
    "    pages.append(collection[:val])"
   ]
  },
  {
   "cell_type": "code",
   "execution_count": 4,
   "id": "1a8b3282-1d3b-47fc-9546-632f055f52a4",
   "metadata": {
    "tags": []
   },
   "outputs": [
    {
     "data": {
      "text/plain": [
       "[]"
      ]
     },
     "execution_count": 4,
     "metadata": {},
     "output_type": "execute_result"
    }
   ],
   "source": [
    "pages"
   ]
  },
  {
   "cell_type": "code",
   "execution_count": 9,
   "id": "be479e71-1ff7-4071-884a-716330594c60",
   "metadata": {
    "tags": []
   },
   "outputs": [
    {
     "data": {
      "text/plain": [
       "1.5"
      ]
     },
     "execution_count": 9,
     "metadata": {},
     "output_type": "execute_result"
    }
   ],
   "source": [
    "len(collection)/val"
   ]
  },
  {
   "cell_type": "code",
   "execution_count": 10,
   "id": "f0684748-88c4-45f3-a918-ed2661febc91",
   "metadata": {
    "tags": []
   },
   "outputs": [
    {
     "data": {
      "text/plain": [
       "range(0, 6, 4)"
      ]
     },
     "execution_count": 10,
     "metadata": {},
     "output_type": "execute_result"
    }
   ],
   "source": [
    "range(0, len(collection), 4)"
   ]
  },
  {
   "cell_type": "code",
   "execution_count": 42,
   "id": "67978ec8-e682-4894-8d23-05ed1ebdad15",
   "metadata": {
    "tags": []
   },
   "outputs": [
    {
     "data": {
      "text/plain": [
       "[['a', 'b', 'c', 'd'], ['e', 'f']]"
      ]
     },
     "execution_count": 42,
     "metadata": {},
     "output_type": "execute_result"
    }
   ],
   "source": [
    "val = 4\n",
    "\n",
    "pages = []\n",
    "\n",
    "\n",
    "\n",
    "for i in range(0, len(collection), val):\n",
    "    pages.append(collection[i:i+val])\n",
    "    # if (len(collection) - i) < val:\n",
    "    #     pages.append(collection[i:])\n",
    "    # else:    \n",
    "    #     pages.append(collection[:i])\n",
    "    # print(i)\n",
    "pages"
   ]
  },
  {
   "cell_type": "code",
   "execution_count": 51,
   "id": "b5541cd3-b935-4371-af16-4a98c5f89215",
   "metadata": {
    "tags": []
   },
   "outputs": [
    {
     "data": {
      "text/plain": [
       "4"
      ]
     },
     "execution_count": 51,
     "metadata": {},
     "output_type": "execute_result"
    }
   ],
   "source": [
    "len(pages[0])"
   ]
  },
  {
   "cell_type": "code",
   "execution_count": 32,
   "id": "329793cb-f166-425e-a17a-6c830ff01ff8",
   "metadata": {
    "tags": []
   },
   "outputs": [
    {
     "data": {
      "text/plain": [
       "['a', 'b', 'c', 'd']"
      ]
     },
     "execution_count": 32,
     "metadata": {},
     "output_type": "execute_result"
    }
   ],
   "source": [
    "collection[0:4]"
   ]
  },
  {
   "cell_type": "code",
   "execution_count": 33,
   "id": "c03e70f7-0747-4cb1-abdd-d5d3be4e1c2c",
   "metadata": {
    "tags": []
   },
   "outputs": [
    {
     "data": {
      "text/plain": [
       "['e', 'f']"
      ]
     },
     "execution_count": 33,
     "metadata": {},
     "output_type": "execute_result"
    }
   ],
   "source": [
    "collection[4:]"
   ]
  },
  {
   "cell_type": "code",
   "execution_count": 52,
   "id": "fabd97ec-9640-4d5d-96b5-ca9f98702c87",
   "metadata": {
    "tags": []
   },
   "outputs": [
    {
     "data": {
      "text/plain": [
       "0"
      ]
     },
     "execution_count": 52,
     "metadata": {},
     "output_type": "execute_result"
    }
   ],
   "source": [
    "3//4"
   ]
  },
  {
   "cell_type": "code",
   "execution_count": 54,
   "id": "3816a839-9bc1-4c00-bebb-5721f1c4d0b2",
   "metadata": {
    "tags": []
   },
   "outputs": [
    {
     "data": {
      "text/plain": [
       "1"
      ]
     },
     "execution_count": 54,
     "metadata": {},
     "output_type": "execute_result"
    }
   ],
   "source": [
    "6//4"
   ]
  },
  {
   "cell_type": "code",
   "execution_count": 59,
   "id": "e19f8937-eab2-4255-909a-188cb9f7f6bf",
   "metadata": {
    "tags": []
   },
   "outputs": [
    {
     "data": {
      "text/plain": [
       "1"
      ]
     },
     "execution_count": 59,
     "metadata": {},
     "output_type": "execute_result"
    }
   ],
   "source": [
    "idx = 7\n",
    "\n",
    "page_num = idx//val\n",
    "page_num"
   ]
  },
  {
   "cell_type": "code",
   "execution_count": 62,
   "id": "720b5353-d393-42da-80bf-b4febed2d710",
   "metadata": {
    "tags": []
   },
   "outputs": [
    {
     "data": {
      "text/plain": [
       "579"
      ]
     },
     "execution_count": 62,
     "metadata": {},
     "output_type": "execute_result"
    }
   ],
   "source": [
    "x = '123'\n",
    "y = '456'\n",
    "\n",
    "x_int = int(x)\n",
    "y_int = int(y)\n",
    "\n",
    "sum = x_int + y_int\n",
    "sum"
   ]
  },
  {
   "cell_type": "code",
   "execution_count": 63,
   "id": "4bafae46-6067-40e9-bdc7-6665730b35be",
   "metadata": {
    "tags": []
   },
   "outputs": [
    {
     "ename": "TypeError",
     "evalue": "ord() expected a character, but string of length 44 found",
     "output_type": "error",
     "traceback": [
      "\u001b[0;31m---------------------------------------------------------------------------\u001b[0m",
      "\u001b[0;31mTypeError\u001b[0m                                 Traceback (most recent call last)",
      "Cell \u001b[0;32mIn[63], line 3\u001b[0m\n\u001b[1;32m      1\u001b[0m number \u001b[38;5;241m=\u001b[39m \u001b[38;5;124m'\u001b[39m\u001b[38;5;124m11111111111111111111111111111111111111111111\u001b[39m\u001b[38;5;124m'\u001b[39m\n\u001b[0;32m----> 3\u001b[0m \u001b[38;5;28;43mord\u001b[39;49m\u001b[43m(\u001b[49m\u001b[43mnumber\u001b[49m\u001b[43m)\u001b[49m\n",
      "\u001b[0;31mTypeError\u001b[0m: ord() expected a character, but string of length 44 found"
     ]
    }
   ],
   "source": [
    "number = '11111111111111111111111111111111111111111111'\n",
    "\n",
    "ord(number)"
   ]
  },
  {
   "cell_type": "code",
   "execution_count": 67,
   "id": "29eb9e17-0f2f-4c72-8007-9d3450d9c5e2",
   "metadata": {
    "tags": []
   },
   "outputs": [
    {
     "data": {
      "text/plain": [
       "['1',\n",
       " '1',\n",
       " '1',\n",
       " '1',\n",
       " '1',\n",
       " '1',\n",
       " '1',\n",
       " '1',\n",
       " '1',\n",
       " '1',\n",
       " '1',\n",
       " '1',\n",
       " '1',\n",
       " '1',\n",
       " '1',\n",
       " '1',\n",
       " '1',\n",
       " '1',\n",
       " '1',\n",
       " '1',\n",
       " '1',\n",
       " '1',\n",
       " '1',\n",
       " '1',\n",
       " '1',\n",
       " '1',\n",
       " '1',\n",
       " '1',\n",
       " '1',\n",
       " '1',\n",
       " '1',\n",
       " '1',\n",
       " '1',\n",
       " '1',\n",
       " '1',\n",
       " '1',\n",
       " '1',\n",
       " '1',\n",
       " '1',\n",
       " '1',\n",
       " '1',\n",
       " '1',\n",
       " '1',\n",
       " '1']"
      ]
     },
     "execution_count": 67,
     "metadata": {},
     "output_type": "execute_result"
    }
   ],
   "source": [
    "code_list = []\n",
    "for char in number:\n",
    "    code_list.append(ord(char))\n",
    "    \n",
    "\n",
    "\n",
    "val_list = []\n",
    "for char in code_list:\n",
    "    val_list.append(chr(char))\n",
    "    \n",
    "val_list"
   ]
  },
  {
   "cell_type": "code",
   "execution_count": null,
   "id": "5715c4ed-d9e5-45d0-9b17-794b12b53f01",
   "metadata": {},
   "outputs": [],
   "source": [
    "for i in len(string)"
   ]
  }
 ],
 "metadata": {
  "kernelspec": {
   "display_name": "Python 3 (ipykernel)",
   "language": "python",
   "name": "python3"
  },
  "language_info": {
   "codemirror_mode": {
    "name": "ipython",
    "version": 3
   },
   "file_extension": ".py",
   "mimetype": "text/x-python",
   "name": "python",
   "nbconvert_exporter": "python",
   "pygments_lexer": "ipython3",
   "version": "3.10.13"
  }
 },
 "nbformat": 4,
 "nbformat_minor": 5
}
