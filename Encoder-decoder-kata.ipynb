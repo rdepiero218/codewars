{
 "cells": [
  {
   "cell_type": "markdown",
   "id": "c65e36bf-50ab-4652-98a1-9989b9787c0b",
   "metadata": {},
   "source": [
    "## decoder kata\n",
    "\n",
    "https://www.codewars.com/kata/5dad6e5264e25a001918a1fc/train/python\n",
    "\n",
    "\n"
   ]
  },
  {
   "cell_type": "code",
   "execution_count": 13,
   "id": "4e0ba166-a2ae-4ec0-8732-00578a8d22aa",
   "metadata": {},
   "outputs": [
    {
     "name": "stdout",
     "output_type": "stream",
     "text": [
      "Pretty printing has been turned OFF\n"
     ]
    }
   ],
   "source": [
    "import string\n",
    "\n",
    "letters = list(string.ascii_lowercase)\n",
    "values = list(range(26))\n",
    "\n",
    "%pprint  # turns of pretty print (to output lists horizontally rather than in column)\n"
   ]
  },
  {
   "cell_type": "code",
   "execution_count": 14,
   "id": "39ee97cd-84ce-4dc9-8ef4-1554765e3589",
   "metadata": {},
   "outputs": [
    {
     "data": {
      "text/plain": [
       "['a', 'b', 'c', 'd', 'e', 'f', 'g', 'h', 'i', 'j', 'k', 'l', 'm', 'n', 'o', 'p', 'q', 'r', 's', 't', 'u', 'v', 'w', 'x', 'y', 'z']"
      ]
     },
     "execution_count": 14,
     "metadata": {},
     "output_type": "execute_result"
    }
   ],
   "source": [
    "letters"
   ]
  },
  {
   "cell_type": "code",
   "execution_count": 15,
   "id": "c3dadc20-a9e5-45b7-a98b-2396b432b0a3",
   "metadata": {},
   "outputs": [
    {
     "data": {
      "text/plain": [
       "[0, 1, 2, 3, 4, 5, 6, 7, 8, 9, 10, 11, 12, 13, 14, 15, 16, 17, 18, 19, 20, 21, 22, 23, 24, 25]"
      ]
     },
     "execution_count": 15,
     "metadata": {},
     "output_type": "execute_result"
    }
   ],
   "source": [
    "values"
   ]
  },
  {
   "cell_type": "code",
   "execution_count": 51,
   "id": "64340593-ee71-4d3f-9c0c-a276505f8636",
   "metadata": {},
   "outputs": [
    {
     "name": "stdout",
     "output_type": "stream",
     "text": [
      "Original Message:  mer\n",
      "Encoded Message:  6015e\n"
     ]
    }
   ],
   "source": [
    "# lets get encoder working for one case\n",
    "\n",
    "s = 'mer'\n",
    "num = 6015\n",
    "\n",
    "# TODO: pull number from front of string\n",
    "\n",
    "# TODO: test to know if num is valid first\n",
    "\n",
    "coded_message = str(num)\n",
    "\n",
    "letters = ['a', 'b', 'c', 'd', 'e', 'f', 'g', 'h', 'i', 'j', 'k', 'l', 'm', 'n', 'o', 'p', 'q', 'r', 's', 't', 'u', 'v', 'w', 'x', 'y', 'z']\n",
    "values = [0, 1, 2, 3, 4, 5, 6, 7, 8, 9, 10, 11, 12, 13, 14, 15, 16, 17, 18, 19, 20, 21, 22, 23, 24, 25]\n",
    "\n",
    "# for l in s:\n",
    "    \n",
    "coder = dict(zip(letters, values))\n",
    "\n",
    "code = coder[s[0]] * num % 26\n",
    "coded_char = list(coder.keys())[code]\n",
    "\n",
    "coded_message += coded_char\n",
    "\n",
    "print('Original Message: ', s)\n",
    "print('Encoded Message: ', coded_message)"
   ]
  },
  {
   "cell_type": "code",
   "execution_count": 23,
   "id": "06097000-bf77-4250-a40a-85083f14c013",
   "metadata": {},
   "outputs": [
    {
     "data": {
      "text/plain": [
       "4"
      ]
     },
     "execution_count": 23,
     "metadata": {},
     "output_type": "execute_result"
    }
   ],
   "source": []
  },
  {
   "cell_type": "code",
   "execution_count": 27,
   "id": "9e1035bc-4287-4238-aa3f-758dea566f40",
   "metadata": {},
   "outputs": [
    {
     "data": {
      "text/plain": [
       "dict_items([('a', 0), ('b', 1), ('c', 2), ('d', 3), ('e', 4), ('f', 5), ('g', 6), ('h', 7), ('i', 8), ('j', 9), ('k', 10), ('l', 11), ('m', 12), ('n', 13), ('o', 14), ('p', 15), ('q', 16), ('r', 17), ('s', 18), ('t', 19), ('u', 20), ('v', 21), ('w', 22), ('x', 23), ('y', 24), ('z', 25)])"
      ]
     },
     "execution_count": 27,
     "metadata": {},
     "output_type": "execute_result"
    }
   ],
   "source": [
    "coder.items()"
   ]
  },
  {
   "cell_type": "code",
   "execution_count": 25,
   "id": "401a8e33-3403-45e6-be3e-6f2fc1d47c9a",
   "metadata": {},
   "outputs": [
    {
     "name": "stdout",
     "output_type": "stream",
     "text": [
      "Pretty printing has been turned ON\n"
     ]
    }
   ],
   "source": [
    "%pprint"
   ]
  },
  {
   "cell_type": "code",
   "execution_count": 30,
   "id": "72313a85-edae-43b8-abb5-03bba374b427",
   "metadata": {},
   "outputs": [
    {
     "data": {
      "text/plain": [
       "'e'"
      ]
     },
     "execution_count": 30,
     "metadata": {},
     "output_type": "execute_result"
    }
   ],
   "source": [
    "list(coder.keys())[4]"
   ]
  },
  {
   "cell_type": "code",
   "execution_count": 81,
   "id": "8a348d12-21ca-4b31-8813-61f17b9a091e",
   "metadata": {
    "editable": true,
    "slideshow": {
     "slide_type": ""
    },
    "tags": []
   },
   "outputs": [
    {
     "name": "stdout",
     "output_type": "stream",
     "text": [
      "m plaintext 12 coded: 4\n",
      "e plaintext 4 coded: 10\n",
      "r plaintext 17 coded: 23\n",
      "Original Message:  mer\n",
      "Encoded Message:  6015ekx\n"
     ]
    }
   ],
   "source": [
    "## Okay now encode the whole thing with a loop\n",
    "\n",
    "s = 'mer'\n",
    "num = 6015\n",
    "\n",
    "# TODO: pull number from front of string\n",
    "\n",
    "# TODO: test to know if num is valid first\n",
    "\n",
    "coded_message = str(num)\n",
    "\n",
    "letters = ['a', 'b', 'c', 'd', 'e', 'f', 'g', 'h', 'i', 'j', 'k', 'l', 'm', 'n', 'o', 'p', 'q', 'r', 's', 't', 'u', 'v', 'w', 'x', 'y', 'z']\n",
    "values = [0, 1, 2, 3, 4, 5, 6, 7, 8, 9, 10, 11, 12, 13, 14, 15, 16, 17, 18, 19, 20, 21, 22, 23, 24, 25]\n",
    "\n",
    "cipher = dict(zip(letters, values))\n",
    "\n",
    "for i in range(len(s)):\n",
    "    code = (cipher[s[i]] * num ) % 26\n",
    "    print(f'{s[i]} plaintext {cipher[s[i]]} coded: {code}')\n",
    "    coded_char = list(cipher.keys())[code]\n",
    "    coded_message += coded_char\n",
    "\n",
    "\n",
    "print('Original Message: ', s)\n",
    "print('Encoded Message: ', coded_message)"
   ]
  },
  {
   "cell_type": "code",
   "execution_count": 95,
   "id": "4127cca1-98e5-414b-943e-a825150fb566",
   "metadata": {
    "jupyter": {
     "source_hidden": true
    }
   },
   "outputs": [
    {
     "name": "stdout",
     "output_type": "stream",
     "text": [
      "e = 4, coded = 12\n",
      "k = 10, coded = 4\n",
      "x = 23, coded = 17\n",
      "Encoded Message:  ekx\n",
      "Decoded Message:  mer\n"
     ]
    }
   ],
   "source": [
    "## now DECODE\n",
    "\n",
    "s = 'ekx'\n",
    "num = 6015\n",
    "\n",
    "# TODO: pull number from front of string\n",
    "\n",
    "# TODO: test to know if num is valid first\n",
    "# NOTE: modulo A = B mod n has no mult inv if only common factor for A & B is 1\n",
    "# 26 has factors [2, 13, 26] aside from 1\n",
    "        \n",
    "# coded_message = str(num)\n",
    "\n",
    "coded_message = ''\n",
    "\n",
    "letters = ['a', 'b', 'c', 'd', 'e', 'f', 'g', 'h', 'i', 'j', 'k', 'l', 'm', 'n', 'o', 'p', 'q', 'r', 's', 't', 'u', 'v', 'w', 'x', 'y', 'z']\n",
    "values = [0, 1, 2, 3, 4, 5, 6, 7, 8, 9, 10, 11, 12, 13, 14, 15, 16, 17, 18, 19, 20, 21, 22, 23, 24, 25]\n",
    "\n",
    "cipher = dict(zip(letters, values))\n",
    "\n",
    "for i in range(len(s)):\n",
    "    code = (cipher[s[i]] * inv ) % 26\n",
    "    print(f'{s[i]} = {cipher[s[i]]}, coded = {code}' )\n",
    "    coded_char = list(cipher.keys())[code]\n",
    "    coded_message += coded_char\n",
    "\n",
    "\n",
    "print('Encoded Message: ', s)\n",
    "print('Decoded Message: ', coded_message)"
   ]
  },
  {
   "cell_type": "code",
   "execution_count": 94,
   "id": "f410f57a-268b-4289-bb9f-9dd9ef0b0ced",
   "metadata": {},
   "outputs": [
    {
     "name": "stdout",
     "output_type": "stream",
     "text": [
      "Impossible to decode: common factor is 13\n"
     ]
    }
   ],
   "source": [
    "## check the test here\n",
    "\n",
    "num = 5057\n",
    "\n",
    "# TODO: test to know if num is valid first\n",
    "# NOTE: modulo A = B mod n has no mult inv if only common factor for A & B is 1\n",
    "# 26 has factors [2, 13, 26] aside from 1\n",
    "\n",
    "factors = [2, 13, 26]\n",
    "\n",
    "for factor in factors:\n",
    "    if num % factor == 0:\n",
    "        print('Impossible to decode: common factor is', factor)\n"
   ]
  },
  {
   "cell_type": "code",
   "execution_count": 116,
   "id": "036e57fe-0d9a-4604-b35e-0906d1883ee3",
   "metadata": {},
   "outputs": [
    {
     "name": "stdout",
     "output_type": "stream",
     "text": [
      "6015ekx\n",
      "6015\n",
      "ekx\n"
     ]
    }
   ],
   "source": [
    "# PULL VALUE FROM FRONT OF STRING\n",
    "r = '6015ekx'\n",
    "\n",
    "num_string = ''\n",
    "\n",
    "for i in range(len(r)):\n",
    "    if r[i].isnumeric():\n",
    "        num_string += r[i]\n",
    "\n",
    "num = int(num_string) # convert string to int value\n",
    "\n",
    "s = r.replace(num_string, '') # removes num_string from message\n",
    "print(r)\n",
    "print(num_string)\n",
    "print(s)"
   ]
  },
  {
   "cell_type": "code",
   "execution_count": 102,
   "id": "21315cd9-cf98-4ba0-8e65-f45513103db4",
   "metadata": {},
   "outputs": [
    {
     "data": {
      "text/plain": [
       "6015"
      ]
     },
     "execution_count": 102,
     "metadata": {},
     "output_type": "execute_result"
    }
   ],
   "source": [
    "int(num_string)"
   ]
  },
  {
   "cell_type": "code",
   "execution_count": 115,
   "id": "d456e9f0-93c3-4252-95d3-29839bf58031",
   "metadata": {},
   "outputs": [
    {
     "name": "stdout",
     "output_type": "stream",
     "text": [
      "6015ekx\n",
      "6015\n",
      "ekx\n"
     ]
    }
   ],
   "source": []
  },
  {
   "cell_type": "code",
   "execution_count": 117,
   "id": "2c4cc491-3c8c-439a-8c2c-bbd3c1815a10",
   "metadata": {},
   "outputs": [
    {
     "name": "stdout",
     "output_type": "stream",
     "text": [
      "Encoded Message:  ekx\n",
      "Decoded Message:  mer\n"
     ]
    },
    {
     "data": {
      "text/plain": [
       "3"
      ]
     },
     "execution_count": 117,
     "metadata": {},
     "output_type": "execute_result"
    }
   ],
   "source": [
    "## DECODE WITH FULL STRING\n",
    "\n",
    "# PULL VALUE FROM FRONT OF STRING\n",
    "r = '6015ekx'\n",
    "\n",
    "num_string = ''\n",
    "\n",
    "for i in range(len(r)):\n",
    "    if r[i].isnumeric():\n",
    "        num_string += r[i]\n",
    "\n",
    "num = int(num_string) # convert string to int value\n",
    "\n",
    "s = r.replace(num_string, '') # removes num_string from message\n",
    "\n",
    "\n",
    "# CHECK IF NUM IS VALID (MULT INVERSE EXISTS)\n",
    "# NOTE: modulo A = B mod n has no mult inv if only common factor for A & B is 1 (26 has factors [1, 2, 13, 26])\n",
    "\n",
    "factors = [2, 13, 26]\n",
    "\n",
    "for factor in factors:\n",
    "    if num % factor == 0:\n",
    "        print('Impossible to decode: common factor is', factor)\n",
    "        break\n",
    "\n",
    "# CREATE DICTIONARY TO ENCODE/DECODE MESSAGES\n",
    "letters = ['a', 'b', 'c', 'd', 'e', 'f', 'g', 'h', 'i', 'j', 'k', 'l', 'm', 'n', 'o', 'p', 'q', 'r', 's', 't', 'u', 'v', 'w', 'x', 'y', 'z']\n",
    "values = [0, 1, 2, 3, 4, 5, 6, 7, 8, 9, 10, 11, 12, 13, 14, 15, 16, 17, 18, 19, 20, 21, 22, 23, 24, 25]\n",
    "\n",
    "cipher = dict(zip(letters, values))\n",
    "\n",
    "# FIND MODULO INVERSE need to find B such that A * B = 1 (mod 26)\n",
    "for val in values:\n",
    "    x = num * val % 26\n",
    "    # print('val: ', val, 'x: ', x)\n",
    "    if x == 1:\n",
    "        inv = val\n",
    "        # print('inverse: ', inv)\n",
    "        break\n",
    "\n",
    "coded_message = ''\n",
    "\n",
    "for i in range(len(s)):\n",
    "    code = (cipher[s[i]] * inv ) % 26\n",
    "    # print(f'{s[i]} = {cipher[s[i]]}, coded = {code}' )\n",
    "    coded_char = list(cipher.keys())[code]\n",
    "    coded_message += coded_char\n",
    "\n",
    "print('Encoded Message: ', s)\n",
    "print('Decoded Message: ', coded_message)"
   ]
  },
  {
   "cell_type": "code",
   "execution_count": 58,
   "id": "2dadc4d3-d7d8-46fa-a6d1-618704e2f847",
   "metadata": {},
   "outputs": [
    {
     "data": {
      "text/plain": [
       "4"
      ]
     },
     "execution_count": 58,
     "metadata": {},
     "output_type": "execute_result"
    }
   ],
   "source": [
    "12 * 6015 % 26"
   ]
  },
  {
   "cell_type": "code",
   "execution_count": 71,
   "id": "b0924617-fe40-47a4-98ec-16d1772886f4",
   "metadata": {},
   "outputs": [
    {
     "data": {
      "text/plain": [
       "10"
      ]
     },
     "execution_count": 71,
     "metadata": {},
     "output_type": "execute_result"
    }
   ],
   "source": [
    "(4 * 6015) % 26"
   ]
  },
  {
   "cell_type": "code",
   "execution_count": 46,
   "id": "1d3a9db8-b1ae-4b42-8ff9-cad8644f2349",
   "metadata": {},
   "outputs": [
    {
     "data": {
      "text/plain": [
       "108"
      ]
     },
     "execution_count": 46,
     "metadata": {},
     "output_type": "execute_result"
    }
   ],
   "source": [
    "12 * (6015 % 26)"
   ]
  },
  {
   "cell_type": "code",
   "execution_count": 47,
   "id": "9686f828-5a3e-4097-8895-1c37f08f1ffd",
   "metadata": {},
   "outputs": [
    {
     "data": {
      "text/plain": [
       "4"
      ]
     },
     "execution_count": 47,
     "metadata": {},
     "output_type": "execute_result"
    }
   ],
   "source": [
    "(12 * 6015) % 26"
   ]
  },
  {
   "cell_type": "code",
   "execution_count": 63,
   "id": "35ad0e43-4090-4bd4-af92-adbcd371cf64",
   "metadata": {},
   "outputs": [
    {
     "data": {
      "text/plain": [
       "13"
      ]
     },
     "execution_count": 63,
     "metadata": {},
     "output_type": "execute_result"
    }
   ],
   "source": [
    "(5057) % 26"
   ]
  },
  {
   "cell_type": "code",
   "execution_count": 64,
   "id": "067b7a90-b3b7-4858-b4f9-688886113c8f",
   "metadata": {},
   "outputs": [
    {
     "data": {
      "text/plain": [
       "9"
      ]
     },
     "execution_count": 64,
     "metadata": {},
     "output_type": "execute_result"
    }
   ],
   "source": [
    "6015 % 26"
   ]
  },
  {
   "cell_type": "code",
   "execution_count": 67,
   "id": "e4c8a51c-20a2-446e-88c6-207daa785bcb",
   "metadata": {},
   "outputs": [
    {
     "data": {
      "text/plain": [
       "104"
      ]
     },
     "execution_count": 67,
     "metadata": {},
     "output_type": "execute_result"
    }
   ],
   "source": [
    "26 * 4"
   ]
  },
  {
   "cell_type": "code",
   "execution_count": 69,
   "id": "c0f0f604-ec42-4a59-ac3f-df204c3010c4",
   "metadata": {},
   "outputs": [
    {
     "data": {
      "text/plain": [
       "2528.5"
      ]
     },
     "execution_count": 69,
     "metadata": {},
     "output_type": "execute_result"
    }
   ],
   "source": [
    "5057/2"
   ]
  },
  {
   "cell_type": "code",
   "execution_count": 70,
   "id": "54b71e3d-4403-449e-8571-c65c85be879d",
   "metadata": {},
   "outputs": [
    {
     "data": {
      "text/plain": [
       "389.0"
      ]
     },
     "execution_count": 70,
     "metadata": {},
     "output_type": "execute_result"
    }
   ],
   "source": [
    "5057/13"
   ]
  },
  {
   "cell_type": "code",
   "execution_count": 82,
   "id": "8649ccb9-af74-4865-be95-b0cea7eaca09",
   "metadata": {},
   "outputs": [
    {
     "name": "stdout",
     "output_type": "stream",
     "text": [
      "val:  0 x:  0\n",
      "val:  1 x:  9\n",
      "val:  2 x:  18\n",
      "val:  3 x:  1\n",
      "val:  4 x:  10\n",
      "val:  5 x:  19\n",
      "val:  6 x:  2\n",
      "val:  7 x:  11\n",
      "val:  8 x:  20\n",
      "val:  9 x:  3\n",
      "val:  10 x:  12\n",
      "val:  11 x:  21\n",
      "val:  12 x:  4\n",
      "val:  13 x:  13\n",
      "val:  14 x:  22\n",
      "val:  15 x:  5\n",
      "val:  16 x:  14\n",
      "val:  17 x:  23\n",
      "val:  18 x:  6\n",
      "val:  19 x:  15\n",
      "val:  20 x:  24\n",
      "val:  21 x:  7\n",
      "val:  22 x:  16\n",
      "val:  23 x:  25\n",
      "val:  24 x:  8\n",
      "val:  25 x:  17\n"
     ]
    }
   ],
   "source": [
    "num = 6015\n",
    "# factors = [2, 13]\n",
    "\n",
    "# find multiplicative inverse for num\n",
    "for val in values:\n",
    "    x = num * val % 26\n",
    "    # print('val: ', val, 'x: ', x)\n",
    "    if x == 1:\n",
    "        print('inverse: ', val)\n",
    "        break\n",
    "    \n",
    "\n",
    "\n"
   ]
  },
  {
   "cell_type": "code",
   "execution_count": 87,
   "id": "d717e8c5-9493-4e24-b716-652568cad562",
   "metadata": {},
   "outputs": [
    {
     "data": {
      "text/plain": [
       "17"
      ]
     },
     "execution_count": 87,
     "metadata": {},
     "output_type": "execute_result"
    }
   ],
   "source": [
    "3*23 % 26"
   ]
  },
  {
   "cell_type": "code",
   "execution_count": null,
   "id": "7fd27a29-288f-4664-a568-a328eb38b5fa",
   "metadata": {},
   "outputs": [],
   "source": []
  }
 ],
 "metadata": {
  "kernelspec": {
   "display_name": "Python 3 (ipykernel)",
   "language": "python",
   "name": "python3"
  },
  "language_info": {
   "codemirror_mode": {
    "name": "ipython",
    "version": 3
   },
   "file_extension": ".py",
   "mimetype": "text/x-python",
   "name": "python",
   "nbconvert_exporter": "python",
   "pygments_lexer": "ipython3",
   "version": "3.10.13"
  }
 },
 "nbformat": 4,
 "nbformat_minor": 5
}
