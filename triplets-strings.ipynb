{
 "cells": [
  {
   "cell_type": "markdown",
   "id": "398c350f-3b23-4d47-8e09-4190ec709d54",
   "metadata": {},
   "source": [
    "# secret string from triplets\n",
    "\n",
    "https://www.codewars.com/kata/53f40dff5f9d31b813000774/train/python\n",
    "\n",
    "A triplet here is defined as a sequence of three letters such that each letter occurs somewhere before the next in the given string. \"whi\" is a triplet for the string \"whatisup\"."
   ]
  },
  {
   "cell_type": "code",
   "execution_count": 1,
   "id": "6293c474-d374-4579-aa9c-af8698782f4e",
   "metadata": {},
   "outputs": [],
   "source": [
    "secret = \"whatisup\"\n",
    "triplets = [\n",
    "  ['t','u','p'],\n",
    "  ['w','h','i'],\n",
    "  ['t','s','u'],\n",
    "  ['a','t','s'],\n",
    "  ['h','a','p'],\n",
    "  ['t','i','s'],\n",
    "  ['w','h','s']\n",
    "]\n",
    "\n"
   ]
  },
  {
   "cell_type": "code",
   "execution_count": 7,
   "id": "c7beca74-1f2a-4f90-afe0-8b647968d89b",
   "metadata": {},
   "outputs": [
    {
     "data": {
      "text/plain": [
       "0"
      ]
     },
     "execution_count": 7,
     "metadata": {},
     "output_type": "execute_result"
    }
   ],
   "source": [
    "triplets.count('t')"
   ]
  },
  {
   "cell_type": "code",
   "execution_count": 18,
   "id": "8eada9d4-8856-40aa-a1fe-cce09bce4ee2",
   "metadata": {},
   "outputs": [
    {
     "data": {
      "text/plain": [
       "7"
      ]
     },
     "execution_count": 18,
     "metadata": {},
     "output_type": "execute_result"
    }
   ],
   "source": [
    "len(triplets)"
   ]
  },
  {
   "cell_type": "code",
   "execution_count": 24,
   "id": "edc112a3-659d-43c5-b14e-1519efa10aba",
   "metadata": {
    "editable": true,
    "slideshow": {
     "slide_type": ""
    },
    "tags": []
   },
   "outputs": [
    {
     "name": "stdout",
     "output_type": "stream",
     "text": [
      "['t', 'u', 'p', 'w', 'h', 'i', 's', 'a']\n"
     ]
    }
   ],
   "source": [
    "message = []\n",
    "\n",
    "\n",
    "# message = ''.join(triplets[0])\n",
    "\n",
    "# search for first letter in other triplets\n",
    "\n",
    "# message = ''\n",
    "\n",
    "for i in range(len(triplets)):\n",
    "\n",
    "    triplet = triplets[i]\n",
    "\n",
    "for i in range(len(triplets)):\n",
    "\n",
    "    triplet = triplets[i]\n",
    "\n",
    "    for j in range(3):\n",
    "        if triplet[j] not in message:\n",
    "            message.append(triplet[j])\n",
    "\n",
    "    \n",
    "        # print(f'({i}, {j}): {triplets[i][j]}')\n",
    "\n",
    "        # if triplets[i][j] in message:\n",
    "        #     index = message.index(triplets[i][j])\n",
    "\n",
    "        #     if triplet[i][index]\n",
    "        #     print('index: ', index)\n",
    "        #     if index < 2:\n",
    "        #         message.insert(index, triplets[i][j+1])      \n",
    "        # else:\n",
    "        #     message += triplets[i][j]           \n",
    "    # if triplets[i].count(message[0]) > 1:\n",
    "    #     for j in triplets[i]:\n",
    "    #         if triplets[i][j] == message[0]:\n",
    "                \n",
    "\n",
    "\n",
    "# for letter in triplet[1]:\n",
    "#     if letter in message:\n",
    "        \n",
    "\n",
    "# for j in range(3):\n",
    "#     message += triplets[0][j]\n",
    "\n",
    "\n",
    "\n",
    "# for i in range(len(triplets)):\n",
    "#     for j in range(3):\n",
    "#         message += triplets[i][j]\n",
    "\n",
    "for x in triplets:\n",
    "        for y in x:\n",
    "            secret_dict.setdefault(y, set()).update(x[x.index(y) - 1]) if x.index(y) != 0 else secret_dict.setdefault(y, set())\n",
    "\n",
    "print(message)"
   ]
  },
  {
   "cell_type": "code",
   "execution_count": 17,
   "id": "2eadc3d2-c106-488d-aed4-3472e25cd4c7",
   "metadata": {},
   "outputs": [],
   "source": [
    "# message.index('w')"
   ]
  },
  {
   "cell_type": "code",
   "execution_count": 26,
   "id": "155f76b6-e077-4fe4-9181-d35922f9a39e",
   "metadata": {},
   "outputs": [
    {
     "ename": "ValueError",
     "evalue": "'w' is not in list",
     "output_type": "error",
     "traceback": [
      "\u001b[0;31m---------------------------------------------------------------------------\u001b[0m",
      "\u001b[0;31mValueError\u001b[0m                                Traceback (most recent call last)",
      "Cell \u001b[0;32mIn[26], line 1\u001b[0m\n\u001b[0;32m----> 1\u001b[0m \u001b[43mtriplets\u001b[49m\u001b[38;5;241;43m.\u001b[39;49m\u001b[43mindex\u001b[49m\u001b[43m(\u001b[49m\u001b[38;5;124;43m'\u001b[39;49m\u001b[38;5;124;43mw\u001b[39;49m\u001b[38;5;124;43m'\u001b[39;49m\u001b[43m)\u001b[49m\n",
      "\u001b[0;31mValueError\u001b[0m: 'w' is not in list"
     ]
    }
   ],
   "source": [
    "triplets.index('w')"
   ]
  },
  {
   "cell_type": "code",
   "execution_count": 29,
   "id": "bb3cd849-6f3a-4c73-b83d-33ba000b9945",
   "metadata": {},
   "outputs": [
    {
     "data": {
      "text/plain": [
       "False"
      ]
     },
     "execution_count": 29,
     "metadata": {},
     "output_type": "execute_result"
    }
   ],
   "source": [
    "triplets[1] in message"
   ]
  },
  {
   "cell_type": "code",
   "execution_count": 28,
   "id": "4010f1a6-7649-41d2-9526-eb1cee652fdd",
   "metadata": {},
   "outputs": [
    {
     "data": {
      "text/plain": [
       "False"
      ]
     },
     "execution_count": 28,
     "metadata": {},
     "output_type": "execute_result"
    }
   ],
   "source": [
    "'t' in triplets[1]"
   ]
  },
  {
   "cell_type": "code",
   "execution_count": 39,
   "id": "a6ffa4cb-3124-4c2b-ac18-072a57d95f88",
   "metadata": {},
   "outputs": [
    {
     "data": {
      "text/plain": [
       "['w', 'h']"
      ]
     },
     "execution_count": 39,
     "metadata": {},
     "output_type": "execute_result"
    }
   ],
   "source": [
    "message[3:5]"
   ]
  },
  {
   "cell_type": "code",
   "execution_count": 40,
   "id": "d38a58cb-121d-482f-9cbe-7d67bc721370",
   "metadata": {},
   "outputs": [
    {
     "data": {
      "text/plain": [
       "False"
      ]
     },
     "execution_count": 40,
     "metadata": {},
     "output_type": "execute_result"
    }
   ],
   "source": [
    "message[3:5] in triplets[1]"
   ]
  },
  {
   "cell_type": "code",
   "execution_count": 67,
   "id": "800c0d22-02db-4af8-89c3-8e4d4d225955",
   "metadata": {
    "editable": true,
    "slideshow": {
     "slide_type": ""
    },
    "tags": []
   },
   "outputs": [
    {
     "name": "stdout",
     "output_type": "stream",
     "text": [
      "whatisup\n"
     ]
    }
   ],
   "source": [
    "secret_dict = {}\n",
    "\n",
    "for triplet in triplets:\n",
    "    for letter in triplet:\n",
    "\n",
    "        if triplet.index(letter) != 0:\n",
    "            secret_dict.setdefault(letter, set()).update(triplet[triplet.index(letter) - 1]) \n",
    "        \n",
    "        else:\n",
    "            secret_dict.setdefault(letter, set())\n",
    "    \n",
    "message = []\n",
    "\n",
    "while secret_dict:\n",
    "\n",
    "    # find index of letter with no dependencies\n",
    "    index = list(secret_dict.values()).index(set())\n",
    "    letter = list(secret_dict.items())[index][0]\n",
    "    message.append(letter)\n",
    "    \n",
    "    secret_dict.pop(letter)\n",
    "\n",
    "    for key, values in secret_dict.items():\n",
    "        if letter in values:\n",
    "            values.remove(letter)\n",
    "\n",
    "message_string = ''.join(message)\n",
    "\n",
    "print(message_string)"
   ]
  },
  {
   "cell_type": "code",
   "execution_count": 63,
   "id": "2e82575f-a30a-4968-b537-fc4fcd467281",
   "metadata": {},
   "outputs": [
    {
     "data": {
      "text/plain": [
       "{'t': {'a'},\n",
       " 'u': {'s', 't'},\n",
       " 'p': {'a', 'u'},\n",
       " 'h': set(),\n",
       " 'i': {'h', 't'},\n",
       " 's': {'h', 'i', 't'},\n",
       " 'a': {'h'}}"
      ]
     },
     "execution_count": 63,
     "metadata": {},
     "output_type": "execute_result"
    }
   ],
   "source": [
    "\n",
    "\n",
    "secret_dict"
   ]
  },
  {
   "cell_type": "code",
   "execution_count": 51,
   "id": "37b6d54e-6801-4f25-9f2c-72120b4ab8bf",
   "metadata": {},
   "outputs": [
    {
     "data": {
      "text/plain": [
       "3"
      ]
     },
     "execution_count": 51,
     "metadata": {},
     "output_type": "execute_result"
    }
   ],
   "source": [
    "list(secret_dict.values()).index(set())"
   ]
  },
  {
   "cell_type": "code",
   "execution_count": 50,
   "id": "1ddd3112-4987-4a6c-aeae-9223b8b2e956",
   "metadata": {},
   "outputs": [
    {
     "data": {
      "text/plain": [
       "'w'"
      ]
     },
     "execution_count": 50,
     "metadata": {},
     "output_type": "execute_result"
    }
   ],
   "source": [
    "list(secret_dict.items())[3][0]"
   ]
  },
  {
   "cell_type": "code",
   "execution_count": null,
   "id": "356aae02-7d31-4653-86f1-ea552ea83ba2",
   "metadata": {},
   "outputs": [],
   "source": []
  }
 ],
 "metadata": {
  "kernelspec": {
   "display_name": "Python 3 (ipykernel)",
   "language": "python",
   "name": "python3"
  },
  "language_info": {
   "codemirror_mode": {
    "name": "ipython",
    "version": 3
   },
   "file_extension": ".py",
   "mimetype": "text/x-python",
   "name": "python",
   "nbconvert_exporter": "python",
   "pygments_lexer": "ipython3",
   "version": "3.10.13"
  }
 },
 "nbformat": 4,
 "nbformat_minor": 5
}
