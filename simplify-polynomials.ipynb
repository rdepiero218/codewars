{
 "cells": [
  {
   "cell_type": "markdown",
   "id": "ef0c1a82-350b-4a49-b776-59982b0ddb18",
   "metadata": {},
   "source": [
    "# simplify polynomials\n",
    "\n",
    "https://www.codewars.com/kata/55f89832ac9a66518f000118/train/python"
   ]
  },
  {
   "cell_type": "markdown",
   "id": "bbd4c4cf-59a4-4ad9-954f-2e3c4a8b85a5",
   "metadata": {
    "jp-MarkdownHeadingCollapsed": true
   },
   "source": [
    "### Test cases"
   ]
  },
  {
   "cell_type": "code",
   "execution_count": null,
   "id": "45209cf1-5f91-4249-89ac-bf89787745b3",
   "metadata": {},
   "outputs": [],
   "source": [
    "# test.it(\"Test reduction by equivalence\")\n",
    "# test.assert_equals(simplify(\"dc+dcba\"), \"cd+abcd\")\n",
    "\n",
    "# test.assert_equals(simplify(\"2xy-yx\"),\"xy\")\n",
    "\n",
    "# test.assert_equals(simplify(\"-a+5ab+3a-c-2a\"),\"-c+5ab\")\n",
    "\n",
    "# test.it(\"Test monomial length ordering\")\n",
    "# test.assert_equals(simplify(\"-abc+3a+2ac\"),\"3a+2ac-abc\")\n",
    "\n",
    "# test.assert_equals(simplify(\"xyz-xz\"),\"-xz+xyz\")\n",
    "\n",
    "# test.it(\"Test lexicographic ordering\")\n",
    "# test.assert_equals(simplify(\"a+ca-ab\"),\"a-ab+ac\")\n",
    "\n",
    "# test.assert_equals(simplify(\"xzy+zby\"),\"byz+xyz\")\n",
    "\n",
    "# test.it(\"Test no leading +\")\n",
    "# test.assert_equals(simplify(\"-y+x\"),\"x-y\")\n",
    "\n",
    "# test.assert_equals(simplify(\"y-x\"),\"-x+y\")"
   ]
  },
  {
   "cell_type": "code",
   "execution_count": null,
   "id": "e033e33f-4046-467a-9ada-331d4d4a798c",
   "metadata": {},
   "outputs": [],
   "source": [
    "\n"
   ]
  },
  {
   "cell_type": "markdown",
   "id": "b08a29f2-bac3-469a-8af7-131ebfb5e10e",
   "metadata": {},
   "source": [
    "### First full attempt at submission\n",
    "\n",
    "Fails some tests not sure what's happening here"
   ]
  },
  {
   "cell_type": "code",
   "execution_count": 38,
   "id": "ecfbdd29-8b6a-428e-a500-66237356e357",
   "metadata": {},
   "outputs": [
    {
     "name": "stdout",
     "output_type": "stream",
     "text": [
      "vars:  ['fk', 'kv', 'yk', 'kf', 'qk', 'yqv', 'vqy', 'ky', 'kf', 'yvqkf']\n",
      "coeffs ['-8', '+5', '-4', '+7', '-', '+', '-3', '+4', '+4', '+']\n",
      "post cleaning\n",
      "vars:  ['fk', 'kv', 'ky', 'fk', 'kq', 'qvy', 'qvy', 'ky', 'fk', 'fkqvy']\n",
      "coeffs [-8, 5, -4, 7, -1, 1, -3, 4, 4, 1]\n",
      "dictionary of terms - unsorted\n",
      "{'fk': 3, 'kv': 5, 'ky': 0, 'kq': -1, 'qvy': -2, 'fkqvy': 1}\n",
      "grouped terms by number of variables\n",
      "[[], ['fk', 'kq', 'kv', 'ky'], ['qvy'], [], ['fkqvy']]\n",
      "dictionary of terms - sorted and removing 0 coeff terms\n",
      "{'fk': 3, 'kq': -1, 'kv': 5, 'qvy': -2, 'fkqvy': 1}\n",
      "list of terms for printing\n",
      "[('fk', 3), ('kq', -1), ('kv', 5), ('qvy', -2), ('fkqvy', 1)]\n"
     ]
    },
    {
     "data": {
      "text/plain": [
       "'3fk-kq+5kv-2qvy+fkqvy'"
      ]
     },
     "execution_count": 38,
     "metadata": {},
     "output_type": "execute_result"
    }
   ],
   "source": [
    "def simplify(poly):\n",
    "    import re\n",
    "\n",
    "\n",
    "    if poly[0].isalpha():\n",
    "        poly = '+' + poly\n",
    "\n",
    "    vars = re.findall(r'[^(-?\\d*)][(a-z)]*', poly)\n",
    "    coeffs = re.findall(r'-?[0-9]*[^((a-z))]+', poly)\n",
    "\n",
    "    print('vars: ', vars)\n",
    "    print('coeffs', coeffs)\n",
    "\n",
    "    # SORT VARIABLES AND REPLACE +/- WITH VALUES\n",
    "    for i in range(len(coeffs)):\n",
    "        # alphabetical order of variables\n",
    "        term = list(vars[i])\n",
    "        term.sort()\n",
    "        vars[i] = ''.join(term)\n",
    "        # handle special case\n",
    "        if '+-' in coeffs[i] or '-+'  in coeffs[i]:\n",
    "            coeffs[i] = coeffs[i].replace('+','')\n",
    "        # account for - and + in polynomial\n",
    "\n",
    "        if coeffs[i] == '-':\n",
    "            coeffs[i] = -1\n",
    "        elif coeffs[i] == '+':\n",
    "            coeffs[i] = 1\n",
    "        else:\n",
    "            coeffs[i] = int(coeffs[i])\n",
    "\n",
    "    print('post cleaning')\n",
    "    print('vars: ', vars)\n",
    "    print('coeffs', coeffs)\n",
    "    \n",
    "    # store terms in dictionary with values\n",
    "    terms_dict = {}\n",
    "    for i in range(len(vars)):\n",
    "        if vars[i] in terms_dict.keys():\n",
    "            terms_dict[vars[i]] += coeffs[i]\n",
    "        else:\n",
    "            terms_dict.update({vars[i] : coeffs[i]})\n",
    "   \n",
    "    print('dictionary of terms - unsorted')\n",
    "    print(terms_dict)\n",
    "    # remove unnecessary terms\n",
    "    term_groups = []\n",
    "    keys = list(terms_dict.keys())\n",
    "    L = 1\n",
    "\n",
    "    while keys:\n",
    "        sub_group = [k for k in keys if len(k) == L ]\n",
    "        sub_group.sort()\n",
    "        for key in sub_group:\n",
    "            keys.pop(keys.index(key))\n",
    "\n",
    "        term_groups.append(sub_group)\n",
    "        L += 1\n",
    "\n",
    "    print('grouped terms by number of variables')\n",
    "    print(term_groups)\n",
    "    \n",
    "    sorted_dict = {}\n",
    "\n",
    "    for i in range(len(term_groups)):\n",
    "        for j in range(len(term_groups[i])):\n",
    "            sorted_dict.update({term_groups[i][j] : terms_dict[term_groups[i][j]]})\n",
    "\n",
    "    sorted_terms = list(sorted_dict.items())\n",
    "\n",
    "    for i in range(len(sorted_terms)):\n",
    "        if sorted_terms[i][1] == 0:\n",
    "            sorted_dict.pop(sorted_terms[i][0])\n",
    "\n",
    "    print('dictionary of terms - sorted and removing 0 coeff terms')\n",
    "    print(sorted_dict)\n",
    "    \n",
    "    poly_terms = list(sorted_dict.items())\n",
    "\n",
    "    print('list of terms for printing')\n",
    "    print(poly_terms)\n",
    "    \n",
    "\n",
    "    ## print the simplified polynomial\n",
    "    simple_poly = ''\n",
    "\n",
    "    for i in range(len(poly_terms)):\n",
    "        if poly_terms[i][1] == -1:\n",
    "            simple_poly += '-' + str(poly_terms[i][0])\n",
    "        elif poly_terms[i][1] == 1:\n",
    "            simple_poly += '+' + str(poly_terms[i][0])\n",
    "        elif poly_terms[i][1] < -1:\n",
    "            simple_poly += str(poly_terms[i][1]) + poly_terms[i][0]\n",
    "        else:\n",
    "            simple_poly += '+' + str(poly_terms[i][1]) + poly_terms[i][0]\n",
    "   \n",
    "    # remove leading + \n",
    "    if simple_poly[0] == '+':\n",
    "        simple_poly = simple_poly.replace('+', '', 1)\n",
    "    \n",
    "    return simple_poly\n",
    "\n",
    "### Testing\n",
    "poly = '-8fk+5kv-4yk+7kf-qk+yqv-3vqy+4ky+4kf+yvqkf'\n",
    "simplify(poly)"
   ]
  },
  {
   "cell_type": "code",
   "execution_count": 18,
   "id": "7cab0b33-a02d-45da-b86f-43f4105189ad",
   "metadata": {},
   "outputs": [
    {
     "name": "stdout",
     "output_type": "stream",
     "text": [
      "vars:  ['a', 'ab', 'a', 'c', 'a']\n",
      "coeffs ['-', '+5', '+3', '-', '-2']\n",
      "post cleaning\n",
      "vars:  ['a', 'ab', 'a', 'c', 'a']\n",
      "coeffs [-1, 5, 3, -1, -2]\n",
      "dictionary of terms - unsorted\n",
      "{'a': 0, 'ab': 5, 'c': -1}\n",
      "grouped terms by variables\n"
     ]
    },
    {
     "ename": "UnboundLocalError",
     "evalue": "local variable 'sorted_dict' referenced before assignment",
     "output_type": "error",
     "traceback": [
      "\u001b[0;31m---------------------------------------------------------------------------\u001b[0m",
      "\u001b[0;31mUnboundLocalError\u001b[0m                         Traceback (most recent call last)",
      "Cell \u001b[0;32mIn[18], line 2\u001b[0m\n\u001b[1;32m      1\u001b[0m poly \u001b[38;5;241m=\u001b[39m \u001b[38;5;124m'\u001b[39m\u001b[38;5;124m-a+5ab+3a-c-2a\u001b[39m\u001b[38;5;124m'\u001b[39m\n\u001b[0;32m----> 2\u001b[0m \u001b[43msimplify\u001b[49m\u001b[43m(\u001b[49m\u001b[43mpoly\u001b[49m\u001b[43m)\u001b[49m\n",
      "Cell \u001b[0;32mIn[17], line 61\u001b[0m, in \u001b[0;36msimplify\u001b[0;34m(poly)\u001b[0m\n\u001b[1;32m     58\u001b[0m     L \u001b[38;5;241m+\u001b[39m\u001b[38;5;241m=\u001b[39m \u001b[38;5;241m1\u001b[39m\n\u001b[1;32m     60\u001b[0m \u001b[38;5;28mprint\u001b[39m(\u001b[38;5;124m'\u001b[39m\u001b[38;5;124mgrouped terms by variables\u001b[39m\u001b[38;5;124m'\u001b[39m)\n\u001b[0;32m---> 61\u001b[0m \u001b[38;5;28mprint\u001b[39m(\u001b[43msorted_dict\u001b[49m)\n\u001b[1;32m     62\u001b[0m sorted_dict \u001b[38;5;241m=\u001b[39m {}\n\u001b[1;32m     64\u001b[0m \u001b[38;5;28;01mfor\u001b[39;00m i \u001b[38;5;129;01min\u001b[39;00m \u001b[38;5;28mrange\u001b[39m(\u001b[38;5;28mlen\u001b[39m(term_groups)):\n",
      "\u001b[0;31mUnboundLocalError\u001b[0m: local variable 'sorted_dict' referenced before assignment"
     ]
    }
   ],
   "source": [
    "## removing print statements\n",
    "\n",
    "def simplify(poly):\n",
    "    import re\n",
    "    \n",
    "    if poly[0].isalpha():\n",
    "        poly = '+' + poly\n",
    "\n",
    "    vars = re.findall(r'[^(-?\\d*)][(a-z)]*', poly)\n",
    "    coeffs = re.findall(r'-?[0-9]*[^((a-z))]+', poly)\n",
    "\n",
    "    # SORT VARIABLES AND REPLACE +/- WITH VALUES\n",
    "    for i in range(len(coeffs)):\n",
    "        # alphabetical order of variables\n",
    "        term = list(vars[i])\n",
    "        term.sort()\n",
    "        vars[i] = ''.join(term)\n",
    "        # handle special case\n",
    "        if '+-' in coeffs[i] or '-+'  in coeffs[i]:\n",
    "            coeffs[i] = coeffs[i].replace('+','')\n",
    "        # account for - and + in polynomial\n",
    "        if coeffs[i] == '-':\n",
    "            coeffs[i] = -1\n",
    "        elif coeffs[i] == '+':\n",
    "            coeffs[i] = 1\n",
    "        else:\n",
    "            coeffs[i] = int(coeffs[i])\n",
    "\n",
    "    # store terms in dictionary with values\n",
    "    terms_dict = {}\n",
    "    for i in range(len(vars)):\n",
    "        if vars[i] in terms_dict.keys():\n",
    "            terms_dict[vars[i]] += coeffs[i]  # WHERE COEFFS ARE ADDED FOR LIKE TERMS\n",
    "        else:\n",
    "            terms_dict.update({vars[i] : coeffs[i]})\n",
    "\n",
    "    # ORGANIZE TERMS BY NUMBER OF VARIABLES & SORT\n",
    "    term_groups = []\n",
    "    keys = list(terms_dict.keys())\n",
    "    L = 1\n",
    "\n",
    "    while keys:\n",
    "        sub_group = [k for k in keys if len(k) == L ]\n",
    "        sub_group.sort()\n",
    "        for key in sub_group:\n",
    "            keys.pop(keys.index(key))\n",
    "\n",
    "        term_groups.append(sub_group)\n",
    "        L += 1\n",
    "\n",
    "    # STORE SORTED TERMS IN DICTIONARY\n",
    "    sorted_dict = {}\n",
    "\n",
    "    for i in range(len(term_groups)):\n",
    "        for j in range(len(term_groups[i])):\n",
    "            sorted_dict.update({term_groups[i][j] : terms_dict[term_groups[i][j]]})\n",
    "\n",
    "    sorted_terms = list(sorted_dict.items())\n",
    "\n",
    "    for i in range(len(sorted_terms)):\n",
    "        if sorted_terms[i][1] == 0:\n",
    "            sorted_dict.pop(sorted_terms[i][0])\n",
    "\n",
    "    # PRINTING THE SIMPLIFIED POLYNOMIAL\n",
    "    poly_terms = list(sorted_dict.items())\n",
    "\n",
    "    simple_poly = ''\n",
    "\n",
    "    for i in range(len(poly_terms)):\n",
    "        if poly_terms[i][1] == -1:\n",
    "            simple_poly += '-' + str(poly_terms[i][0])\n",
    "        elif poly_terms[i][1] == 1:\n",
    "            simple_poly += '+' + str(poly_terms[i][0])\n",
    "        elif poly_terms[i][1] < -1:\n",
    "            simple_poly += str(poly_terms[i][1]) + poly_terms[i][0]\n",
    "        else:\n",
    "            simple_poly += '+' + str(poly_terms[i][1]) + poly_terms[i][0]\n",
    "   \n",
    "    # remove leading + \n",
    "    if simple_poly[0] == '+':\n",
    "        simple_poly = simple_poly.replace('+', '', 1)\n",
    "    \n",
    "    return simple_poly\n"
   ]
  },
  {
   "cell_type": "markdown",
   "id": "294ffa44-3aba-4776-aab3-c6e45efe6d24",
   "metadata": {
    "jp-MarkdownHeadingCollapsed": true
   },
   "source": [
    "### Original attempts"
   ]
  },
  {
   "cell_type": "code",
   "execution_count": null,
   "id": "4cb01732-c587-49a3-9321-480a767308ce",
   "metadata": {},
   "outputs": [],
   "source": []
  },
  {
   "cell_type": "code",
   "execution_count": null,
   "id": "35329892-dcb0-44c2-b7cf-9ca4611a8ecf",
   "metadata": {},
   "outputs": [],
   "source": [
    "import re\n",
    "# poly = 'dc+dcba'\n",
    "\n",
    "# poly = \"2xy-yx\"\n",
    "\n",
    "poly = '-a+5ba+3a-c-2a'\n",
    "\n",
    "# poly = '-a+10a-2a'\n",
    "# parts = list(poly.partition('+'))\n",
    "\n",
    "parts = re.split('\\s?([+-])\\s?', poly)\n",
    "\n",
    "if '' in parts: \n",
    "    parts.remove('')\n",
    "\n",
    "# print(parts)\n",
    "terms = []\n",
    "\n",
    "# for part in parts:\n",
    "#     print(part)\n",
    "#     terms.append(re.split('(-?\\d*)[^(a-z)]', parts[i]))\n",
    "    \n",
    "# sort terms\n",
    "for i in range(len(parts)):\n",
    "    term = list(parts[i])\n",
    "    # term = re.split('(-?\\d*)[^(a-z)]', parts[i])\n",
    "    term.sort()\n",
    "    # print(term)\n",
    "    terms.append(''.join(term))\n",
    "\n",
    "print('sorted terms:', terms)\n",
    "\n",
    "# for i in range(1,len(terms)):\n",
    "#     if terms[i-1] != '+' or terms[i-1] != '-':\n",
    "#         if terms[i-1] == terms[i]:\n",
    "            \n",
    "            \n",
    "#             print('do the math')\n",
    "\n",
    "# # print the simplified poly\n",
    "# simple_poly = ''\n",
    "# for term in terms:\n",
    "#     simple_poly += ''.join(term)\n",
    "\n",
    "\n",
    "# print(simple_poly)"
   ]
  },
  {
   "cell_type": "code",
   "execution_count": null,
   "id": "e5f02b87-8d01-474c-8007-57c0ed807ee8",
   "metadata": {},
   "outputs": [],
   "source": [
    "poly = '-a+5ba+3a-c-2a'\n",
    "\n",
    "parts = re.split('\\s?([+-])\\s?', poly)\n",
    "print(parts)\n",
    "\n",
    "terms = []\n",
    "\n",
    "for i in range(len(parts)):\n",
    "    if parts[i] == '' or parts[i] == '+':\n",
    "        parts.pop(i)"
   ]
  },
  {
   "cell_type": "markdown",
   "id": "bde71f1d-2a1a-41d8-9af3-49cf3a0cff84",
   "metadata": {},
   "source": [
    "### Full Code attempt here"
   ]
  },
  {
   "cell_type": "code",
   "execution_count": 4,
   "id": "42dfdc1f-a8eb-4a96-91bc-0e6b5ff0d66f",
   "metadata": {},
   "outputs": [],
   "source": [
    "### Test cases\n",
    "\n",
    "# poly = '-a+5ba+3a-c-2a'\n",
    "\n",
    "# poly = 'dc+dcba'\n",
    "\n",
    "# poly = 'y-x'\n",
    "# poly = '+cd+abcd'\n",
    "# poly = '2xy-yx'\n",
    "\n",
    "## more complicated tests (failing these currently)\n",
    "# poly = '3a+b+4ac+bc-ab+3a-cb-a-a' # ans: '4a+b-ab+4ac'\n",
    "# poly = '+n-5hn+7tjhn-4nh-3n-6hnjt+2jhn+9hn' # ans: -2n+2hjn+hjnt\n",
    "# poly = '-8fk+5kv-4yk+7kf-qk+yqv-3vqy+4ky+4kf+yvqkf' # ans: 3fk-kq+5kv-2qvy+fkqvy"
   ]
  },
  {
   "cell_type": "code",
   "execution_count": 6,
   "id": "a781006f-5005-485e-bea4-644b4ac92ddf",
   "metadata": {},
   "outputs": [
    {
     "name": "stdout",
     "output_type": "stream",
     "text": [
      "vars:  ['a', 'ab', 'a', 'c', 'a']\n",
      "coeffs ['+', '+5', '+3', '-', '-2']\n",
      "vars:  ['a', 'ab', 'a', 'c', 'a']\n",
      "coeffs [1, 5, 3, -1, -2]\n",
      "{'a': 2, 'ab': 5, 'c': -1}\n",
      "simplified:  2a-c+5ab\n"
     ]
    }
   ],
   "source": [
    "# Full code here\n",
    "poly = 'a+5ab+3a-c-2a' # failed\n",
    "# poly = '-abc+3a+2ac' # failed\n",
    "\n",
    "## case where people are fucking stupid and don't enter it correctly at all.\n",
    "# poly = '3fk-kq5kv-2qvy+fkqvy'\n",
    "\n",
    "import re\n",
    "\n",
    "if poly[0].isalpha():\n",
    "    poly = '+' + poly\n",
    "\n",
    "vars = re.findall(r'[^(-?\\d*)][(a-z)]*', poly)\n",
    "coeffs = re.findall(r'-?[0-9]*[^((a-z))]+', poly)\n",
    "\n",
    "print('vars: ', vars)\n",
    "print('coeffs', coeffs)\n",
    "\n",
    "for i in range(len(coeffs)):\n",
    "    # alphabetical order of variables\n",
    "    term = list(vars[i])\n",
    "    term.sort()\n",
    "    vars[i] = ''.join(term)\n",
    "    # handle special case\n",
    "    if '+-' in coeffs[i] or '-+'  in coeffs[i]:\n",
    "        coeffs[i] = coeffs[i].replace('+','')\n",
    "    # account for - and + in polynomial\n",
    "\n",
    "    if coeffs[i] == '-':\n",
    "        coeffs[i] = -1\n",
    "    elif coeffs[i] == '+':\n",
    "        coeffs[i] = 1\n",
    "    else:\n",
    "        coeffs[i] = int(coeffs[i])\n",
    "\n",
    "print('vars: ', vars)\n",
    "print('coeffs', coeffs)\n",
    "\n",
    "# store terms in dictionary with values\n",
    "terms_dict = {}\n",
    "for i in range(len(vars)):\n",
    "    if vars[i] in terms_dict.keys():\n",
    "        terms_dict[vars[i]] += coeffs[i]\n",
    "    else:\n",
    "        terms_dict.update({vars[i] : coeffs[i]})\n",
    "        \n",
    "print(terms_dict)\n",
    "\n",
    "# remove unnecessary terms\n",
    "term_groups = []\n",
    "keys = list(terms_dict.keys())\n",
    "L = 1\n",
    "\n",
    "while keys:\n",
    "    sub_group = [k for k in keys if len(k) == L ]\n",
    "    sub_group.sort()\n",
    "    for key in sub_group:\n",
    "        keys.pop(keys.index(key))\n",
    "\n",
    "    term_groups.append(sub_group)\n",
    "    L += 1\n",
    "\n",
    "sorted_dict = {}\n",
    "\n",
    "for i in range(len(term_groups)):\n",
    "    for j in range(len(term_groups[i])):\n",
    "        sorted_dict.update({term_groups[i][j] : terms_dict[term_groups[i][j]]})\n",
    "\n",
    "sorted_terms = list(sorted_dict.items())\n",
    "\n",
    "for i in range(len(sorted_terms)):\n",
    "    if sorted_terms[i][1] == 0:\n",
    "        sorted_dict.pop(sorted_terms[i][0])\n",
    " \n",
    "poly_terms = list(sorted_dict.items())\n",
    "\n",
    "## print the simplified polynomial\n",
    "simple_poly = ''\n",
    "\n",
    "for i in range(len(poly_terms)):\n",
    "    if poly_terms[i][1] == -1:\n",
    "        simple_poly += '-' + str(poly_terms[i][0])\n",
    "    elif poly_terms[i][1] == 1:\n",
    "        simple_poly += '+' + str(poly_terms[i][0])\n",
    "    else:\n",
    "        simple_poly += '+' + str(poly_terms[i][1]) + poly_terms[i][0]\n",
    "\n",
    "if simple_poly[0] == '+':\n",
    "    simple_poly = simple_poly.replace('+', '', 1)\n",
    "\n",
    "print('simplified: ', simple_poly)"
   ]
  },
  {
   "cell_type": "code",
   "execution_count": 27,
   "id": "fb9e9cd5-b3d1-4849-9c1f-d629aff8f49e",
   "metadata": {},
   "outputs": [
    {
     "data": {
      "text/plain": [
       "'cd+abcd'"
      ]
     },
     "execution_count": 27,
     "metadata": {},
     "output_type": "execute_result"
    }
   ],
   "source": [
    "simple_poly.replace('+', '', 1)"
   ]
  },
  {
   "cell_type": "code",
   "execution_count": null,
   "id": "dfadc1ea-db1e-42a0-9ec0-5a5cbb38b99c",
   "metadata": {},
   "outputs": [],
   "source": [
    "# remove terms with 0 coefficient value\n",
    "\n",
    "mydict = {'a': 0, 'ab': 5, 'c': -1}\n",
    "dictitems = list(mydict.items())\n",
    "for i in range(len(dictitems)):\n",
    "    if dictitems[i][1] == 0:\n",
    "        mydict.pop(dictitems[i][0])\n",
    "mydict"
   ]
  },
  {
   "cell_type": "code",
   "execution_count": null,
   "id": "aa489f33-d9be-4c5b-bb8d-c82a667dbef2",
   "metadata": {},
   "outputs": [],
   "source": [
    "mydict = {'a': 0, 'abc': 2, 'ab': 5, 'bc': -1}\n",
    "sort_keys =list(mydict.keys())\n",
    "sort_keys.sort()\n",
    "sorted_terms = {i: mydict[i] for i in sort_keys}\n",
    "print(sorted_terms)\n",
    "\n",
    "len(sort_keys[2])"
   ]
  },
  {
   "cell_type": "code",
   "execution_count": null,
   "id": "4e8a7a70-2f2c-4d30-90d2-84f53a01fb59",
   "metadata": {},
   "outputs": [],
   "source": [
    "## create list of dictionaries of terms of each length\n",
    "my_dict = {'a': 0, 'ab': 5, 'c': -1, 'd' : 2, 'abc': 4}\n",
    "term_groups = []\n",
    "keys = list(my_dict.keys())\n",
    "L = 1\n",
    "\n",
    "while keys:\n",
    "    sub_group = [k for k in keys if len(k) == L ]\n",
    "\n",
    "    for key in sub_group:\n",
    "        keys.pop(keys.index(key))\n",
    "\n",
    "    term_groups.append(sub_group)\n",
    "    L += 1\n",
    "\n",
    "sorted_dict = {}\n",
    "\n",
    "for i in range(len(term_groups)):\n",
    "    for j in range(len(term_groups[i])):\n",
    "        sorted_dict.update({term_groups[i][j] : my_dict[term_groups[i][j]]})\n",
    "\n",
    "sorted_terms = list(sorted_dict.items())\n",
    "\n",
    "for i in range(len(sorted_terms)):\n",
    "    if sorted_terms[i][1] == 0:\n",
    "        sorted_dict.pop(sorted_terms[i][0])\n",
    " \n",
    "poly_terms = list(sorted_dict.items())\n",
    "simple_poly = ''\n",
    "\n",
    "for i in range(len(poly_terms)):\n",
    "    if poly_terms[i][1] == -1:\n",
    "        simple_poly += '-' + str(poly_terms[i][0])\n",
    "    else:\n",
    "        simple_poly += '+' + str(poly_terms[i][1]) + poly_terms[i][0]\n",
    "    \n",
    "simple_poly"
   ]
  },
  {
   "cell_type": "code",
   "execution_count": null,
   "id": "91c0cdc4-fded-4b8b-90c4-353c11978fd1",
   "metadata": {},
   "outputs": [],
   "source": [
    "## need to sort length of variables in dict\n",
    "items[0][1]"
   ]
  },
  {
   "cell_type": "code",
   "execution_count": null,
   "id": "0781c090-cde2-4be1-8120-2d8dba09953c",
   "metadata": {},
   "outputs": [],
   "source": []
  },
  {
   "cell_type": "code",
   "execution_count": null,
   "id": "d4ecb699-0d02-4965-ad95-8c9ba476f136",
   "metadata": {},
   "outputs": [],
   "source": [
    "z = ['a', 'ab', 'a', 'c', 'a']\n",
    "print(z)"
   ]
  },
  {
   "cell_type": "code",
   "execution_count": null,
   "id": "111450fb-81ec-4c80-98b6-7f3b13970a92",
   "metadata": {},
   "outputs": [],
   "source": [
    "re.findall(r'-?[0-9]*[^(+(a-z))]+', poly)"
   ]
  },
  {
   "cell_type": "code",
   "execution_count": null,
   "id": "9069a2e9-ab77-462a-a5dc-72a0ab6ccdec",
   "metadata": {},
   "outputs": [],
   "source": [
    "terms_dict = {'a' : -1}\n",
    "print(terms_dict)\n",
    "terms_dict['a'] = 2\n",
    "print(terms_dict)"
   ]
  },
  {
   "cell_type": "code",
   "execution_count": 14,
   "id": "a3f8f9ae-a082-41d7-9baa-d8025e4807f3",
   "metadata": {},
   "outputs": [
    {
     "name": "stdout",
     "output_type": "stream",
     "text": [
      "+a+10a+a\n"
     ]
    }
   ],
   "source": [
    "poly = 'a+10a+a'\n",
    "\n",
    "if poly[0].isalpha():\n",
    "    poly = '+' + poly\n",
    "\n",
    "print(poly)"
   ]
  },
  {
   "cell_type": "code",
   "execution_count": 32,
   "id": "64144232-5ecd-4958-b734-9c37681267c9",
   "metadata": {},
   "outputs": [
    {
     "name": "stdout",
     "output_type": "stream",
     "text": [
      "+a+10a+a\n",
      "coeffs:  ['+', '+10', '+']\n",
      "var:  a\n",
      "[1, 10, 1]\n",
      "12a\n"
     ]
    }
   ],
   "source": [
    "## can we add together a simple one \n",
    "\n",
    "poly = 'a+10a+a'\n",
    "\n",
    "if poly[0].isalpha():\n",
    "    poly = '+' + poly\n",
    "\n",
    "print(poly)\n",
    "\n",
    "var = re.findall(r'[^(-?\\d*)][(a-z)]*', poly)[0]\n",
    "coeffs = re.findall(r'-?[0-9]*[^((a-z))]+', poly)\n",
    "\n",
    "print('coeffs: ', coeffs)\n",
    "\n",
    "for i in range(len(coeffs)):\n",
    "    if coeffs[i] == '-':\n",
    "        coeffs[i] = -1\n",
    "    elif coeffs[i] == '+':\n",
    "        coeffs[i] = 1\n",
    "    else:\n",
    "        coeffs[i] = int(coeffs[i])\n",
    "\n",
    "# coeffs\n",
    "\n",
    "# add coefficients\n",
    "sum_coeffs = sum(coeffs)\n",
    "\n",
    "if sum_coeffs == 1:\n",
    "    term = var\n",
    "elif sum_coeffs == -1:\n",
    "    term = '-' + var\n",
    "else:\n",
    "    term = str(sum_coeffs) + var \n",
    "\n",
    "print('var: ', var)\n",
    "print(coeffs)\n",
    "print(term)\n",
    "\n",
    "    # coeff = int(coeff)"
   ]
  },
  {
   "cell_type": "code",
   "execution_count": null,
   "id": "84b06afc-fc59-40ed-87c4-c8b67ba933d5",
   "metadata": {},
   "outputs": [],
   "source": [
    "test = '-'\n",
    "\n",
    "test.replace('-', '-1')"
   ]
  },
  {
   "cell_type": "code",
   "execution_count": null,
   "id": "64b0e9fd-4bd1-44b8-b3fb-732499a4ad87",
   "metadata": {},
   "outputs": [],
   "source": [
    "poly = '-a+10a-2a'\n",
    "re.findall(r'[^(-?\\d*)][(a-z)]*', poly)"
   ]
  },
  {
   "cell_type": "code",
   "execution_count": null,
   "id": "962e0a37-ef74-49bb-b6ca-bff8c6dfb5d5",
   "metadata": {},
   "outputs": [],
   "source": [
    "test = ['-', 'a', '+', '3a', '-', '2a']\n",
    "vals = []\n",
    "for i in range(len(test)):\n",
    "    if test[i] == '-':\n",
    "        vals.append(-1)\n",
    "    else:"
   ]
  },
  {
   "cell_type": "code",
   "execution_count": null,
   "id": "4f2dcdf1-11f4-4b74-92c6-75c0a75f481f",
   "metadata": {},
   "outputs": [],
   "source": [
    "parts[3]"
   ]
  },
  {
   "cell_type": "code",
   "execution_count": null,
   "id": "f9fe723d-b753-4a8f-8e9c-16ab060ec086",
   "metadata": {},
   "outputs": [],
   "source": [
    "simple_poly"
   ]
  },
  {
   "cell_type": "code",
   "execution_count": null,
   "id": "9846c6e3-cd0d-4220-a34b-2db746b419ef",
   "metadata": {},
   "outputs": [],
   "source": [
    "poly.partition('+')"
   ]
  },
  {
   "cell_type": "code",
   "execution_count": null,
   "id": "953872e5-4b9a-48b0-a9d4-5b72fb8573aa",
   "metadata": {},
   "outputs": [],
   "source": [
    "poly = \"-2xy-yx\"\n",
    "poly.partition('-')"
   ]
  },
  {
   "cell_type": "code",
   "execution_count": 39,
   "id": "7b6206a0-5442-47e2-931d-caab63124bf8",
   "metadata": {},
   "outputs": [
    {
     "data": {
      "text/plain": [
       "['-', '2xy', '-', 'yx']"
      ]
     },
     "execution_count": 39,
     "metadata": {},
     "output_type": "execute_result"
    }
   ],
   "source": [
    "poly = \"-2xy-yx\"\n",
    "\n",
    "import re\n",
    "\n",
    "terms = re.split('\\s?([+-])\\s?', poly)\n",
    "terms.remove('')\n",
    "terms"
   ]
  },
  {
   "cell_type": "code",
   "execution_count": 42,
   "id": "23b38bab-59dd-4ec2-973b-08c99c88215a",
   "metadata": {},
   "outputs": [
    {
     "data": {
      "text/plain": [
       "['',\n",
       " '-',\n",
       " '',\n",
       " None,\n",
       " '2',\n",
       " None,\n",
       " 'x',\n",
       " None,\n",
       " 'y',\n",
       " '-',\n",
       " '',\n",
       " None,\n",
       " 'y',\n",
       " None,\n",
       " 'x',\n",
       " None,\n",
       " '']"
      ]
     },
     "execution_count": 42,
     "metadata": {},
     "output_type": "execute_result"
    }
   ],
   "source": [
    "poly = \"-2xy-yx\"\n",
    "\n",
    "import re\n",
    "\n",
    "terms = re.split('([+-])?', poly)\n",
    "# terms.remove('')\n",
    "terms"
   ]
  },
  {
   "cell_type": "code",
   "execution_count": null,
   "id": "ad945b70-3380-480c-aebb-33800827b7a2",
   "metadata": {},
   "outputs": [],
   "source": [
    "sort_list = list('2yx')\n",
    "sort_list.sort()"
   ]
  },
  {
   "cell_type": "code",
   "execution_count": null,
   "id": "18943cf2-66e9-4b15-98cc-0045bd41f667",
   "metadata": {},
   "outputs": [],
   "source": [
    "sort_list"
   ]
  },
  {
   "cell_type": "code",
   "execution_count": null,
   "id": "d0fadadf-b353-4e8c-8c23-a8d525d63abc",
   "metadata": {},
   "outputs": [],
   "source": [
    "terms"
   ]
  },
  {
   "cell_type": "code",
   "execution_count": null,
   "id": "bf7be842-3798-4e20-a5c7-a719c040f516",
   "metadata": {},
   "outputs": [],
   "source": [
    "poly = '-a+3a-2a'"
   ]
  },
  {
   "cell_type": "code",
   "execution_count": null,
   "id": "953b760b-0532-4690-a20d-706cd1b1d018",
   "metadata": {},
   "outputs": [],
   "source": []
  },
  {
   "cell_type": "code",
   "execution_count": null,
   "id": "e9ee0ef3-19e8-4b5a-9328-1ce83afedbc2",
   "metadata": {},
   "outputs": [],
   "source": []
  }
 ],
 "metadata": {
  "kernelspec": {
   "display_name": "Python 3 (ipykernel)",
   "language": "python",
   "name": "python3"
  },
  "language_info": {
   "codemirror_mode": {
    "name": "ipython",
    "version": 3
   },
   "file_extension": ".py",
   "mimetype": "text/x-python",
   "name": "python",
   "nbconvert_exporter": "python",
   "pygments_lexer": "ipython3",
   "version": "3.10.13"
  }
 },
 "nbformat": 4,
 "nbformat_minor": 5
}
