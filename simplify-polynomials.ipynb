{
 "cells": [
  {
   "cell_type": "markdown",
   "id": "ef0c1a82-350b-4a49-b776-59982b0ddb18",
   "metadata": {},
   "source": [
    "# simplify polynomials\n",
    "\n",
    "https://www.codewars.com/kata/55f89832ac9a66518f000118/train/python"
   ]
  },
  {
   "cell_type": "code",
   "execution_count": 1,
   "id": "ecfbdd29-8b6a-428e-a500-66237356e357",
   "metadata": {},
   "outputs": [],
   "source": [
    "def simplify(poly):\n",
    "\n",
    "\n",
    "    return\n"
   ]
  },
  {
   "cell_type": "code",
   "execution_count": null,
   "id": "45209cf1-5f91-4249-89ac-bf89787745b3",
   "metadata": {},
   "outputs": [],
   "source": [
    "# test.it(\"Test reduction by equivalence\")\n",
    "# test.assert_equals(simplify(\"dc+dcba\"), \"cd+abcd\")\n",
    "\n",
    "# test.assert_equals(simplify(\"2xy-yx\"),\"xy\")\n",
    "\n",
    "# test.assert_equals(simplify(\"-a+5ab+3a-c-2a\"),\"-c+5ab\")\n",
    "\n",
    "# test.it(\"Test monomial length ordering\")\n",
    "# test.assert_equals(simplify(\"-abc+3a+2ac\"),\"3a+2ac-abc\")\n",
    "\n",
    "# test.assert_equals(simplify(\"xyz-xz\"),\"-xz+xyz\")\n",
    "\n",
    "# test.it(\"Test lexicographic ordering\")\n",
    "# test.assert_equals(simplify(\"a+ca-ab\"),\"a-ab+ac\")\n",
    "\n",
    "# test.assert_equals(simplify(\"xzy+zby\"),\"byz+xyz\")\n",
    "\n",
    "# test.it(\"Test no leading +\")\n",
    "# test.assert_equals(simplify(\"-y+x\"),\"x-y\")\n",
    "\n",
    "# test.assert_equals(simplify(\"y-x\"),\"-x+y\")"
   ]
  },
  {
   "cell_type": "code",
   "execution_count": 4,
   "id": "e033e33f-4046-467a-9ada-331d4d4a798c",
   "metadata": {},
   "outputs": [],
   "source": [
    "\n"
   ]
  },
  {
   "cell_type": "code",
   "execution_count": 24,
   "id": "12446c54-d078-4a44-af9a-cce188d94da4",
   "metadata": {},
   "outputs": [],
   "source": []
  },
  {
   "cell_type": "code",
   "execution_count": 9,
   "id": "1cdbdc8d-ff27-4dcb-bab8-0d487611c051",
   "metadata": {},
   "outputs": [
    {
     "data": {
      "text/plain": [
       "['d', 'c', '+', 'd', 'c', 'b', 'a']"
      ]
     },
     "execution_count": 9,
     "metadata": {},
     "output_type": "execute_result"
    }
   ],
   "source": [
    "list(poly)"
   ]
  },
  {
   "cell_type": "code",
   "execution_count": 68,
   "id": "35329892-dcb0-44c2-b7cf-9ca4611a8ecf",
   "metadata": {},
   "outputs": [
    {
     "name": "stdout",
     "output_type": "stream",
     "text": [
      "['-', 'a', '+', '3a', '-', '2a']\n",
      "sorted terms: [['-'], ['a'], ['+'], ['3', 'a'], ['-'], ['2', 'a']]\n",
      "-a+3a-2a\n"
     ]
    }
   ],
   "source": [
    "import re\n",
    "# poly = 'dc+dcba'\n",
    "\n",
    "# poly = \"2xy-yx\"\n",
    "\n",
    "# poly = '-a+5ab+3a-c-2a'\n",
    "\n",
    "poly = '-a+3a-2a'\n",
    "\n",
    "# parts = list(poly.partition('+'))\n",
    "\n",
    "parts = re.split('\\s?([+-])\\s?', poly)\n",
    "if '' in parts: \n",
    "    parts.remove('')\n",
    "\n",
    "print(parts)\n",
    "terms = []\n",
    "\n",
    "# sort terms\n",
    "for i in range(len(parts)):\n",
    "    term = list(parts[i])\n",
    "    term.sort()\n",
    "    terms.append(term)\n",
    "\n",
    "print('sorted terms:', terms)\n",
    "\n",
    "for i in range(1,len(terms)):\n",
    "    if terms[i-1] != '+' or terms[i-1] != '-':\n",
    "        if terms[i-1] == terms[i]:\n",
    "            \n",
    "            \n",
    "            print('do the math')\n",
    "\n",
    "# print the simplified poly\n",
    "simple_poly = ''\n",
    "for term in terms:\n",
    "    simple_poly += ''.join(term)\n",
    "\n",
    "\n",
    "print(simple_poly)"
   ]
  },
  {
   "cell_type": "code",
   "execution_count": 21,
   "id": "f9fe723d-b753-4a8f-8e9c-16ab060ec086",
   "metadata": {},
   "outputs": [
    {
     "data": {
      "text/plain": [
       "'cd+abcd'"
      ]
     },
     "execution_count": 21,
     "metadata": {},
     "output_type": "execute_result"
    }
   ],
   "source": [
    "simple_poly"
   ]
  },
  {
   "cell_type": "code",
   "execution_count": 31,
   "id": "9846c6e3-cd0d-4220-a34b-2db746b419ef",
   "metadata": {},
   "outputs": [
    {
     "data": {
      "text/plain": [
       "('2xy-yx', '', '')"
      ]
     },
     "execution_count": 31,
     "metadata": {},
     "output_type": "execute_result"
    }
   ],
   "source": [
    "poly.partition('+')"
   ]
  },
  {
   "cell_type": "code",
   "execution_count": 33,
   "id": "953872e5-4b9a-48b0-a9d4-5b72fb8573aa",
   "metadata": {},
   "outputs": [
    {
     "data": {
      "text/plain": [
       "('', '-', '2xy-yx')"
      ]
     },
     "execution_count": 33,
     "metadata": {},
     "output_type": "execute_result"
    }
   ],
   "source": [
    "poly = \"-2xy-yx\"\n",
    "poly.partition('-')"
   ]
  },
  {
   "cell_type": "code",
   "execution_count": 57,
   "id": "7b6206a0-5442-47e2-931d-caab63124bf8",
   "metadata": {},
   "outputs": [
    {
     "data": {
      "text/plain": [
       "['-', '2xy', '-', 'yx']"
      ]
     },
     "execution_count": 57,
     "metadata": {},
     "output_type": "execute_result"
    }
   ],
   "source": [
    "import re\n",
    "\n",
    "terms = re.split('\\s?([+-])\\s?', poly)\n",
    "terms.remove('')\n",
    "terms"
   ]
  },
  {
   "cell_type": "code",
   "execution_count": 49,
   "id": "ad945b70-3380-480c-aebb-33800827b7a2",
   "metadata": {},
   "outputs": [],
   "source": [
    "sort_list = list('2yx')\n",
    "sort_list.sort()"
   ]
  },
  {
   "cell_type": "code",
   "execution_count": 50,
   "id": "18943cf2-66e9-4b15-98cc-0045bd41f667",
   "metadata": {},
   "outputs": [
    {
     "data": {
      "text/plain": [
       "['2', 'x', 'y']"
      ]
     },
     "execution_count": 50,
     "metadata": {},
     "output_type": "execute_result"
    }
   ],
   "source": [
    "sort_list"
   ]
  },
  {
   "cell_type": "code",
   "execution_count": 56,
   "id": "d0fadadf-b353-4e8c-8c23-a8d525d63abc",
   "metadata": {},
   "outputs": [],
   "source": [
    "terms"
   ]
  },
  {
   "cell_type": "code",
   "execution_count": 71,
   "id": "bf7be842-3798-4e20-a5c7-a719c040f516",
   "metadata": {},
   "outputs": [],
   "source": [
    "poly = '-a+3a-2a'"
   ]
  },
  {
   "cell_type": "code",
   "execution_count": null,
   "id": "953b760b-0532-4690-a20d-706cd1b1d018",
   "metadata": {},
   "outputs": [],
   "source": []
  },
  {
   "cell_type": "code",
   "execution_count": null,
   "id": "17ee620c-444e-4878-a630-7bc97665c8c5",
   "metadata": {},
   "outputs": [],
   "source": []
  }
 ],
 "metadata": {
  "kernelspec": {
   "display_name": "Python 3 (ipykernel)",
   "language": "python",
   "name": "python3"
  },
  "language_info": {
   "codemirror_mode": {
    "name": "ipython",
    "version": 3
   },
   "file_extension": ".py",
   "mimetype": "text/x-python",
   "name": "python",
   "nbconvert_exporter": "python",
   "pygments_lexer": "ipython3",
   "version": "3.10.13"
  }
 },
 "nbformat": 4,
 "nbformat_minor": 5
}
