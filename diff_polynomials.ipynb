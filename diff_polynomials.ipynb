{
 "cells": [
  {
   "cell_type": "markdown",
   "id": "c1bfb9f4-a977-47fa-a071-53af2169fd1d",
   "metadata": {},
   "source": [
    "# differentiate polynomials\n",
    "\n",
    "kata link: https://www.codewars.com/kata/566584e3309db1b17d000027/train/python"
   ]
  },
  {
   "cell_type": "code",
   "execution_count": 41,
   "id": "47c913a2-f0e3-4f28-9a6d-b97ce35cc6b7",
   "metadata": {},
   "outputs": [],
   "source": [
    "polys = [\n",
    "    '12x+2',\n",
    "    'x^2-x',\n",
    "    'x^3-5x^2+10x+4'\n",
    "]\n",
    "\n",
    "diffs = [\n",
    "    '12', # 12\n",
    "    '2x-1', # 5\n",
    "    '-10x+10' # -20\n",
    "]\n",
    "\n"
   ]
  },
  {
   "cell_type": "code",
   "execution_count": 102,
   "id": "73f395da-740f-4e44-86a3-cbfbb33778f0",
   "metadata": {},
   "outputs": [
    {
     "data": {
      "text/plain": [
       "['-5', '2+10', '+4']"
      ]
     },
     "execution_count": 102,
     "metadata": {},
     "output_type": "execute_result"
    }
   ],
   "source": [
    "import re\n",
    "\n",
    "poly = polys[2]\n",
    "\n",
    "# re.findall(r'[a-z](\\^\\d)?', poly)\n",
    "terms = re.findall(r'(-?[0-9]*[^((a-z)\\^)]+)', poly)\n",
    "terms"
   ]
  },
  {
   "cell_type": "code",
   "execution_count": 100,
   "id": "b16c4084-b11a-4ffe-90f1-516a5d7a8ff3",
   "metadata": {},
   "outputs": [
    {
     "data": {
      "text/plain": [
       "['-5', '2', '+10', '+4']"
      ]
     },
     "execution_count": 100,
     "metadata": {},
     "output_type": "execute_result"
    }
   ],
   "source": [
    "import re\n",
    "\n",
    "poly = polys[2]\n",
    "\n",
    "# re.findall(r'[a-z](\\^\\d)?', poly)\n",
    "terms = re.findall(r'[-+]?\\d+(?=[x]|\\b)', poly)\n",
    "terms"
   ]
  },
  {
   "cell_type": "code",
   "execution_count": 109,
   "id": "895d0eae-8953-4447-b409-75eac1889be8",
   "metadata": {},
   "outputs": [
    {
     "data": {
      "text/plain": [
       "['', '']"
      ]
     },
     "execution_count": 109,
     "metadata": {},
     "output_type": "execute_result"
    }
   ],
   "source": [
    "import re\n",
    "\n",
    "poly = polys[2]\n",
    "\n",
    "# re.findall(r'[a-z](\\^\\d)?', poly)\n",
    "terms = re.findall(r'(?:[a-z](^\\^[0-9]+)?)', poly)\n",
    "terms"
   ]
  },
  {
   "cell_type": "code",
   "execution_count": null,
   "id": "7c2fe252-2a0a-4650-9e8f-ccd22d72abc5",
   "metadata": {},
   "outputs": [],
   "source": []
  },
  {
   "cell_type": "code",
   "execution_count": 104,
   "id": "be56ff45-f8ce-4986-a0de-bce6f1cb4019",
   "metadata": {},
   "outputs": [
    {
     "name": "stdout",
     "output_type": "stream",
     "text": [
      "terms:  ['-5x^2', '10x', '4']\n",
      "coeffs:  [['-5'], ['10'], ['4']]\n"
     ]
    },
    {
     "data": {
      "text/plain": [
       "[['-5'], ['10'], ['4']]"
      ]
     },
     "execution_count": 104,
     "metadata": {},
     "output_type": "execute_result"
    }
   ],
   "source": [
    "\n",
    "# terms = re.split('([+-]?\\d*)', poly)\n",
    "# terms\n",
    "poly = polys[2]\n",
    "terms = re.split(r'[+]', poly)\n",
    "print('terms: ', terms)\n",
    "\n",
    "coeffs = []\n",
    "for term in terms:\n",
    "    # poly_vals.append(re.findall(r'[-]?^(\\d*)', term))\n",
    "    coeffs.append(re.findall(r'^([-]?\\d*)', term))\n",
    "\n",
    "print('coeffs: ', coeffs)\n",
    "# differentiate\n",
    "\n",
    "\n",
    "# for i in range(len(poly_vals)):\n",
    "#     # mult exponent by coeff\n",
    "#     poly_vals[i][0] = str( int(poly_vals[i][0]) * int( poly_vals[i][1] ))\n",
    "    \n",
    "#     # exponent -1\n",
    "#     poly_vals[i][1] = str( int(poly_vals[i][1]) - 1 )\n",
    "\n",
    "\n",
    "\n",
    "# exponent -1\n",
    "    \n",
    "poly_vals"
   ]
  },
  {
   "cell_type": "code",
   "execution_count": 60,
   "id": "8daa0a53-7293-481a-8a36-b587558225f0",
   "metadata": {},
   "outputs": [
    {
     "data": {
      "text/plain": [
       "['-5', '2']"
      ]
     },
     "execution_count": 60,
     "metadata": {},
     "output_type": "execute_result"
    }
   ],
   "source": [
    "term1 = '-5x^2'\n",
    "\n",
    "term1b = re.split(r'(-)?[\\d*]', term1)\n",
    "term1b"
   ]
  },
  {
   "cell_type": "code",
   "execution_count": 64,
   "id": "47e18b6a-d63a-4c5c-afc5-0f950a466ec4",
   "metadata": {},
   "outputs": [
    {
     "data": {
      "text/plain": [
       "-5"
      ]
     },
     "execution_count": 64,
     "metadata": {},
     "output_type": "execute_result"
    }
   ],
   "source": [
    "int('-5')"
   ]
  },
  {
   "cell_type": "code",
   "execution_count": 66,
   "id": "7e0afe9f-49be-4d93-b79a-bd69a02df646",
   "metadata": {},
   "outputs": [
    {
     "data": {
      "text/plain": [
       "''"
      ]
     },
     "execution_count": 66,
     "metadata": {},
     "output_type": "execute_result"
    }
   ],
   "source": [
    "0*'x'"
   ]
  },
  {
   "cell_type": "code",
   "execution_count": 88,
   "id": "2750e0bd-aa21-4acd-aa20-f057b68c2365",
   "metadata": {},
   "outputs": [
    {
     "data": {
      "text/plain": [
       "['2']"
      ]
     },
     "execution_count": 88,
     "metadata": {},
     "output_type": "execute_result"
    }
   ],
   "source": [
    "term1 = '-5x^2'\n",
    "re.findall(r'\\^(\\d+)', term1)"
   ]
  },
  {
   "cell_type": "code",
   "execution_count": 105,
   "id": "63c6d0e1-68e9-47a5-80a3-e8b141231b4a",
   "metadata": {},
   "outputs": [
    {
     "data": {
      "text/plain": [
       "['x^', None, '', '-', 'x^', None, '+', None, '', None, 'x+', None, '']"
      ]
     },
     "execution_count": 105,
     "metadata": {},
     "output_type": "execute_result"
    }
   ],
   "source": [
    "term = 'x^3-5x^2+10x+4'\n",
    "\n",
    "re.split(r'(-)?[\\d*]', term)"
   ]
  },
  {
   "cell_type": "code",
   "execution_count": 130,
   "id": "dc0ef7ba-4308-4cf1-9bfb-c00857109337",
   "metadata": {},
   "outputs": [
    {
     "data": {
      "text/plain": [
       "['^3', '^2']"
      ]
     },
     "execution_count": 130,
     "metadata": {},
     "output_type": "execute_result"
    }
   ],
   "source": [
    "import re\n",
    "\n",
    "term = \"-5x^2+10x+4\"\n",
    "term = 'x^3-2x^2-3'\n",
    "re.findall(r'[-+]?[0-9]*(\\^\\d)', term)\n",
    "# re.findall(, poly)"
   ]
  },
  {
   "cell_type": "code",
   "execution_count": 145,
   "id": "bbd7bb91-464f-4f50-b8b1-c99ede8ab27e",
   "metadata": {},
   "outputs": [
    {
     "name": "stdout",
     "output_type": "stream",
     "text": [
      "['', '-5', '', 'x', '', '^3', '+', '10', '', 'x', '', '^2', '+', 'x', '', '-3', '']\n"
     ]
    }
   ],
   "source": [
    "term = '-5x^3+10x^2+x-3'\n",
    "\n",
    "x = re.split(r'([-]?[^\\+]\\d*){1}', term)\n",
    "print(x)\n",
    "# filtered = filter(None, term)\n",
    "# print(filtered)"
   ]
  },
  {
   "cell_type": "code",
   "execution_count": null,
   "id": "ccf11c7c-7528-4518-b5af-ba1a22f6b287",
   "metadata": {},
   "outputs": [],
   "source": []
  }
 ],
 "metadata": {
  "kernelspec": {
   "display_name": "Python 3 (ipykernel)",
   "language": "python",
   "name": "python3"
  },
  "language_info": {
   "codemirror_mode": {
    "name": "ipython",
    "version": 3
   },
   "file_extension": ".py",
   "mimetype": "text/x-python",
   "name": "python",
   "nbconvert_exporter": "python",
   "pygments_lexer": "ipython3",
   "version": "3.10.13"
  }
 },
 "nbformat": 4,
 "nbformat_minor": 5
}
