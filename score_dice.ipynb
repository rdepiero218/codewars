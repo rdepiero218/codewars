{
 "cells": [
  {
   "cell_type": "markdown",
   "id": "e22ffb44-5ae6-4ac2-b2b8-6ddaa93df9f9",
   "metadata": {},
   "source": [
    "\n",
    "SCORING\n",
    "\n",
    "```\n",
    "Three 1's => 1000 points\n",
    " Three 6's =>  600 points\n",
    " Three 5's =>  500 points\n",
    " Three 4's =>  400 points\n",
    " Three 3's =>  300 points\n",
    " Three 2's =>  200 points\n",
    " One   1   =>  100 points\n",
    " One   5   =>   50 point\n",
    "```"
   ]
  },
  {
   "cell_type": "code",
   "execution_count": 63,
   "id": "8ba97121-18b3-4227-8f9f-3bc1150b7d04",
   "metadata": {
    "tags": []
   },
   "outputs": [],
   "source": [
    "\n",
    "## TESTS\n",
    "\n",
    "test1 = [5, 1, 3, 4, 1] #) # 250\n",
    "test2 = [1, 1, 1, 3, 1] # 1100)\n",
    "test3 = [2, 3, 4, 6, 2] #),    0)\n",
    "test4 = [4, 4, 4, 3, 3] #),  400)\n",
    "test5 = [2, 4, 4, 5, 4] #),  450)\n",
    "\n",
    "\n",
    "\n"
   ]
  },
  {
   "cell_type": "markdown",
   "id": "9b2e1834-eb71-409b-a6a2-ed822a5d910a",
   "metadata": {
    "jp-MarkdownHeadingCollapsed": true,
    "tags": []
   },
   "source": [
    "# tests\n"
   ]
  },
  {
   "cell_type": "code",
   "execution_count": 56,
   "id": "9b6fb429-45aa-4193-a9c8-bf2ce0338380",
   "metadata": {
    "tags": []
   },
   "outputs": [
    {
     "name": "stdout",
     "output_type": "stream",
     "text": [
      "score =  1100\n"
     ]
    }
   ],
   "source": [
    "test2 = [1, 1, 1, 3, 1] # 1100)\n",
    "\n",
    "dice = test2\n",
    "\n",
    "\n",
    "score = 0\n",
    "\n",
    "throw = dice[:]\n",
    "\n",
    "# counts = [dice.count(x) for x in range(1,7)]\n",
    "# counts\n",
    "# keys = ['one', 'two', 'three', 'four', 'five', 'six']\n",
    "# vals = dict(zip(keys, counts))\n",
    "\n",
    "scores = {\n",
    "    'one' : 0, \n",
    "    'two' : 0,\n",
    "    'three': 0,\n",
    "    'four' : 0,\n",
    "    'five' : 0, \n",
    "    'six'  : 0\n",
    "    }\n",
    "\n",
    "\n",
    "for i in range(6):\n",
    "    if i in throw:\n",
    "        count = throw.count(i)\n",
    "\n",
    "        if count >= 3:\n",
    "\n",
    "            if i == 1:\n",
    "                score += 1000 + (count - 3) * 100\n",
    "            elif i == 5:\n",
    "                score += i*100 + (count - 3) * 50\n",
    "            else:\n",
    "                score += i * 100\n",
    "\n",
    "\n",
    "# # vals = {}\n",
    "\n",
    "\n",
    "# # for i in range(1,7):\n",
    "# #     vals.update({i : dice.count(i)})\n",
    "    \n",
    "# # vals\n",
    "\n",
    "# for key in scores:\n",
    "    \n",
    "#     if key == 'one':\n",
    "#         if dice.count(1) == 3\n",
    "#             scores[key] = 1000\n",
    "#         elif  dice.count(1) == 4\n",
    "#             scores[key] = 1000 + 100\n",
    "        \n",
    "\n",
    "# print('throw', throw)\n",
    "\n",
    "# i = 1\n",
    "\n",
    "# ## iterate through all dice values\n",
    "\n",
    "# for i in range(1,6):\n",
    "    \n",
    "#     count = throw.count(i)\n",
    "#     while count >= 3:\n",
    "#         if i == 1:\n",
    "#             scores['one'] = 1000\n",
    "#         else:\n",
    "#             score = score + i*100\n",
    "\n",
    "#         for j in range(3):\n",
    "#             throw.pop(throw.index(i))\n",
    "\n",
    "#     if i == 1:\n",
    "#         score = score + count*100\n",
    "#     elif i == 5:\n",
    "#         score = score + count*50\n",
    "            \n",
    "#     print('i = ', i, 'score = ', score)\n",
    "\n",
    "\n",
    "    \n",
    "\n",
    "        \n",
    "\n",
    "\n",
    "\n",
    "\n",
    "# for key in vals:\n",
    "#     print(key)\n",
    "#     if vals[key] == 3:\n",
    "#         if key == 1:\n",
    "#             score = 1000\n",
    "            \n",
    "#     print(type(key))\n",
    "# score\n",
    "\n",
    "# if count == 3:\n",
    "#     score += value*100\n",
    "print('score = ', score)"
   ]
  },
  {
   "cell_type": "code",
   "execution_count": 5,
   "id": "e4dcbcbb-1ef0-4167-abf7-4b5f5d0bb647",
   "metadata": {
    "tags": []
   },
   "outputs": [
    {
     "data": {
      "text/plain": [
       "2"
      ]
     },
     "execution_count": 5,
     "metadata": {},
     "output_type": "execute_result"
    }
   ],
   "source": [
    "dice = test1\n",
    "dice.count(1)"
   ]
  },
  {
   "cell_type": "markdown",
   "id": "3d3026dc-884d-46cc-bf7c-7715838c12eb",
   "metadata": {},
   "source": [
    "# Function"
   ]
  },
  {
   "cell_type": "code",
   "execution_count": 79,
   "id": "82adad76-3a37-4064-ab2d-2a7799695a60",
   "metadata": {
    "tags": []
   },
   "outputs": [],
   "source": [
    "def score(dice):\n",
    "    \n",
    "    score = 0\n",
    "   \n",
    "    for i in range(1,7):\n",
    "        if i in dice:\n",
    "            count = dice.count(i)\n",
    "\n",
    "            if count >= 3:\n",
    "                if i == 1:\n",
    "                    score += 1000 + (count - 3) * 100\n",
    "                elif i == 5:\n",
    "                    score += i*100 + (count - 3) * 50\n",
    "                else:\n",
    "                    score += i * 100\n",
    "            \n",
    "            else:\n",
    "                if i == 1:\n",
    "                    score += count * 100\n",
    "                elif i == 5:\n",
    "                    score += count * 50\n",
    "\n",
    "        print('i = ', i, 'score =', score)\n",
    "\n",
    "    return score"
   ]
  },
  {
   "cell_type": "code",
   "execution_count": 81,
   "id": "53b78a0e-a75e-4406-a3fc-8c93635c8f31",
   "metadata": {
    "tags": []
   },
   "outputs": [
    {
     "name": "stdout",
     "output_type": "stream",
     "text": [
      "i =  1 score = 1100\n",
      "i =  2 score = 1100\n",
      "i =  3 score = 1100\n",
      "i =  4 score = 1100\n",
      "i =  5 score = 1100\n",
      "i =  6 score = 1100\n"
     ]
    },
    {
     "data": {
      "text/plain": [
       "1100"
      ]
     },
     "execution_count": 81,
     "metadata": {},
     "output_type": "execute_result"
    }
   ],
   "source": [
    "score(test2)"
   ]
  },
  {
   "cell_type": "code",
   "execution_count": 80,
   "id": "448b7771-edeb-4887-a9e3-93d0717bad3a",
   "metadata": {
    "tags": []
   },
   "outputs": [
    {
     "name": "stdout",
     "output_type": "stream",
     "text": [
      "i =  1 score = 200\n",
      "i =  2 score = 200\n",
      "i =  3 score = 200\n",
      "i =  4 score = 200\n",
      "i =  5 score = 250\n",
      "i =  6 score = 250\n"
     ]
    },
    {
     "data": {
      "text/plain": [
       "250"
      ]
     },
     "execution_count": 80,
     "metadata": {},
     "output_type": "execute_result"
    }
   ],
   "source": [
    "score(test1)"
   ]
  },
  {
   "cell_type": "code",
   "execution_count": 82,
   "id": "77dc2070-312f-4b68-8654-64b0e809ae2b",
   "metadata": {
    "tags": []
   },
   "outputs": [
    {
     "name": "stdout",
     "output_type": "stream",
     "text": [
      "i =  1 score = 0\n",
      "i =  2 score = 0\n",
      "i =  3 score = 0\n",
      "i =  4 score = 0\n",
      "i =  5 score = 0\n",
      "i =  6 score = 0\n"
     ]
    },
    {
     "data": {
      "text/plain": [
       "0"
      ]
     },
     "execution_count": 82,
     "metadata": {},
     "output_type": "execute_result"
    }
   ],
   "source": [
    "score(test3)"
   ]
  },
  {
   "cell_type": "code",
   "execution_count": null,
   "id": "78b4f6bb-c38f-48b7-9c1e-0fe2fa931ab5",
   "metadata": {},
   "outputs": [],
   "source": []
  }
 ],
 "metadata": {
  "kernelspec": {
   "display_name": "Python 3 (ipykernel)",
   "language": "python",
   "name": "python3"
  },
  "language_info": {
   "codemirror_mode": {
    "name": "ipython",
    "version": 3
   },
   "file_extension": ".py",
   "mimetype": "text/x-python",
   "name": "python",
   "nbconvert_exporter": "python",
   "pygments_lexer": "ipython3",
   "version": "3.10.13"
  }
 },
 "nbformat": 4,
 "nbformat_minor": 5
}
