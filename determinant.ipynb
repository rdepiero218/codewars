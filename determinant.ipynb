{
 "cells": [
  {
   "cell_type": "markdown",
   "id": "e1c17a76-635d-4bb3-98e6-f3fb3c7ae25b",
   "metadata": {},
   "source": [
    "# Matrix Determinant\n",
    "\n",
    "Link to Kata: https://www.codewars.com/kata/52a382ee44408cea2500074c/train/python"
   ]
  },
  {
   "cell_type": "code",
   "execution_count": 92,
   "id": "e1f62795-f745-4189-875a-ba7a90067d1f",
   "metadata": {},
   "outputs": [
    {
     "data": {
      "text/plain": [
       "23"
      ]
     },
     "execution_count": 92,
     "metadata": {},
     "output_type": "execute_result"
    }
   ],
   "source": [
    "# first a simple 2 by 2\n",
    "# 2 by 2 determinant of [[a, b, [c,d]] is a*d - b*c\n",
    "\n",
    "m = [[4, 6], [3,8]]\n",
    "\n",
    "def det2x2(m):\n",
    "    \n",
    "    det = m[0][0]*m[1][1] - m[1][0]*m[1][0]\n",
    "\n",
    "    return det\n",
    "\n",
    "# print(det)\n",
    "det2x2(m)"
   ]
  },
  {
   "cell_type": "code",
   "execution_count": 3,
   "id": "0f404d4c-e93b-4001-b28f-6d8804a0da9c",
   "metadata": {},
   "outputs": [
    {
     "data": {
      "text/plain": [
       "2"
      ]
     },
     "execution_count": 3,
     "metadata": {},
     "output_type": "execute_result"
    }
   ],
   "source": [
    "len(m)"
   ]
  },
  {
   "cell_type": "code",
   "execution_count": 84,
   "id": "dfd673b5-3aaf-4455-909a-42e6a8d834cb",
   "metadata": {},
   "outputs": [
    {
     "data": {
      "text/plain": [
       "[[2, 2], [1, 0]]"
      ]
     },
     "execution_count": 84,
     "metadata": {},
     "output_type": "execute_result"
    }
   ],
   "source": [
    "m = [\n",
    "    [2,4,2],\n",
    "    [3,1,1],\n",
    "    [1,2,0]\n",
    "]\n",
    "\n",
    "row = 1\n",
    "col = 1\n",
    "\n",
    "def minor_mat(mat, row, col):\n",
    "    minor = mat.copy() # don't want to change OG matrix\n",
    "    minor.pop(row) # remove row\n",
    "    # print('minor_mat', minor)\n",
    "    for i in range(len(minor)):\n",
    "        minor[i].pop(col) \n",
    "    return minor\n",
    "\n",
    "minor_mat(m, row, col)\n",
    "# print('m : ', m)\n",
    "# print('minors : ', )\n",
    "\n"
   ]
  },
  {
   "cell_type": "code",
   "execution_count": 98,
   "id": "44ce442c-67d1-4898-82ff-4d5a145aef4c",
   "metadata": {},
   "outputs": [
    {
     "name": "stdout",
     "output_type": "stream",
     "text": [
      "[[2, 4, 2], [3, 1, 1], [1, 2, 0]]\n",
      "[[2, 4, 2], [3, 1, 1], [1, 2, 0]]\n",
      "[[1, 1], [2, 0]]\n",
      "[[2, 4, 2], [3, 1, 1], [1, 2, 0]]\n",
      "[[3, 1], [1, 0]]\n",
      "[[2, 4, 2], [3, 1, 1], [1, 2, 0]]\n",
      "[[3, 1], [1, 2]]\n",
      "-6\n"
     ]
    }
   ],
   "source": [
    "# try for 3 by 3 case straight up.\n",
    "m = [\n",
    "    [2,4,2],\n",
    "    [3,1,1],\n",
    "    [1,2,0]\n",
    "]\n",
    "\n",
    "row = 0\n",
    "det = 0\n",
    "\n",
    "def minor_mat(mat, row, col):\n",
    "    minor = [r[:] for r in mat] # don't want to change OG matrix\n",
    "    minor.pop(row) # remove row\n",
    "    # print('minor_mat', minor)\n",
    "    for i in range(len(minor)):\n",
    "        minor[i].pop(col) \n",
    "    return minor\n",
    "\n",
    "print(m)\n",
    "for j in range(len(m)):\n",
    "    print(m)\n",
    "    # find minor\n",
    "    minor = minor_mat(m.copy(), row, j)\n",
    "    print(minor)\n",
    "    if len(minor) == 2:\n",
    "        det_minor = det2x2(minor)\n",
    "        \n",
    "    det += (-1)**(row + j + 1) * m[row][j] * det_minor\n",
    "\n",
    "print(det)"
   ]
  },
  {
   "cell_type": "markdown",
   "id": "83f957c1-59a0-4145-b15f-0325714caa57",
   "metadata": {},
   "source": [
    "# Slices? \n",
    "\n",
    "Conclusion: nope\n",
    "\n",
    "You could if you didn't care about efficiency at all"
   ]
  },
  {
   "cell_type": "code",
   "execution_count": 78,
   "id": "25b4427c-9189-40da-af93-88ce46ce94c3",
   "metadata": {},
   "outputs": [
    {
     "data": {
      "text/plain": [
       "[[1, 2, 0]]"
      ]
     },
     "execution_count": 78,
     "metadata": {},
     "output_type": "execute_result"
    }
   ],
   "source": [
    "minor.pop(0)\n",
    "minor"
   ]
  },
  {
   "cell_type": "code",
   "execution_count": 79,
   "id": "4a21581f-a0e9-4ba4-b301-ba4ffecdfc42",
   "metadata": {},
   "outputs": [
    {
     "data": {
      "text/plain": [
       "[[2, 4, 2], [3, 1, 1], [1, 2, 0]]"
      ]
     },
     "execution_count": 79,
     "metadata": {},
     "output_type": "execute_result"
    }
   ],
   "source": [
    "m"
   ]
  },
  {
   "cell_type": "code",
   "execution_count": 65,
   "id": "d89fda9c-d848-4354-a5e7-8a1b46987bcd",
   "metadata": {},
   "outputs": [
    {
     "data": {
      "text/plain": [
       "[[2, 4, 2], [3, 1, 1]]"
      ]
     },
     "execution_count": 65,
     "metadata": {},
     "output_type": "execute_result"
    }
   ],
   "source": [
    "# slice from 0 to 1\n",
    "m[0:2]"
   ]
  },
  {
   "cell_type": "code",
   "execution_count": 67,
   "id": "b03c4e15-fb65-4993-a85e-3fc74a7c286d",
   "metadata": {},
   "outputs": [
    {
     "data": {
      "text/plain": [
       "[[3, 1, 1], [1, 2, 0]]"
      ]
     },
     "execution_count": 67,
     "metadata": {},
     "output_type": "execute_result"
    }
   ],
   "source": [
    "# remove 1st row\n",
    "m[1:3]"
   ]
  },
  {
   "cell_type": "code",
   "execution_count": 69,
   "id": "065970f2-59e7-4828-83f0-b74cd0e6e19e",
   "metadata": {},
   "outputs": [
    {
     "data": {
      "text/plain": [
       "[[2, 4, 2]]"
      ]
     },
     "execution_count": 69,
     "metadata": {},
     "output_type": "execute_result"
    }
   ],
   "source": [
    "m[0:1]"
   ]
  },
  {
   "cell_type": "code",
   "execution_count": null,
   "id": "d006b39f-3fcb-40fb-b90f-91001f80e9f5",
   "metadata": {},
   "outputs": [],
   "source": []
  },
  {
   "cell_type": "code",
   "execution_count": null,
   "id": "a427971c-bb4c-42df-bd35-ed430682add7",
   "metadata": {},
   "outputs": [],
   "source": [
    " "
   ]
  },
  {
   "cell_type": "code",
   "execution_count": 132,
   "id": "2ba0fce5-35a9-492d-8a61-e3e11000fd47",
   "metadata": {},
   "outputs": [
    {
     "name": "stdout",
     "output_type": "stream",
     "text": [
      "j= 0 :  [[1, 5], [8, 0]] det:  -40\n",
      "j= 1 :  [[-4, 5], [-6, 0]] det:  30\n",
      "j= 2 :  [[-4, 1], [-6, 8]] det:  -26\n",
      "j= 0 :  [[-2, 7, 0], [-4, 1, 5], [-6, 8, 0]] det:  -130\n",
      "j= 0 :  [[1, 5], [8, 0]] det:  -40\n",
      "j= 1 :  [[-4, 5], [-6, 0]] det:  30\n",
      "j= 2 :  [[-4, 1], [-6, 8]] det:  -26\n",
      "j= 0 :  [[1, 5], [8, 0]] det:  -40\n",
      "j= 1 :  [[-3, 5], [6, 0]] det:  -30\n",
      "j= 2 :  [[-3, 1], [6, 8]] det:  -30\n",
      "j= 1 :  [[4, 7, 0], [-3, 1, 5], [6, 8, 0]] det:  50\n",
      "j= 0 :  [[1, 5], [8, 0]] det:  -40\n",
      "j= 1 :  [[-3, 5], [6, 0]] det:  -30\n",
      "j= 2 :  [[-3, 1], [6, 8]] det:  -30\n",
      "j= 0 :  [[-4, 5], [-6, 0]] det:  30\n",
      "j= 1 :  [[-3, 5], [6, 0]] det:  -30\n",
      "j= 2 :  [[-3, -4], [6, -6]] det:  42\n",
      "j= 2 :  [[4, -2, 0], [-3, -4, 5], [6, -6, 0]] det:  60\n",
      "j= 0 :  [[-4, 5], [-6, 0]] det:  30\n",
      "j= 1 :  [[-3, 5], [6, 0]] det:  -30\n",
      "j= 2 :  [[-3, -4], [6, -6]] det:  42\n",
      "j= 0 :  [[-4, 1], [-6, 8]] det:  -26\n",
      "j= 1 :  [[-3, 1], [6, 8]] det:  -30\n",
      "j= 2 :  [[-3, -4], [6, -6]] det:  42\n",
      "j= 3 :  [[4, -2, 7], [-3, -4, 1], [6, -6, 8]] det:  130\n",
      "j= 0 :  [[-4, 1], [-6, 8]] det:  -26\n",
      "j= 1 :  [[-3, 1], [6, 8]] det:  -30\n",
      "j= 2 :  [[-3, -4], [6, -6]] det:  42\n"
     ]
    },
    {
     "data": {
      "text/plain": [
       "-30"
      ]
     },
     "execution_count": 132,
     "metadata": {},
     "output_type": "execute_result"
    }
   ],
   "source": [
    "# WORKING CODE - NOW DO IT IT WITHOUT THE TWO EXTRA FUNCTIONS\n",
    "\n",
    "# m = [[2]]\n",
    "# m = [\n",
    "#     [2,4,2],\n",
    "#     [3,1,1],\n",
    "#     [1,2,0]\n",
    "# ]\n",
    "# ans = 10\n",
    "\n",
    "m = [\n",
    "    [2, -1, 3, 0],\n",
    "    [4, -2, 7, 0],\n",
    "    [-3, -4, 1, 5],\n",
    "    [6, -6, 8, 0]\n",
    "]\n",
    "\n",
    "\n",
    "def det2x2(m):\n",
    "    mat = [r[:] for r in m] # don't want to change OG matrix\n",
    "    \n",
    "    det = mat[0][0] * mat[1][1] - ( mat[1][0] * mat[0][1])\n",
    "\n",
    "    return det\n",
    "    \n",
    "def minor_mat(mat, row, col):\n",
    "    minor = [r[:] for r in mat] # don't want to change OG matrix\n",
    "    minor.pop(row) # remove row\n",
    "    for i in range(len(minor)):\n",
    "        minor[i].pop(col) \n",
    "    return minor\n",
    "    \n",
    "def determinant(m):         \n",
    "    if len(m) == 1:\n",
    "        det = m[0][0]\n",
    "        return det\n",
    "    if len(m) == 2:\n",
    "        det = det2x2(m)\n",
    "        return det\n",
    "    else:\n",
    "\n",
    "        # check for row with most zeros\n",
    "        zero_counts = []\n",
    "        for row in range(len(m)):\n",
    "            zero_counts.append(m[row].count(0))\n",
    "        \n",
    "        best_row = zero_counts.index(max(zero_counts))\n",
    "\n",
    "        det = 0\n",
    "        for j in range(len(m)):\n",
    "            minor = minor_mat(m, best_row, j)\n",
    "            \n",
    "            print('j=', j, ': ',minor, 'det: ', determinant(minor))\n",
    "            # else:\n",
    "                \n",
    "            det += (-1)**(best_row + j) * m[best_row][j] * determinant(minor)\n",
    "\n",
    "    return det\n",
    "\n",
    "determinant(m)"
   ]
  },
  {
   "cell_type": "code",
   "execution_count": 165,
   "id": "89f48666-8a97-488a-9082-56973e5b18d5",
   "metadata": {},
   "outputs": [
    {
     "data": {
      "text/plain": [
       "-30"
      ]
     },
     "execution_count": 165,
     "metadata": {},
     "output_type": "execute_result"
    }
   ],
   "source": [
    "# REDUCING EXTRA FUNCTIONS\n",
    "\n",
    "# m = [[2]]\n",
    "# m = [\n",
    "#     [2,4,2],\n",
    "#     [3,1,1],\n",
    "#     [1,2,0]\n",
    "# ]\n",
    "# ans = 10\n",
    "\n",
    "m = [\n",
    "    [2, -1, 3, 0],\n",
    "    [4, -2, 7, 0],\n",
    "    [-3, -4, 1, 5],\n",
    "    [6, -6, 8, 0]\n",
    "]\n",
    "\n",
    "\n",
    "# def det2x2(m):\n",
    "#     mat = [r[:] for r in m] # don't want to change OG matrix\n",
    "    \n",
    "#     det = mat[0][0] * mat[1][1] - ( mat[1][0] * mat[0][1])\n",
    "\n",
    "#     return det\n",
    "    \n",
    "# def minor_mat(mat, row, col):\n",
    "#     minor = [r[:] for r in mat] # don't want to change OG matrix\n",
    "#     minor.pop(row) # remove row\n",
    "    \n",
    "#     for i in range(len(minor)):\n",
    "#         minor[i].pop(col) \n",
    "#     return minor\n",
    "    \n",
    "def determinant(m):         \n",
    "    if len(m) == 1:\n",
    "        det = m[0][0]\n",
    "        return det\n",
    "        \n",
    "    if len(m) == 2:\n",
    "        det = m[0][0] * m[1][1] - ( m[1][0] * m[0][1])\n",
    "        return det\n",
    "    else:\n",
    "        # check for row with most zeros\n",
    "        zero_counts = [row.count(0) for row in m]\n",
    "        best_row = zero_counts.index(max(zero_counts))\n",
    "        det = 0\n",
    "        for j in range(len(m)):\n",
    "            # construct minor matrix (n-1) x (n-1)\n",
    "            minor = [r[:] for r in m] # don't want to change OG matrix\n",
    "            minor.pop(best_row) # remove row with most zeros\n",
    "            minor = [row[:j] + row[j+1:] for row in minor] # remove column j\n",
    "            #calculate determinant\n",
    "            det += (-1)**(best_row + j) * m[best_row][j] * determinant(minor)\n",
    "        return det\n",
    "\n",
    "determinant(m)"
   ]
  },
  {
   "cell_type": "code",
   "execution_count": 124,
   "id": "bf868316-6921-4b03-9cf5-00a5b886b2e3",
   "metadata": {},
   "outputs": [
    {
     "data": {
      "text/plain": [
       "3"
      ]
     },
     "execution_count": 124,
     "metadata": {},
     "output_type": "execute_result"
    }
   ],
   "source": [
    "check = [[1, 2], \n",
    "          [3, 4]]\n",
    "det2x2(check)\n",
    "check[1][0]"
   ]
  },
  {
   "cell_type": "code",
   "execution_count": null,
   "id": "b0a4952a-425a-4037-b9d9-edaf269dd1b5",
   "metadata": {
    "collapsed": true,
    "jupyter": {
     "outputs_hidden": true
    }
   },
   "outputs": [],
   "source": [
    "minors = []\n",
    "row_choice = 1\n",
    "\n",
    "for j in range(len(m)):\n",
    "    print(f'i = {i}, j = {j}')\n",
    "    minor = minor_mat(m, row_choice, j)\n",
    "    print(m)\n",
    "    print(minor)\n",
    "    # minors.append(minor_mat(m, i, j))\n",
    "\n",
    "print(minors)"
   ]
  },
  {
   "cell_type": "code",
   "execution_count": 46,
   "id": "721682e0-aa58-4d6f-8f54-e8ae95b9f604",
   "metadata": {},
   "outputs": [
    {
     "name": "stdout",
     "output_type": "stream",
     "text": [
      "pop [[3, 1, 1], [1, 2, 0]]\n",
      "[3, 1, 1]\n"
     ]
    }
   ],
   "source": [
    "test = [\n",
    "    [2,4,2],\n",
    "    [3,1,1],\n",
    "    [1,2,0]\n",
    "]\n",
    "\n",
    "test.pop(0)\n",
    "print('pop', test)\n",
    "stored = test.copy().pop(0)\n",
    "print(stored)"
   ]
  },
  {
   "cell_type": "code",
   "execution_count": 162,
   "id": "3823c721-cb55-487a-b731-d5371c353d3a",
   "metadata": {},
   "outputs": [
    {
     "data": {
      "text/plain": [
       "[[-2, 7, 0], [-4, 1, 5], [-6, 8, 0]]"
      ]
     },
     "execution_count": 162,
     "metadata": {},
     "output_type": "execute_result"
    }
   ],
   "source": [
    "best_row = 0\n",
    "j = 0\n",
    "m = [\n",
    "    [2, -1, 3, 0],\n",
    "    [4, -2, 7, 0],\n",
    "    [-3, -4, 1, 5],\n",
    "    [6, -6, 8, 0]\n",
    "]\n",
    "\n",
    "minor = [r[:] for r in m] # don't want to change OG matrix\n",
    "minor.pop(best_row) # remove row\n",
    "minor = [row[:j] + row[j+1:] for row in minor]\n",
    "# for i in range(len(minor)):\n",
    "#     minor[i].pop(j) \n",
    "# minor = [ [r.pop(j) for r in minor]]\n",
    "minor\n",
    "# minor"
   ]
  },
  {
   "cell_type": "code",
   "execution_count": null,
   "id": "e730f895-0b2a-4041-8606-b49874920d22",
   "metadata": {},
   "outputs": [],
   "source": [
    "# [[-2, 7, 0], [-4, 1, 5], [-6, 8, 0]]"
   ]
  },
  {
   "cell_type": "code",
   "execution_count": 13,
   "id": "5dcfcb72-0c2b-4789-b12e-609ee6ca9257",
   "metadata": {},
   "outputs": [
    {
     "ename": "TypeError",
     "evalue": "unsupported operand type(s) for +=: 'builtin_function_or_method' and 'list'",
     "output_type": "error",
     "traceback": [
      "\u001b[0;31m---------------------------------------------------------------------------\u001b[0m",
      "\u001b[0;31mTypeError\u001b[0m                                 Traceback (most recent call last)",
      "Cell \u001b[0;32mIn[13], line 15\u001b[0m\n\u001b[1;32m     12\u001b[0m row \u001b[38;5;241m=\u001b[39m \u001b[38;5;241m1\u001b[39m\n\u001b[1;32m     14\u001b[0m \u001b[38;5;28;01mfor\u001b[39;00m j \u001b[38;5;129;01min\u001b[39;00m \u001b[38;5;28mrange\u001b[39m(\u001b[38;5;28mlen\u001b[39m(m)):\n\u001b[0;32m---> 15\u001b[0m     \u001b[38;5;28msum\u001b[39m \u001b[38;5;241m+\u001b[39m\u001b[38;5;241m=\u001b[39m (\u001b[38;5;241m-\u001b[39m\u001b[38;5;241m1\u001b[39m)\u001b[38;5;241m*\u001b[39m\u001b[38;5;241m*\u001b[39m(row \u001b[38;5;241m+\u001b[39m j \u001b[38;5;241m+\u001b[39m \u001b[38;5;241m1\u001b[39m) \u001b[38;5;241m*\u001b[39m m[row][j] \u001b[38;5;241m*\u001b[39m minor(m, row, j)\n",
      "\u001b[0;31mTypeError\u001b[0m: unsupported operand type(s) for +=: 'builtin_function_or_method' and 'list'"
     ]
    }
   ],
   "source": [
    "\n",
    "m = [[2,4,2],[3,1,1],[1,2,0]]\n",
    "\n",
    "def minor(m, row, col):\n",
    "    if len(m) == 2:\n",
    "        det = det2x2(m)\n",
    "        return m\n",
    "    else:\n",
    "        m.pop(row) # remove row\n",
    "        for i in range(len(m)):\n",
    "            m[i].pop(col)\n",
    "\n",
    "    \n",
    "    \n",
    "row = 1\n",
    "\n",
    "for j in range(len(m)):\n",
    "    sum += (-1)**(row + j + 1) * m[row][j] * minor(m, row, j)\n",
    "\n",
    "\n",
    "    \n",
    "# minor(m, 1, 1) "
   ]
  },
  {
   "cell_type": "code",
   "execution_count": 14,
   "id": "5d7287c5-71e4-4996-93a9-f9d7eeb2357e",
   "metadata": {},
   "outputs": [
    {
     "data": {
      "text/plain": [
       "2"
      ]
     },
     "execution_count": 14,
     "metadata": {},
     "output_type": "execute_result"
    }
   ],
   "source": [
    "m[1][0]"
   ]
  },
  {
   "cell_type": "code",
   "execution_count": null,
   "id": "d8f05dfa-9f0a-4052-b362-151575cfb85f",
   "metadata": {},
   "outputs": [],
   "source": [
    "m.pop(0)"
   ]
  },
  {
   "cell_type": "code",
   "execution_count": null,
   "id": "5153e00d-cad1-4d68-9467-1b566ffa4eaa",
   "metadata": {},
   "outputs": [],
   "source": [
    "if len(m) == 1:\n",
    "    det = m[0][0]\n",
    "    return det\n",
    "elif len(m) == 2:\n",
    "    det = det2x2(m)\n",
    "    return det\n",
    "else:\n",
    "    m.pop(row) # remove row\n",
    "    for i in range(len(m)):\n",
    "            m[i].pop(col)\n",
    "\n",
    "    sum += (-1)**(row + j + 1) * m[row][j] * minor(m, i, j)\n",
    "    "
   ]
  }
 ],
 "metadata": {
  "kernelspec": {
   "display_name": "Python 3 (ipykernel)",
   "language": "python",
   "name": "python3"
  },
  "language_info": {
   "codemirror_mode": {
    "name": "ipython",
    "version": 3
   },
   "file_extension": ".py",
   "mimetype": "text/x-python",
   "name": "python",
   "nbconvert_exporter": "python",
   "pygments_lexer": "ipython3",
   "version": "3.10.13"
  }
 },
 "nbformat": 4,
 "nbformat_minor": 5
}
