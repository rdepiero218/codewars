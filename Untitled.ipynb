{
 "cells": [
  {
   "cell_type": "code",
   "execution_count": null,
   "id": "a31d9f39-729f-4e4c-880b-db24b866bbc7",
   "metadata": {},
   "outputs": [],
   "source": [
    "# POP ONE BALLOON\n",
    "\n",
    "## define balloons\n",
    "balloon_options = ['empty', 'confetti']\n",
    "balloon_probs = [14/20, 6/20] # 6 balloons with confetti, 14 without\n",
    "\n",
    "# pop a balloon\n",
    "pop_balloon = random.choice(balloon_options, weights=balloon_probs) # selects an option from balloon_options, with given probability weights\n",
    "\n",
    "# test if balloon wins\n",
    "if pop_balloon == 'empty':\n",
    "    # do something\n",
    "\n",
    "elif pop_balloon = 'confetti':\n",
    "    # do something\n",
    "\n",
    "# print amount won\n",
    "\n",
    "## after you get the above working then\n",
    "\n",
    "## NEXT STEPS\n",
    "# Code full game w/4 darts\n",
    "# Using for loop to repeat code 4 times - will need to think about how to store results of each balloon\n",
    "\n",
    "# Code repeated games\n",
    "# Using for loop repeat whole game x number of times - will need to think about how to store results of each game\n"
   ]
  }
 ],
 "metadata": {
  "kernelspec": {
   "display_name": "Python 3 (ipykernel)",
   "language": "python",
   "name": "python3"
  },
  "language_info": {
   "codemirror_mode": {
    "name": "ipython",
    "version": 3
   },
   "file_extension": ".py",
   "mimetype": "text/x-python",
   "name": "python",
   "nbconvert_exporter": "python",
   "pygments_lexer": "ipython3",
   "version": "3.10.13"
  }
 },
 "nbformat": 4,
 "nbformat_minor": 5
}
