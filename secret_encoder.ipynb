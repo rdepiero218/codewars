{
 "cells": [
  {
   "cell_type": "markdown",
   "id": "a516761d-b81a-4827-a7c3-609d2f777448",
   "metadata": {},
   "source": [
    "# Another Secret Message Kata\n",
    "\n",
    "https://www.codewars.com/kata/52cf02cd825aef67070008fa/train/python\n"
   ]
  },
  {
   "cell_type": "code",
   "execution_count": 8,
   "id": "ba2257e7-5bd3-491f-afaf-0da038fe7583",
   "metadata": {},
   "outputs": [
    {
     "name": "stdout",
     "output_type": "stream",
     "text": [
      "Pretty printing has been turned OFF\n"
     ]
    }
   ],
   "source": [
    "import string\n",
    "\n",
    "letters = list(string.ascii_lowercase)\n",
    "values = list(range(26))\n",
    "\n",
    "%pprint  # turns of pretty print (to output lists horizontally rather than in column)"
   ]
  },
  {
   "cell_type": "code",
   "execution_count": 11,
   "id": "b1d6e2f9-f30d-48cb-a478-cafde2f9ff08",
   "metadata": {},
   "outputs": [
    {
     "name": "stdout",
     "output_type": "stream",
     "text": [
      "abcdefghijklmnopqrstuvwxyzABCDEFGHIJKLMNOPQRSTUVWXYZ\n",
      "abcdefghijklmnopqrstuvwxyz\n",
      "ABCDEFGHIJKLMNOPQRSTUVWXYZ\n",
      "0123456789\n",
      "0123456789abcdefABCDEF\n",
      " \t\n",
      "\u000b",
      "\f",
      "\n",
      "!\"#$%&'()*+,-./:;<=>?@[\\]^_`{|}~\n"
     ]
    }
   ],
   "source": [
    "print(string.ascii_letters)\n",
    "print(string.ascii_lowercase)\n",
    "print(string.ascii_uppercase)\n",
    "print(string.digits)\n",
    "print(string.hexdigits)\n",
    "print(string.whitespace)  # ' \\t\\n\\r\\x0b\\x0c'\n",
    "print(string.punctuation)"
   ]
  },
  {
   "cell_type": "code",
   "execution_count": 9,
   "id": "c1c0037b-8d14-4f0d-919d-3dffd21d5e23",
   "metadata": {},
   "outputs": [
    {
     "data": {
      "text/plain": [
       "['a', 'b', 'c', 'd', 'e', 'f', 'g', 'h', 'i', 'j', 'k', 'l', 'm', 'n', 'o', 'p', 'q', 'r', 's', 't', 'u', 'v', 'w', 'x', 'y', 'z']"
      ]
     },
     "execution_count": 9,
     "metadata": {},
     "output_type": "execute_result"
    }
   ],
   "source": [
    "list(string.ascii_lowercase)"
   ]
  },
  {
   "cell_type": "code",
   "execution_count": 10,
   "id": "e6b425c6-3758-4dfe-a064-e0cf2c7c43b5",
   "metadata": {},
   "outputs": [
    {
     "data": {
      "text/plain": [
       "['A', 'B', 'C', 'D', 'E', 'F', 'G', 'H', 'I', 'J', 'K', 'L', 'M', 'N', 'O', 'P', 'Q', 'R', 'S', 'T', 'U', 'V', 'W', 'X', 'Y', 'Z']"
      ]
     },
     "execution_count": 10,
     "metadata": {},
     "output_type": "execute_result"
    }
   ],
   "source": [
    "list(string.ascii_uppercase)"
   ]
  },
  {
   "cell_type": "code",
   "execution_count": 5,
   "id": "bb70f9e1-1413-44d8-adf9-bda7b2cab723",
   "metadata": {},
   "outputs": [],
   "source": [
    "X = \"aaaaaaaaaaaaaaaaaaaaaaaaaaaaaaaaaaaaaaaaaaaaaaaaaaaaaaaaaaaaaaaaaaaaaaaaaaaaaaa\"\n",
    "X_encode = 'bdhpF,82QsLirJejtNmzZKgnB3SwTyXG ?.6YIcflxVC5WE94UA1OoD70MkvRuPqHabdhpF,82QsLir'\n",
    "Y = \"bbbbbbbbbbbbbbbbbbbbbbbbbbbbbbbbbbbbbbbbbbbbbbbbbbbbbbbbbbbbbbbbbbbbb\"\n",
    "Y_encode = 'dhpF,82QsLirJejtNmzZKgnB3SwTyXG ?.6YIcflxVC5WE94UA1OoD70MkvRuPqHabdhp'\n",
    "\n",
    "## these are equal meaning symbols aren't encoded - but can appear in code\n",
    "Z = \"!@#$%^&*()_+-\"\n",
    "Z_encode = '!@#$%^&*()_+-'\n",
    "\n",
    "\n",
    "A_encode = 'bdfhjlnprtvxzBDFHJLNPRTVXZ'\n",
    "B_encode = 'dhlptxBFJNRVZ37,aeimquyCGK'\n",
    "C_encode = 'hpxFNV3,emuCKS08bjrzHPX5 g'"
   ]
  },
  {
   "cell_type": "code",
   "execution_count": 6,
   "id": "45aa3c44-a095-49e4-ad1a-ff57603cfd11",
   "metadata": {},
   "outputs": [
    {
     "data": {
      "text/plain": [
       "True"
      ]
     },
     "execution_count": 6,
     "metadata": {},
     "output_type": "execute_result"
    }
   ],
   "source": [
    "Z == Z_encode"
   ]
  },
  {
   "cell_type": "code",
   "execution_count": 3,
   "id": "4663bad8-cc82-40be-b913-6e5baad7de1a",
   "metadata": {},
   "outputs": [],
   "source": [
    "# print(encode(\"aaaaaaaaaaaaaaaaaaaaaaaaaaaaaaaaaaaaaaaaaaaaaaaaaaaaaaaaaaaaaaaaaaaaaaaaaaaaaaa\"))\n",
    "# print(encode(\"bbbbbbbbbbbbbbbbbbbbbbbbbbbbbbbbbbbbbbbbbbbbbbbbbbbbbbbbbbbbbbbbbbbbb\"))\n",
    "# print(encode(\"!@#$%^&*()_+-\")) \n",
    "\n",
    "\n",
    "\n",
    "# a,b,c = \"\", \"\", \"\"\n",
    "# for w in \"abcdefghijklmnopqrstuvwxyz\":\n",
    "#     a += encode(  \"\" + w)[0]\n",
    "#     b += encode( \"_\" + w)[1]\n",
    "#     c += encode(\"__\" + w)[2]\n",
    "# print(a)\n",
    "# print(b)\n",
    "# print(c)\n",
    "\n",
    "# decode(\"atC5kcOuKAr!\") -> \"Hello World!\""
   ]
  },
  {
   "cell_type": "code",
   "execution_count": 12,
   "id": "336ea53e-3b89-43ed-86a9-f01d5a57f0e3",
   "metadata": {},
   "outputs": [],
   "source": [
    "# for w in \"abcdefghijklmnopqrstuvwxyz\":\n",
    "#     print(w)"
   ]
  },
  {
   "cell_type": "code",
   "execution_count": null,
   "id": "7d47d531-6e8f-404a-a5f1-4df6bc039308",
   "metadata": {},
   "outputs": [],
   "source": [
    "sample = 'abcdefghijklmnopqrstuvwxyzABCDEFGHIJKLMNOPQRSTUVWXYZ'\n",
    "         'bdfhjlnprtvxzBDFHJLNPRTVXZ'"
   ]
  }
 ],
 "metadata": {
  "kernelspec": {
   "display_name": "Python 3 (ipykernel)",
   "language": "python",
   "name": "python3"
  },
  "language_info": {
   "codemirror_mode": {
    "name": "ipython",
    "version": 3
   },
   "file_extension": ".py",
   "mimetype": "text/x-python",
   "name": "python",
   "nbconvert_exporter": "python",
   "pygments_lexer": "ipython3",
   "version": "3.10.13"
  }
 },
 "nbformat": 4,
 "nbformat_minor": 5
}
