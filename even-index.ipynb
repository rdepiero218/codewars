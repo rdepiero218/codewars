{
 "cells": [
  {
   "cell_type": "code",
   "execution_count": 52,
   "id": "3c4f54c7-3294-485c-9656-4165350d0d81",
   "metadata": {
    "tags": []
   },
   "outputs": [],
   "source": [
    "def find_even_index(arr):\n",
    "    \n",
    "    for i in range(0,len(arr)):\n",
    "        \n",
    "        left = arr[0:i]\n",
    "        \n",
    "        sum_left = sum(left)\n",
    "        \n",
    "        right = arr[i+1:]\n",
    "        \n",
    "        sum_right = sum(right)\n",
    "        \n",
    "        \n",
    "        if sum_left == sum_right:\n",
    "            print(i)\n",
    "            return i\n",
    "            \n",
    "#         else:\n",
    "#             i += 1\n",
    "        \n",
    "    return -1\n",
    "    \n",
    "    #your code here"
   ]
  },
  {
   "cell_type": "code",
   "execution_count": 53,
   "id": "224dc19c-68c5-433c-b061-a7a4c2cdafab",
   "metadata": {
    "tags": []
   },
   "outputs": [
    {
     "name": "stdout",
     "output_type": "stream",
     "text": [
      "3\n"
     ]
    },
    {
     "data": {
      "text/plain": [
       "3"
      ]
     },
     "execution_count": 53,
     "metadata": {},
     "output_type": "execute_result"
    }
   ],
   "source": [
    "# arr = [10,-80,10,10,15,35,20]\n",
    "arr = [1,2,3,4,3,2,1]\n",
    "\n",
    "find_even_index(arr)\n"
   ]
  },
  {
   "cell_type": "code",
   "execution_count": 35,
   "id": "6de45637-bb37-46e0-b9fc-8b8dc4a8b115",
   "metadata": {
    "tags": []
   },
   "outputs": [
    {
     "data": {
      "text/plain": [
       "-35"
      ]
     },
     "execution_count": 35,
     "metadata": {},
     "output_type": "execute_result"
    }
   ],
   "source": [
    "arr[0:5]\n",
    "sum(arr[0:5])"
   ]
  },
  {
   "cell_type": "code",
   "execution_count": 34,
   "id": "81599380-cc9d-4095-86bf-c9a2a2ecc738",
   "metadata": {
    "tags": []
   },
   "outputs": [
    {
     "data": {
      "text/plain": [
       "20"
      ]
     },
     "execution_count": 34,
     "metadata": {},
     "output_type": "execute_result"
    }
   ],
   "source": [
    "arr[7:]\n",
    "sum(arr[6:])"
   ]
  },
  {
   "cell_type": "code",
   "execution_count": 49,
   "id": "8319e8c1-bd92-4cf4-8d22-7daccd183fe1",
   "metadata": {
    "tags": []
   },
   "outputs": [
    {
     "name": "stdout",
     "output_type": "stream",
     "text": [
      "i =  1\n",
      "[1]\n",
      "left 1\n",
      "[3, 4, 3, 2, 1]\n",
      "right 13\n",
      "i =  2\n",
      "[1, 2]\n",
      "left 3\n",
      "[4, 3, 2, 1]\n",
      "right 10\n",
      "i =  3\n",
      "[1, 2, 3]\n",
      "left 6\n",
      "[3, 2, 1]\n",
      "right 6\n",
      "i =  4\n",
      "[1, 2, 3, 4]\n",
      "left 10\n",
      "[2, 1]\n",
      "right 3\n",
      "i =  5\n",
      "[1, 2, 3, 4, 3]\n",
      "left 13\n",
      "[1]\n",
      "right 1\n",
      "i =  6\n",
      "[1, 2, 3, 4, 3, 2]\n",
      "left 15\n",
      "[]\n",
      "right 0\n"
     ]
    }
   ],
   "source": [
    "for i in range(1,len(arr)):\n",
    "    print('i = ', i)\n",
    "    left = arr[0:i]\n",
    "    print(left)\n",
    "    sum_left = sum(left)\n",
    "    print('left', sum_left)\n",
    "    right = arr[i+1:]\n",
    "    print(right)\n",
    "    sum_right = sum(right)\n",
    "    print('right', sum_right)"
   ]
  },
  {
   "cell_type": "code",
   "execution_count": 13,
   "id": "c98f68d8-b96a-4fad-bce2-619832c24121",
   "metadata": {
    "tags": []
   },
   "outputs": [
    {
     "data": {
      "text/plain": [
       "[10, -80]"
      ]
     },
     "execution_count": 13,
     "metadata": {},
     "output_type": "execute_result"
    }
   ],
   "source": [
    "i = 3\n",
    "arr[0:i-1]"
   ]
  },
  {
   "cell_type": "code",
   "execution_count": 14,
   "id": "221194d6-91df-4de3-acb6-8c0b60842f31",
   "metadata": {
    "tags": []
   },
   "outputs": [
    {
     "data": {
      "text/plain": [
       "-70"
      ]
     },
     "execution_count": 14,
     "metadata": {},
     "output_type": "execute_result"
    }
   ],
   "source": [
    "sum(arr[0:i-1])"
   ]
  },
  {
   "cell_type": "code",
   "execution_count": 46,
   "id": "7133dfb6-55c3-4785-8922-162959636d4c",
   "metadata": {
    "tags": []
   },
   "outputs": [
    {
     "data": {
      "text/plain": [
       "[1, 2]"
      ]
     },
     "execution_count": 46,
     "metadata": {},
     "output_type": "execute_result"
    }
   ],
   "source": [
    "arr = [1, 2, 3, 4]\n",
    "\n",
    "arr[0:2]"
   ]
  },
  {
   "cell_type": "code",
   "execution_count": 91,
   "id": "c3c916c5-29c4-4a5c-b434-672ad22f2341",
   "metadata": {
    "tags": []
   },
   "outputs": [],
   "source": [
    "# url = \"http://github.com/carbonfive/raygun\" #-> domain name = \"github\"\n",
    "url = \"http://www.zombie-bites.com\"\n",
    "# url.find('//')\n",
    "# type(url.find('.'))\n",
    "\n",
    "# start = url.find('//')+2\n",
    "# # stop = url.find('//')\n",
    "# domain_name = url[start: url.find('.',start+2)]\n",
    "# domain_name"
   ]
  },
  {
   "cell_type": "code",
   "execution_count": 77,
   "id": "f3f1fa46-25a7-429a-a35d-6eb274fe26c5",
   "metadata": {
    "tags": []
   },
   "outputs": [
    {
     "data": {
      "text/plain": [
       "5"
      ]
     },
     "execution_count": 77,
     "metadata": {},
     "output_type": "execute_result"
    }
   ],
   "source": [
    "url.rfind('//')"
   ]
  },
  {
   "cell_type": "code",
   "execution_count": 84,
   "id": "229622e3-e1ad-4876-8187-d3209461ea81",
   "metadata": {
    "tags": []
   },
   "outputs": [
    {
     "data": {
      "text/plain": [
       "-1"
      ]
     },
     "execution_count": 84,
     "metadata": {},
     "output_type": "execute_result"
    }
   ],
   "source": [
    "url.rfind('www.')"
   ]
  },
  {
   "cell_type": "code",
   "execution_count": 108,
   "id": "ee06c25e-3a37-4a44-a62e-4d8501cdedd4",
   "metadata": {
    "tags": []
   },
   "outputs": [],
   "source": [
    "# url.rsplit('//')\n",
    "url = 'www.xakep.ru'"
   ]
  },
  {
   "cell_type": "code",
   "execution_count": 116,
   "id": "f26647b8-6551-41c1-8435-c5d4e4d72275",
   "metadata": {
    "tags": []
   },
   "outputs": [
    {
     "ename": "NameError",
     "evalue": "name 'name' is not defined",
     "output_type": "error",
     "traceback": [
      "\u001b[0;31m---------------------------------------------------------------------------\u001b[0m",
      "\u001b[0;31mNameError\u001b[0m                                 Traceback (most recent call last)",
      "Cell \u001b[0;32mIn[116], line 9\u001b[0m\n\u001b[1;32m      6\u001b[0m     start \u001b[38;5;241m=\u001b[39m url\u001b[38;5;241m.\u001b[39mfind(\u001b[38;5;124m'\u001b[39m\u001b[38;5;124mwww.\u001b[39m\u001b[38;5;124m'\u001b[39m)\u001b[38;5;241m+\u001b[39m\u001b[38;5;241m4\u001b[39m\n\u001b[1;32m      7\u001b[0m     name \u001b[38;5;241m=\u001b[39m url[start: url\u001b[38;5;241m.\u001b[39mfind(\u001b[38;5;124m'\u001b[39m\u001b[38;5;124m.\u001b[39m\u001b[38;5;124m'\u001b[39m,start\u001b[38;5;241m+\u001b[39m\u001b[38;5;241m2\u001b[39m)]\n\u001b[0;32m----> 9\u001b[0m \u001b[43mname\u001b[49m\n",
      "\u001b[0;31mNameError\u001b[0m: name 'name' is not defined"
     ]
    }
   ],
   "source": [
    "if url.rfind('//') > 0:\n",
    "    start = url.find('//')+2\n",
    "    name = url[start: url.find('.',start+2)]\n",
    "\n",
    "if url.rfind('www.') > 0:\n",
    "    start = url.find('www.')+4\n",
    "    name = url[start: url.find('.',start+2)]\n",
    "\n",
    "name\n",
    "    "
   ]
  },
  {
   "cell_type": "code",
   "execution_count": null,
   "id": "55aa0e5e-e700-4b25-a0f4-93d027b7554d",
   "metadata": {},
   "outputs": [],
   "source": []
  },
  {
   "cell_type": "code",
   "execution_count": 107,
   "id": "34246089-3fa8-4131-a29e-5f536807a3bb",
   "metadata": {
    "tags": []
   },
   "outputs": [],
   "source": [
    "url = 'www.xakep.ru'"
   ]
  },
  {
   "cell_type": "code",
   "execution_count": 110,
   "id": "5771d426-2d59-4de7-bd46-151357549512",
   "metadata": {
    "tags": []
   },
   "outputs": [],
   "source": [
    "# def domain_name(url):\n",
    "#     name = ''\n",
    "    \n",
    "#     if url.rfind('//') > 0:\n",
    "#         start = url.find('//')+2\n",
    "#         name += url[start: url.find('.',start+2)]\n",
    "\n",
    "#     if url.rfind('www.') > 0:\n",
    "#         start = url.find('www.')+4\n",
    "#         name += url[start: url.find('.',start+4)]\n",
    "    \n",
    "#     return name"
   ]
  },
  {
   "cell_type": "code",
   "execution_count": 111,
   "id": "88fe0c1e-fe53-476e-95ce-bccba55b3ed7",
   "metadata": {
    "tags": []
   },
   "outputs": [],
   "source": [
    "# domain_name(url)"
   ]
  },
  {
   "cell_type": "code",
   "execution_count": 114,
   "id": "7ecfc653-6013-427d-a503-ae6ac65319c3",
   "metadata": {
    "tags": []
   },
   "outputs": [
    {
     "name": "stdout",
     "output_type": "stream",
     "text": [
      "\u001b[H\u001b[2J"
     ]
    }
   ],
   "source": [
    "%clear domain_name"
   ]
  },
  {
   "cell_type": "code",
   "execution_count": null,
   "id": "72651343-a9e9-4ccf-bf2d-08b5a34ee92f",
   "metadata": {},
   "outputs": [],
   "source": []
  }
 ],
 "metadata": {
  "kernelspec": {
   "display_name": "Python 3 (ipykernel)",
   "language": "python",
   "name": "python3"
  },
  "language_info": {
   "codemirror_mode": {
    "name": "ipython",
    "version": 3
   },
   "file_extension": ".py",
   "mimetype": "text/x-python",
   "name": "python",
   "nbconvert_exporter": "python",
   "pygments_lexer": "ipython3",
   "version": "3.10.13"
  }
 },
 "nbformat": 4,
 "nbformat_minor": 5
}
