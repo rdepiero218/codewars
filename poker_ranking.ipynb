{
 "cells": [
  {
   "cell_type": "code",
   "execution_count": 14,
   "id": "82cfaead-cf87-4c5d-9805-ed6e75957421",
   "metadata": {},
   "outputs": [
    {
     "name": "stdout",
     "output_type": "stream",
     "text": [
      "[9, 8, 7, 6, 5, 4, 3, 2, 1, 0]\n",
      "[]\n",
      "[]\n",
      "[]\n",
      "[]\n",
      "[]\n",
      "[]\n",
      "[]\n",
      "[]\n",
      "[]\n",
      "[]\n"
     ]
    }
   ],
   "source": [
    "nums = list(range(10))\n",
    "nums.reverse()\n",
    "print(nums)\n",
    "\n",
    "# for i in range(len(nums)):\n",
    "#     filtered_list = list(filter(lambda x : nums[i] > x, nums))\n",
    "# print(filtered_list)\n",
    "for num in nums:\n",
    "    filtered_list = list(filter(lambda x : nums[i] > x, nums))\n",
    "    print(filtered_list)"
   ]
  },
  {
   "cell_type": "code",
   "execution_count": 92,
   "id": "955dcabc-528f-4eed-ae94-e2a49dc5d059",
   "metadata": {},
   "outputs": [
    {
     "name": "stdout",
     "output_type": "stream",
     "text": [
      "['2S', 'AH', '2H', 'AS', 'AC']\n",
      "['S', 'H', 'H', 'S', 'C']\n",
      "[2, 14, 2, 14, 14]\n",
      "consecutive:  False\n",
      "same suits:  False\n",
      "[2, 2, 14, 14, 14]\n",
      "card set vals:  [[2, 2], [14, 14, 14]]\n",
      "card set lengths [2, 3]\n",
      "Num dups:  5\n",
      "unique dups:  2\n"
     ]
    }
   ],
   "source": [
    "import re\n",
    "\n",
    "hand = \"2H 3H 4H 5H 6H\"\n",
    "# hand = 'KS AS TS QS JS'\n",
    "# hand = '2S 2H 4H 5S 4C'\n",
    "hand = '2S AH 2H AS AC' # full house\n",
    "# hand = 'JS JD JC JH AD' # 4 of a kind\n",
    "# hand = 'AH AC 5H 6H 7S' # 1 pair\n",
    "cards = hand.split(' ')\n",
    "print(cards)\n",
    "\n",
    "card_val = {'2': 2, '3': 3, '4': 4, '5': 5, '6': 6, '7': 7, '8': 8, '9': 9, 'T': 10, 'J': 11, 'Q': 12, 'K': 13, 'A': 14}\n",
    "\n",
    "#find suits\n",
    "suits = re.findall(r'[HSCD]', hand)\n",
    "\n",
    "#find vals\n",
    "vals = re.findall(r'[2-9TJQKA]', hand)\n",
    "vals = [card_val[val] for val in vals]\n",
    "\n",
    "print(suits)\n",
    "print(vals)\n",
    "\n",
    "#checks consecutive values\n",
    "print('consecutive: ', sorted(vals) == list(range(min(vals), max(vals)+1)) )\n",
    "\n",
    "print('same suits: ', len(set(suits)) == 1)\n",
    "\n",
    "# pairs\n",
    "duplicates = [val for val in vals if vals.count(val) > 1]\n",
    "dup_length = len(duplicates)\n",
    "duplicates.sort()\n",
    "print(duplicates)\n",
    "duplicate_set = set(duplicates)\n",
    "\n",
    "card_sets = [[s for val in range(duplicates.count(s)) ] for s in duplicate_set]\n",
    "\n",
    "# what to do to get length of these sets after the fact?\n",
    "# if length card_sets >1, then find length of each list\n",
    "set_lengths = [len(card_set) for card_set in card_sets]\n",
    "\n",
    "print('card set vals: ', card_sets)\n",
    "print('card set lengths', set_lengths)\n",
    "print('Num dups: ', dup_length)\n",
    "count_duplicates = len(set(duplicates))\n",
    "print('unique dups: ', count_duplicates)\n"
   ]
  },
  {
   "cell_type": "code",
   "execution_count": 45,
   "id": "2c80bf5a-9c8d-4b6c-8ed5-1ad6240ba1c2",
   "metadata": {},
   "outputs": [
    {
     "data": {
      "text/plain": [
       "{2, 4, 5}"
      ]
     },
     "execution_count": 45,
     "metadata": {},
     "output_type": "execute_result"
    }
   ],
   "source": [
    "set()"
   ]
  },
  {
   "cell_type": "code",
   "execution_count": 93,
   "id": "97bc0fb6-1872-4e72-9367-106fdaf22640",
   "metadata": {},
   "outputs": [
    {
     "data": {
      "text/plain": [
       "[14, 14, 14]"
      ]
     },
     "execution_count": 93,
     "metadata": {},
     "output_type": "execute_result"
    }
   ],
   "source": [
    "max(card_sets)"
   ]
  },
  {
   "cell_type": "code",
   "execution_count": 97,
   "id": "39f5ef41-6b89-4e7f-bbbd-1eb26223d453",
   "metadata": {},
   "outputs": [
    {
     "data": {
      "text/plain": [
       "[[2, 2], [14, 14, 14]]"
      ]
     },
     "execution_count": 97,
     "metadata": {},
     "output_type": "execute_result"
    }
   ],
   "source": [
    "list1 = [[2, 2], [14, 14, 14]]\n",
    "list2 = [[14, 14, 14], [2,2]]\n",
    "\n",
    "list2.sort()\n",
    "list2"
   ]
  },
  {
   "cell_type": "code",
   "execution_count": 35,
   "id": "9bd3412c-2272-433b-b0ba-14754fa96330",
   "metadata": {},
   "outputs": [
    {
     "name": "stdout",
     "output_type": "stream",
     "text": [
      "13\n",
      "13\n",
      "['2', '3', '4', '5', '6', '7', '8', '9', 'T', 'J', 'Q', 'K', 'A']\n",
      "[2, 3, 4, 5, 6, 7, 8, 9, 10, 11, 12, 13, 14]\n",
      "{'2': 2, '3': 3, '4': 4, '5': 5, '6': 6, '7': 7, '8': 8, '9': 9, 'T': 10, 'J': 11, 'Q': 12, 'K': 13, 'A': 14}\n"
     ]
    }
   ],
   "source": [
    "key_list = '2 3 4 5 6 7 8 9 T J Q K A'.split(' ')\n",
    "# key_list\n",
    "print(len(key_list))\n",
    "val_list = list(range(2, len(key_list)+2))\n",
    "print(len(val_list))\n",
    "print(key_list)\n",
    "print(val_list)\n",
    "vals_dict = dict(zip(key_list, val_list))\n",
    "print(vals_dict)"
   ]
  },
  {
   "cell_type": "code",
   "execution_count": 98,
   "id": "12f55194-8d4e-467b-b8fa-47e38002aed0",
   "metadata": {},
   "outputs": [
    {
     "data": {
      "text/plain": [
       "['5', '1', '0', '5', '1', '0', '1', '0']"
      ]
     },
     "execution_count": 98,
     "metadata": {},
     "output_type": "execute_result"
    }
   ],
   "source": [
    "other = '5D 10S 5D 10H 10C' # full house\n",
    "\n",
    "re.findall(r'[0-9TJQKA]', other)"
   ]
  },
  {
   "cell_type": "code",
   "execution_count": 103,
   "id": "46fe200e-97ad-4707-b4a7-afbdf178cb50",
   "metadata": {},
   "outputs": [
    {
     "name": "stdout",
     "output_type": "stream",
     "text": [
      "[14, 14, 5, 6, 7]\n",
      "{7, 5, 14, 6}\n",
      "{14}\n"
     ]
    }
   ],
   "source": [
    "p_vals = [14, 14, 5, 6, 7]\n",
    "o_vals = [6, 14, 7, 4, 14]\n",
    "card_sets = [[14, 14]]\n",
    "print(vals)\n",
    "\n",
    "print(set(vals))\n",
    "# print(set(card_sets))\n",
    "\n",
    "card_set_vals = {max(card_set) for card_set in card_sets}\n",
    "print(card_set_vals)"
   ]
  },
  {
   "cell_type": "code",
   "execution_count": 104,
   "id": "99378d07-df97-4f29-bcf8-ea4351085795",
   "metadata": {},
   "outputs": [
    {
     "data": {
      "text/plain": [
       "{5, 6, 7}"
      ]
     },
     "execution_count": 104,
     "metadata": {},
     "output_type": "execute_result"
    }
   ],
   "source": [
    "set(vals).difference(card_set_vals)"
   ]
  },
  {
   "cell_type": "code",
   "execution_count": 105,
   "id": "6cdb515e-d0fd-4ba9-a9d0-b8b096a2a11a",
   "metadata": {},
   "outputs": [
    {
     "data": {
      "text/plain": [
       "7"
      ]
     },
     "execution_count": 105,
     "metadata": {},
     "output_type": "execute_result"
    }
   ],
   "source": [
    "max(set(vals).difference(card_set_vals))"
   ]
  },
  {
   "cell_type": "code",
   "execution_count": 106,
   "id": "910b57e5-64f6-4c40-bc74-05924da39ac7",
   "metadata": {},
   "outputs": [
    {
     "data": {
      "text/plain": [
       "[14, 14]"
      ]
     },
     "execution_count": 106,
     "metadata": {},
     "output_type": "execute_result"
    }
   ],
   "source": [
    "max([[4, 4], [14, 14]])"
   ]
  },
  {
   "cell_type": "code",
   "execution_count": 109,
   "id": "24d13e8e-90f6-4549-a8b4-1174353a4349",
   "metadata": {},
   "outputs": [
    {
     "data": {
      "text/plain": [
       "[10, 10]"
      ]
     },
     "execution_count": 109,
     "metadata": {},
     "output_type": "execute_result"
    }
   ],
   "source": [
    "max([[10, 10],[7, 7]])"
   ]
  },
  {
   "cell_type": "code",
   "execution_count": 112,
   "id": "7e9dc1f9-2574-47ee-8a58-59441df1db1b",
   "metadata": {},
   "outputs": [
    {
     "name": "stdout",
     "output_type": "stream",
     "text": [
      "{14, 6, 7}\n"
     ]
    }
   ],
   "source": [
    "# opponent cards as set excluding pairs\n",
    "# plaer cards as set exluding pairs\n",
    "# also actually exluding all cards that are same\n",
    "\n",
    "p_vals = [14, 14, 5, 6, 7]\n",
    "o_vals = [6, 14, 7, 4, 14]\n",
    "\n",
    "print(set(p_vals).intersection(set(o_vals)))\n"
   ]
  },
  {
   "cell_type": "code",
   "execution_count": 117,
   "id": "73bf7746-e349-499e-b617-ce5d59c2d1a5",
   "metadata": {},
   "outputs": [
    {
     "data": {
      "text/plain": [
       "5"
      ]
     },
     "execution_count": 117,
     "metadata": {},
     "output_type": "execute_result"
    }
   ],
   "source": [
    "max(set(p_vals) - set(p_vals).intersection(set(o_vals)))"
   ]
  },
  {
   "cell_type": "code",
   "execution_count": 116,
   "id": "59c5ec75-5fe3-4dea-b25e-10861ded49f1",
   "metadata": {},
   "outputs": [
    {
     "data": {
      "text/plain": [
       "{4}"
      ]
     },
     "execution_count": 116,
     "metadata": {},
     "output_type": "execute_result"
    }
   ],
   "source": [
    "set(o_vals) - set(o_vals).intersection(set(p_vals))"
   ]
  },
  {
   "cell_type": "code",
   "execution_count": 118,
   "id": "6efe0a76-94bd-4b30-91ea-af3d2e276ae3",
   "metadata": {},
   "outputs": [],
   "source": [
    "x = [[2, 2, 2], [3, 3]]\n",
    "\n",
    "y = [[2, 2], [3, 3, 3]]"
   ]
  },
  {
   "cell_type": "code",
   "execution_count": 123,
   "id": "92d2f6f4-a5c4-438c-a780-92789000226a",
   "metadata": {},
   "outputs": [
    {
     "data": {
      "text/plain": [
       "[2, 2, 2]"
      ]
     },
     "execution_count": 123,
     "metadata": {},
     "output_type": "execute_result"
    }
   ],
   "source": [
    "max(x, key=len)"
   ]
  },
  {
   "cell_type": "code",
   "execution_count": 122,
   "id": "a5292aa6-8d77-46c2-b46b-6b463d02f3c4",
   "metadata": {},
   "outputs": [
    {
     "data": {
      "text/plain": [
       "[3, 3, 3]"
      ]
     },
     "execution_count": 122,
     "metadata": {},
     "output_type": "execute_result"
    }
   ],
   "source": [
    "max(y, key=len)"
   ]
  },
  {
   "cell_type": "code",
   "execution_count": null,
   "id": "5550baa3-ee9a-49d2-8707-0bb555f448b0",
   "metadata": {},
   "outputs": [],
   "source": []
  }
 ],
 "metadata": {
  "kernelspec": {
   "display_name": "Python 3 (ipykernel)",
   "language": "python",
   "name": "python3"
  },
  "language_info": {
   "codemirror_mode": {
    "name": "ipython",
    "version": 3
   },
   "file_extension": ".py",
   "mimetype": "text/x-python",
   "name": "python",
   "nbconvert_exporter": "python",
   "pygments_lexer": "ipython3",
   "version": "3.10.13"
  }
 },
 "nbformat": 4,
 "nbformat_minor": 5
}
