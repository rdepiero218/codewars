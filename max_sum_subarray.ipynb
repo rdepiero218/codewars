{
 "cells": [
  {
   "cell_type": "code",
   "execution_count": 1,
   "id": "6eb76247-246b-4a1d-bdf1-ae58d3831890",
   "metadata": {
    "tags": []
   },
   "outputs": [],
   "source": [
    "def find_it(seq):\n",
    "    \n",
    "    sub_seq = []\n",
    "    \n",
    "    for elem in seq:\n",
    "        if elem not in sub_seq:\n",
    "            sub_seq.append(elem)\n",
    "    \n",
    "    print(sub_seq)\n",
    "    odd_val = 0\n",
    "    \n",
    "    elem_count = 0\n",
    "    \n",
    "    for elem in seq:\n",
    "        \n",
    "        elem_count = sub_seq.count(elem)\n",
    "        print('element:', elem, 'count: ', elem_count)\n",
    "    \n",
    "        if elem_count % 2 > 0:\n",
    "            odd_val = elem\n",
    "            print(odd_val)\n",
    "        \n",
    "        \n",
    "    return odd_val"
   ]
  },
  {
   "cell_type": "code",
   "execution_count": 2,
   "id": "db053042-201e-4232-936a-18e9c5feecdf",
   "metadata": {
    "tags": []
   },
   "outputs": [
    {
     "name": "stdout",
     "output_type": "stream",
     "text": [
      "[1, 10]\n",
      "element: 1 count:  1\n",
      "1\n",
      "element: 1 count:  1\n",
      "1\n",
      "element: 1 count:  1\n",
      "1\n",
      "element: 1 count:  1\n",
      "1\n",
      "element: 1 count:  1\n",
      "1\n",
      "element: 1 count:  1\n",
      "1\n",
      "element: 10 count:  1\n",
      "10\n",
      "element: 1 count:  1\n",
      "1\n",
      "element: 1 count:  1\n",
      "1\n",
      "element: 1 count:  1\n",
      "1\n",
      "element: 1 count:  1\n",
      "1\n"
     ]
    },
    {
     "data": {
      "text/plain": [
       "1"
      ]
     },
     "execution_count": 2,
     "metadata": {},
     "output_type": "execute_result"
    }
   ],
   "source": [
    "find_it([1,1,1,1,1,1,10,1,1,1,1])"
   ]
  },
  {
   "cell_type": "code",
   "execution_count": 3,
   "id": "5522ed42-2f73-4ebd-9646-671f087f101e",
   "metadata": {
    "tags": []
   },
   "outputs": [
    {
     "name": "stdout",
     "output_type": "stream",
     "text": [
      "[20, 1, 2, 3, 5, 4]\n",
      "element: 20 count:  1\n",
      "20\n",
      "element: 1 count:  1\n",
      "1\n",
      "element: 1 count:  1\n",
      "1\n",
      "element: 2 count:  1\n",
      "2\n",
      "element: 2 count:  1\n",
      "2\n",
      "element: 3 count:  1\n",
      "3\n",
      "element: 3 count:  1\n",
      "3\n",
      "element: 5 count:  1\n",
      "5\n",
      "element: 5 count:  1\n",
      "5\n",
      "element: 4 count:  1\n",
      "4\n",
      "element: 20 count:  1\n",
      "20\n",
      "element: 4 count:  1\n",
      "4\n",
      "element: 5 count:  1\n",
      "5\n"
     ]
    },
    {
     "data": {
      "text/plain": [
       "5"
      ]
     },
     "execution_count": 3,
     "metadata": {},
     "output_type": "execute_result"
    }
   ],
   "source": [
    "find_it([20,1,1,2,2,3,3,5,5,4,20,4,5])"
   ]
  },
  {
   "cell_type": "code",
   "execution_count": 4,
   "id": "5b6651b5-b841-4d36-a01b-ac26047e7cdc",
   "metadata": {
    "tags": []
   },
   "outputs": [],
   "source": [
    "test = [20,1,1,2,2,3,3,5,5,4,20,4,5]"
   ]
  },
  {
   "cell_type": "code",
   "execution_count": 5,
   "id": "acb6a1db-77e6-4ac1-bd42-9bff54fbbc61",
   "metadata": {
    "tags": []
   },
   "outputs": [
    {
     "data": {
      "text/plain": [
       "[1, 1, 2, 2, 3, 3, 4, 4, 5, 5, 5, 20, 20]"
      ]
     },
     "execution_count": 5,
     "metadata": {},
     "output_type": "execute_result"
    }
   ],
   "source": [
    "test.sort()\n",
    "test"
   ]
  },
  {
   "cell_type": "code",
   "execution_count": 6,
   "id": "e903ea7e-474e-47d3-859a-17d695e13ca8",
   "metadata": {
    "tags": []
   },
   "outputs": [
    {
     "data": {
      "text/plain": [
       "2"
      ]
     },
     "execution_count": 6,
     "metadata": {},
     "output_type": "execute_result"
    }
   ],
   "source": [
    "test.count(20)"
   ]
  },
  {
   "cell_type": "code",
   "execution_count": 7,
   "id": "8312defc-6ec1-4f88-b8c6-69c2ad570d1b",
   "metadata": {
    "tags": []
   },
   "outputs": [
    {
     "data": {
      "text/plain": [
       "2"
      ]
     },
     "execution_count": 7,
     "metadata": {},
     "output_type": "execute_result"
    }
   ],
   "source": [
    "test.count(4)"
   ]
  },
  {
   "cell_type": "code",
   "execution_count": 8,
   "id": "9e3d5128-1c26-4442-9291-f0279a127251",
   "metadata": {
    "tags": []
   },
   "outputs": [],
   "source": [
    "test_sub = [20, 1, 2, 3, 5, 4]"
   ]
  },
  {
   "cell_type": "code",
   "execution_count": 9,
   "id": "953d40f1-6283-4cb5-b43f-e7dbebe49509",
   "metadata": {
    "tags": []
   },
   "outputs": [
    {
     "name": "stdout",
     "output_type": "stream",
     "text": [
      "1\n",
      "1\n",
      "1\n",
      "1\n",
      "1\n",
      "1\n"
     ]
    }
   ],
   "source": [
    "elem_count = 0\n",
    "for elem in test_sub:\n",
    "     elem_count = test_sub.count(elem)\n",
    "     print(elem_count)"
   ]
  },
  {
   "cell_type": "code",
   "execution_count": 10,
   "id": "cf9cb7de-4ff4-47dd-bd18-0a9fd4d09ced",
   "metadata": {},
   "outputs": [],
   "source": [
    "def solution(n):\n",
    "    # TODO convert int to roman string\n",
    "    \n",
    "    if n < 1 or n > 3999:\n",
    "        return None\n",
    "    \n",
    "    numeral = ''\n",
    "    \n",
    "    \n",
    "        \n",
    "    return"
   ]
  },
  {
   "cell_type": "code",
   "execution_count": 11,
   "id": "9aa528dd-d216-4acb-817a-3aa21e0c70f2",
   "metadata": {
    "tags": []
   },
   "outputs": [
    {
     "data": {
      "text/plain": [
       "989"
      ]
     },
     "execution_count": 11,
     "metadata": {},
     "output_type": "execute_result"
    }
   ],
   "source": [
    "n = 3989\n",
    "\n",
    "n % 1000"
   ]
  },
  {
   "cell_type": "code",
   "execution_count": 12,
   "id": "b8d609f1-b0ed-48d4-921d-5e9f752d1dea",
   "metadata": {
    "tags": []
   },
   "outputs": [
    {
     "data": {
      "text/plain": [
       "3"
      ]
     },
     "execution_count": 12,
     "metadata": {},
     "output_type": "execute_result"
    }
   ],
   "source": [
    "int(n/1000)"
   ]
  },
  {
   "cell_type": "code",
   "execution_count": 13,
   "id": "ef9d88ad-6441-49fc-81d4-3d24387cb4ed",
   "metadata": {
    "tags": []
   },
   "outputs": [
    {
     "data": {
      "text/plain": [
       "45"
      ]
     },
     "execution_count": 13,
     "metadata": {},
     "output_type": "execute_result"
    }
   ],
   "source": [
    "395 % 50"
   ]
  },
  {
   "cell_type": "code",
   "execution_count": 14,
   "id": "c44ca564-3e17-4f2e-bbb9-b1b5ea972496",
   "metadata": {
    "tags": []
   },
   "outputs": [
    {
     "name": "stdout",
     "output_type": "stream",
     "text": [
      "thousands:  0\n",
      "hundreds:  0\n",
      "tens:  2\n",
      "ones:  1\n",
      "thousands numeral:  \n",
      "hundreds numeral:  \n",
      "tens numeral:  XXX\n",
      "ones numeral:  I\n"
     ]
    },
    {
     "data": {
      "text/plain": [
       "'XXXI'"
      ]
     },
     "execution_count": 14,
     "metadata": {},
     "output_type": "execute_result"
    }
   ],
   "source": [
    "n = 21\n",
    "\n",
    "\n",
    "numeral = ''\n",
    "\n",
    "thou_place = int(n/1000)\n",
    "hund_place = int(n%1000/100)\n",
    "ten_place = int((n%100)/10)\n",
    "ones_place = n%10\n",
    "\n",
    "print('thousands: ', thou_place)\n",
    "print('hundreds: ', hund_place)\n",
    "print('tens: ', ten_place)\n",
    "print('ones: ', ones_place)\n",
    "\n",
    "thousands = ''\n",
    "hundreds = ''\n",
    "tens = ''\n",
    "ones = ''\n",
    "\n",
    "if n > 1000:\n",
    "    thousands += ('M' * thou_place)\n",
    "\n",
    "if n == 1000:\n",
    "    thousands += 'M'\n",
    "\n",
    "## HUNDREDS\n",
    "if hund_place < 4:\n",
    "    hundreds += 'I' * hund_place\n",
    "\n",
    "if hund_place == 9:\n",
    "    hundreds += 'C' + 'M' \n",
    "\n",
    "interval = hund_place - 5\n",
    "\n",
    "if abs(interval) < 4:\n",
    "    if interval > 0:\n",
    "        hundreds += 'D' + 'C' * interval \n",
    "    else:\n",
    "        hundreds += 'C' + 'D' * interval\n",
    "\n",
    "## TENS\n",
    "if ten_place < 4:\n",
    "    tens += 'X' * ten_place\n",
    "\n",
    "if ten_place == 9:\n",
    "    tens += 'X' + 'C' \n",
    "\n",
    "interval = ten_place - 5\n",
    "\n",
    "if abs(interval) < 4:\n",
    "    if interval > 0:\n",
    "        tens += 'L' + 'X' * interval \n",
    "    else:\n",
    "        tens += 'X' + 'L' * interval \n",
    "        \n",
    "## ONES\n",
    "\n",
    "if ones_place < 4:\n",
    "    ones += 'I' * ones_place\n",
    "\n",
    "if ones_place == 9:\n",
    "    ones += 'I' + 'X' \n",
    "\n",
    "interval = ones_place - 5\n",
    "\n",
    "if abs(interval) < 4:\n",
    "    \n",
    "    if interval > 0:\n",
    "        ones += 'V' + 'I' * interval \n",
    "    else:\n",
    "        ones += 'I' + 'V'\n",
    "\n",
    "\n",
    "print('thousands numeral: ', thousands)\n",
    "print('hundreds numeral: ', hundreds)\n",
    "print('tens numeral: ', tens)\n",
    "print('ones numeral: ', ones)\n",
    "numeral = thousands + hundreds + tens + ones\n",
    "numeral"
   ]
  },
  {
   "cell_type": "code",
   "execution_count": 141,
   "id": "d6d2c601-8ff7-4275-816b-6a77b90d6885",
   "metadata": {
    "tags": []
   },
   "outputs": [
    {
     "data": {
      "text/plain": [
       "'XXXXX'"
      ]
     },
     "execution_count": 141,
     "metadata": {},
     "output_type": "execute_result"
    }
   ],
   "source": [
    "tens += 'X' * ten_place\n",
    "tens"
   ]
  },
  {
   "cell_type": "code",
   "execution_count": 142,
   "id": "f66c7da5-4ffc-41b0-b0ad-fefd4ded2cce",
   "metadata": {
    "tags": []
   },
   "outputs": [
    {
     "data": {
      "text/plain": [
       "2"
      ]
     },
     "execution_count": 142,
     "metadata": {},
     "output_type": "execute_result"
    }
   ],
   "source": [
    "ten_place"
   ]
  },
  {
   "cell_type": "code",
   "execution_count": 143,
   "id": "7adf39da-0a81-4cc4-86d4-b731baf3d9f7",
   "metadata": {
    "tags": []
   },
   "outputs": [
    {
     "data": {
      "text/plain": [
       "'XX'"
      ]
     },
     "execution_count": 143,
     "metadata": {},
     "output_type": "execute_result"
    }
   ],
   "source": [
    "'X' * ten_place"
   ]
  },
  {
   "cell_type": "code",
   "execution_count": 60,
   "id": "9e596f20-0d93-401b-bc19-92cd8ada064c",
   "metadata": {
    "tags": []
   },
   "outputs": [
    {
     "data": {
      "text/plain": [
       "8"
      ]
     },
     "execution_count": 60,
     "metadata": {},
     "output_type": "execute_result"
    }
   ],
   "source": [
    "int(n%1000/100)"
   ]
  },
  {
   "cell_type": "code",
   "execution_count": 67,
   "id": "b453092c-e35e-44e7-8294-18e7cbffe8a3",
   "metadata": {
    "tags": []
   },
   "outputs": [
    {
     "data": {
      "text/plain": [
       "49"
      ]
     },
     "execution_count": 67,
     "metadata": {},
     "output_type": "execute_result"
    }
   ],
   "source": [
    "(n%100)"
   ]
  },
  {
   "cell_type": "code",
   "execution_count": 74,
   "id": "a3ef19e3-fa25-4ce3-8900-f4efab7156cb",
   "metadata": {
    "tags": []
   },
   "outputs": [
    {
     "data": {
      "text/plain": [
       "8"
      ]
     },
     "execution_count": 74,
     "metadata": {},
     "output_type": "execute_result"
    }
   ],
   "source": [
    "int(n%1000/100)"
   ]
  },
  {
   "cell_type": "code",
   "execution_count": 72,
   "id": "8d9f0e55-9bd9-4512-8d56-89fca5ef90a8",
   "metadata": {
    "tags": []
   },
   "outputs": [
    {
     "data": {
      "text/plain": [
       "4"
      ]
     },
     "execution_count": 72,
     "metadata": {},
     "output_type": "execute_result"
    }
   ],
   "source": [
    "int((n%100)/10)"
   ]
  },
  {
   "cell_type": "code",
   "execution_count": 70,
   "id": "cdadd6a4-f546-446e-9bb0-6c8406917c1d",
   "metadata": {
    "tags": []
   },
   "outputs": [
    {
     "data": {
      "text/plain": [
       "9"
      ]
     },
     "execution_count": 70,
     "metadata": {},
     "output_type": "execute_result"
    }
   ],
   "source": [
    "n%10"
   ]
  },
  {
   "cell_type": "code",
   "execution_count": null,
   "id": "e908ca70-d41b-4c6e-8379-c5861c320990",
   "metadata": {},
   "outputs": [],
   "source": []
  }
 ],
 "metadata": {
  "kernelspec": {
   "display_name": "Python 3 (ipykernel)",
   "language": "python",
   "name": "python3"
  },
  "language_info": {
   "codemirror_mode": {
    "name": "ipython",
    "version": 3
   },
   "file_extension": ".py",
   "mimetype": "text/x-python",
   "name": "python",
   "nbconvert_exporter": "python",
   "pygments_lexer": "ipython3",
   "version": "3.10.13"
  }
 },
 "nbformat": 4,
 "nbformat_minor": 5
}
