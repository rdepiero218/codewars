{
 "cells": [
  {
   "cell_type": "code",
   "execution_count": 35,
   "id": "87053194-a841-4c0f-bbe4-b9dde1b29f79",
   "metadata": {
    "tags": []
   },
   "outputs": [
    {
     "data": {
      "text/plain": [
       "'0b10000000001000000000101000000001'"
      ]
     },
     "execution_count": 35,
     "metadata": {},
     "output_type": "execute_result"
    }
   ],
   "source": [
    "test = bin(2149583361)\n",
    "test"
   ]
  },
  {
   "cell_type": "code",
   "execution_count": 19,
   "id": "aa827487-3059-49ee-ac4e-a935afe8997b",
   "metadata": {
    "tags": []
   },
   "outputs": [
    {
     "data": {
      "text/plain": [
       "'10000000001000000000101000000001'"
      ]
     },
     "execution_count": 19,
     "metadata": {},
     "output_type": "execute_result"
    }
   ],
   "source": [
    "type(test)\n",
    "len(test)\n",
    "test = test[2:]\n",
    "test"
   ]
  },
  {
   "cell_type": "code",
   "execution_count": 20,
   "id": "34408287-c6c7-4426-aba6-73b5e79106e5",
   "metadata": {
    "tags": []
   },
   "outputs": [
    {
     "data": {
      "text/plain": [
       "32"
      ]
     },
     "execution_count": 20,
     "metadata": {},
     "output_type": "execute_result"
    }
   ],
   "source": [
    "len(test)"
   ]
  },
  {
   "cell_type": "code",
   "execution_count": 22,
   "id": "aabe580e-9a26-45d7-aeb4-3639197ebb2a",
   "metadata": {
    "tags": []
   },
   "outputs": [
    {
     "data": {
      "text/plain": [
       "['10000000', '00100000', '00001010', '00000001']"
      ]
     },
     "execution_count": 22,
     "metadata": {},
     "output_type": "execute_result"
    }
   ],
   "source": [
    "bin_vals = []\n",
    "for i in range(0, len(test), 8):\n",
    "    bin_vals.append(test[i:i+8])\n",
    "    \n",
    "bin_vals"
   ]
  },
  {
   "cell_type": "code",
   "execution_count": 25,
   "id": "20c25fc0-4fcc-4729-ae3d-5b507927c54e",
   "metadata": {
    "tags": []
   },
   "outputs": [
    {
     "name": "stdout",
     "output_type": "stream",
     "text": [
      "128\n",
      "32\n",
      "10\n",
      "1\n"
     ]
    }
   ],
   "source": [
    "for i in range(len(bin_vals)):\n",
    "    print(int(bin_vals[i], 2))"
   ]
  },
  {
   "cell_type": "code",
   "execution_count": 189,
   "id": "a4f1884d-fe44-4493-a82b-a5bc139041ba",
   "metadata": {
    "tags": []
   },
   "outputs": [
    {
     "name": "stdout",
     "output_type": "stream",
     "text": [
      "10000000010100000000010000000001b0\n",
      "34\n",
      "['0b10000000', '00100000', '00001010', '00000001']\n",
      "i =  3 iter =  32\n",
      "['128', '32', '10', '1']\n"
     ]
    },
    {
     "data": {
      "text/plain": [
       "'128.32.10.1'"
      ]
     },
     "execution_count": 189,
     "metadata": {},
     "output_type": "execute_result"
    }
   ],
   "source": [
    "# int32 = 1926263581 # '114.208.115.29'\n",
    "# int32 = 252831803 # 15.17.232.59\n",
    "int32 = 2149583361\n",
    "\n",
    "num = bin(int32)\n",
    "num = num[::-1]\n",
    "print(num)\n",
    "print(len(num))\n",
    "# num = test[2:]\n",
    "# print(test)\n",
    "bin_vals = []\n",
    "\n",
    "\n",
    "# for i in range(0,len(num), 8):\n",
    "#     bin_vals.append(num[i: i+8])\n",
    "    # print('i = ', i, 'val = ', num[i: i+8])\n",
    "    \n",
    "for i in range(0, 3):\n",
    "    bin_vals.append(num[i*8: i*8+8])\n",
    "\n",
    "bin_vals.append(num[24:])\n",
    "\n",
    "for i in range(len(bin_vals)):\n",
    "    bin_vals[i] = bin_vals[i][::-1]\n",
    "\n",
    "bin_vals = bin_vals[::-1]\n",
    "\n",
    "print(bin_vals)\n",
    "print('i = ',i, 'iter = ', i*8+8)\n",
    "oct_vals = []\n",
    "for i in range(len(bin_vals)):\n",
    "    oct_vals.append(str(int(bin_vals[i], 2)))\n",
    "    # print(int(bin_vals[i], 2))\n",
    "print(oct_vals)    \n",
    "'.'.join(oct_vals)  \n"
   ]
  },
  {
   "cell_type": "code",
   "execution_count": null,
   "id": "0c3ed492-d3ee-43b9-b410-09c0a71121ce",
   "metadata": {},
   "outputs": [],
   "source": [
    "len(num"
   ]
  },
  {
   "cell_type": "code",
   "execution_count": 88,
   "id": "a8e1fa0a-5aef-48dc-87e9-70615f7ae700",
   "metadata": {
    "tags": []
   },
   "outputs": [
    {
     "data": {
      "text/plain": [
       "4"
      ]
     },
     "execution_count": 88,
     "metadata": {},
     "output_type": "execute_result"
    }
   ],
   "source": [
    "len(bin_vals)"
   ]
  },
  {
   "cell_type": "code",
   "execution_count": 108,
   "id": "5f22bc98-0fc2-4214-bdee-793bdff808dc",
   "metadata": {
    "tags": []
   },
   "outputs": [
    {
     "name": "stdout",
     "output_type": "stream",
     "text": [
      "114\n",
      "208\n",
      "115\n",
      "29\n"
     ]
    }
   ],
   "source": [
    "vals = ['0b1110010', '11010000', '01110011', '00011101']\n",
    "for val in vals:\n",
    "    print(int(val, 2))"
   ]
  },
  {
   "cell_type": "code",
   "execution_count": 106,
   "id": "3f9312c7-1f63-4e04-b265-0affcc3eb758",
   "metadata": {
    "tags": []
   },
   "outputs": [
    {
     "data": {
      "text/plain": [
       "8"
      ]
     },
     "execution_count": 106,
     "metadata": {},
     "output_type": "execute_result"
    }
   ],
   "source": [
    "len('11010000')"
   ]
  },
  {
   "cell_type": "code",
   "execution_count": 85,
   "id": "5e485a8c-ef18-45cb-afd3-c52d09a3ee15",
   "metadata": {
    "tags": []
   },
   "outputs": [
    {
     "name": "stdout",
     "output_type": "stream",
     "text": [
      "114\n",
      "208\n",
      "115\n",
      "29\n"
     ]
    }
   ],
   "source": [
    "for val in vals:\n",
    "    print(int(val, 2))"
   ]
  },
  {
   "cell_type": "code",
   "execution_count": 97,
   "id": "070b3dc0-cde0-4a79-b6d6-503687b40845",
   "metadata": {
    "tags": []
   },
   "outputs": [
    {
     "data": {
      "text/plain": [
       "29"
      ]
     },
     "execution_count": 97,
     "metadata": {},
     "output_type": "execute_result"
    }
   ],
   "source": [
    "int('00011101',2)"
   ]
  },
  {
   "cell_type": "code",
   "execution_count": 192,
   "id": "41a7ebff-09cc-4063-88ed-f91e76162411",
   "metadata": {
    "tags": []
   },
   "outputs": [],
   "source": [
    "def int32_to_ip(int32):\n",
    "    \n",
    "    if int32 == 0:\n",
    "        ip4v = '0.0.0.0'\n",
    "    \n",
    "    else:\n",
    "        \n",
    "        num = bin(int32)\n",
    "        num = num[::-1]\n",
    "        bin_vals = []\n",
    "\n",
    "        for i in range(0, 3):\n",
    "            bin_vals.append(num[i*8: i*8+8])\n",
    "\n",
    "        bin_vals.append(num[24:])\n",
    "\n",
    "        for i in range(len(bin_vals)):\n",
    "            bin_vals[i] = bin_vals[i][::-1]\n",
    "\n",
    "        bin_vals = bin_vals[::-1]\n",
    "\n",
    "        oct_vals = []\n",
    "        for i in range(len(bin_vals)):\n",
    "            oct_vals.append(str(int(bin_vals[i], 2)))\n",
    "  \n",
    "        ip4v = '.'.join(oct_vals) \n",
    "\n",
    "#         num = bin(int32)\n",
    "#         num = num[2:]\n",
    "\n",
    "#         bin_vals = []\n",
    "#         for i in range(0, len(num), 8):\n",
    "#             bin_vals.append(num[i:i+8])\n",
    "\n",
    "#         oct_vals = []\n",
    "\n",
    "#         for i in range(len(bin_vals)):\n",
    "#             oct_vals.append(str(int(bin_vals[i], 2)))\n",
    "#             # print(int(bin_vals[i], 2))\n",
    "#             ip4v = '.'.join(oct_vals)  \n",
    "    return ip4v"
   ]
  },
  {
   "cell_type": "code",
   "execution_count": 193,
   "id": "b1ee4010-9edb-42cd-945d-a415f9aebbe2",
   "metadata": {
    "tags": []
   },
   "outputs": [
    {
     "data": {
      "text/plain": [
       "'128.32.10.1'"
      ]
     },
     "execution_count": 193,
     "metadata": {},
     "output_type": "execute_result"
    }
   ],
   "source": [
    "int32_to_ip(2149583361)"
   ]
  },
  {
   "cell_type": "code",
   "execution_count": 194,
   "id": "e571f9cd-c8c4-41c1-a2c4-010549d99d09",
   "metadata": {
    "tags": []
   },
   "outputs": [
    {
     "data": {
      "text/plain": [
       "'0.0.0.0'"
      ]
     },
     "execution_count": 194,
     "metadata": {},
     "output_type": "execute_result"
    }
   ],
   "source": [
    "int32_to_ip(0)"
   ]
  },
  {
   "cell_type": "code",
   "execution_count": 195,
   "id": "f842e805-1ea0-43c4-bfd9-012af08bf599",
   "metadata": {
    "tags": []
   },
   "outputs": [
    {
     "data": {
      "text/plain": [
       "'23.189.180.34'"
      ]
     },
     "execution_count": 195,
     "metadata": {},
     "output_type": "execute_result"
    }
   ],
   "source": [
    "int32_to_ip(398308386)"
   ]
  },
  {
   "cell_type": "code",
   "execution_count": 122,
   "id": "7f677e99-bcea-4145-a79b-b76a7eefadd7",
   "metadata": {
    "tags": []
   },
   "outputs": [],
   "source": [
    "num = bin(1926263581)"
   ]
  },
  {
   "cell_type": "code",
   "execution_count": 123,
   "id": "30c03058-9962-4842-9f57-e2503445e19e",
   "metadata": {
    "tags": []
   },
   "outputs": [
    {
     "data": {
      "text/plain": [
       "'0b1110010110100000111001100011101'"
      ]
     },
     "execution_count": 123,
     "metadata": {},
     "output_type": "execute_result"
    }
   ],
   "source": [
    "num"
   ]
  },
  {
   "cell_type": "code",
   "execution_count": 132,
   "id": "4b7d94c2-a2d0-4532-a173-aae4bd6361fd",
   "metadata": {
    "tags": []
   },
   "outputs": [
    {
     "data": {
      "text/plain": [
       "'00011101'"
      ]
     },
     "execution_count": 132,
     "metadata": {},
     "output_type": "execute_result"
    }
   ],
   "source": [
    "num[-8:len(num)]"
   ]
  },
  {
   "cell_type": "code",
   "execution_count": 138,
   "id": "27f9076a-8b07-4035-bc76-c3c29c9e2fcb",
   "metadata": {
    "tags": []
   },
   "outputs": [
    {
     "data": {
      "text/plain": [
       "'01110011'"
      ]
     },
     "execution_count": 138,
     "metadata": {},
     "output_type": "execute_result"
    }
   ],
   "source": [
    "num[-8*2:len(num)-(8*1)]"
   ]
  },
  {
   "cell_type": "code",
   "execution_count": 139,
   "id": "c88c842b-1830-4db9-97f4-0e4c9b78d5bb",
   "metadata": {
    "tags": []
   },
   "outputs": [
    {
     "data": {
      "text/plain": [
       "'11010000'"
      ]
     },
     "execution_count": 139,
     "metadata": {},
     "output_type": "execute_result"
    }
   ],
   "source": [
    "num[-8*3:len(num)-(8*2)]"
   ]
  },
  {
   "cell_type": "code",
   "execution_count": 140,
   "id": "828cb94a-100d-49b7-9be2-d8709f465928",
   "metadata": {
    "tags": []
   },
   "outputs": [
    {
     "data": {
      "text/plain": [
       "'b1110010'"
      ]
     },
     "execution_count": 140,
     "metadata": {},
     "output_type": "execute_result"
    }
   ],
   "source": [
    "num[-8*4:len(num)-(8*3)]"
   ]
  },
  {
   "cell_type": "code",
   "execution_count": 141,
   "id": "df008387-12e1-48f6-b30f-43b49de1ddcd",
   "metadata": {
    "tags": []
   },
   "outputs": [
    {
     "data": {
      "text/plain": [
       "'0b1110010'"
      ]
     },
     "execution_count": 141,
     "metadata": {},
     "output_type": "execute_result"
    }
   ],
   "source": [
    "num[:len(num)-(8*3)]"
   ]
  },
  {
   "cell_type": "code",
   "execution_count": 142,
   "id": "fcaf0266-a053-411f-9258-8b3e4e2a43bf",
   "metadata": {
    "tags": []
   },
   "outputs": [
    {
     "data": {
      "text/plain": [
       "'0b1110010'"
      ]
     },
     "execution_count": 142,
     "metadata": {},
     "output_type": "execute_result"
    }
   ],
   "source": [
    "num[:len(num)-24]"
   ]
  },
  {
   "cell_type": "code",
   "execution_count": 143,
   "id": "75f4ee34-20d1-41ec-b50a-b1ebbb31d48e",
   "metadata": {
    "tags": []
   },
   "outputs": [
    {
     "data": {
      "text/plain": [
       "'11010000'"
      ]
     },
     "execution_count": 143,
     "metadata": {},
     "output_type": "execute_result"
    }
   ],
   "source": [
    "num[-24:len(num)-16]"
   ]
  },
  {
   "cell_type": "code",
   "execution_count": 144,
   "id": "30811737-696c-44a5-9d3c-ac909595812d",
   "metadata": {
    "tags": []
   },
   "outputs": [
    {
     "data": {
      "text/plain": [
       "'01110011'"
      ]
     },
     "execution_count": 144,
     "metadata": {},
     "output_type": "execute_result"
    }
   ],
   "source": [
    "num[-16:len(num)-8]"
   ]
  },
  {
   "cell_type": "code",
   "execution_count": 145,
   "id": "d8cef40d-11d2-4219-95d4-3d58d497eef3",
   "metadata": {
    "tags": []
   },
   "outputs": [
    {
     "data": {
      "text/plain": [
       "'00011101'"
      ]
     },
     "execution_count": 145,
     "metadata": {},
     "output_type": "execute_result"
    }
   ],
   "source": [
    "num[-8:len(num)]"
   ]
  },
  {
   "cell_type": "code",
   "execution_count": 166,
   "id": "1e3def97-2153-43bb-b4a6-8835a72bfbb6",
   "metadata": {
    "tags": []
   },
   "outputs": [
    {
     "ename": "IndexError",
     "evalue": "list assignment index out of range",
     "output_type": "error",
     "traceback": [
      "\u001b[0;31m---------------------------------------------------------------------------\u001b[0m",
      "\u001b[0;31mIndexError\u001b[0m                                Traceback (most recent call last)",
      "Cell \u001b[0;32mIn[166], line 12\u001b[0m\n\u001b[1;32m     10\u001b[0m bin_vals \u001b[38;5;241m=\u001b[39m []\n\u001b[1;32m     11\u001b[0m \u001b[38;5;28;01mfor\u001b[39;00m i \u001b[38;5;129;01min\u001b[39;00m \u001b[38;5;28mrange\u001b[39m(\u001b[38;5;241m1\u001b[39m,\u001b[38;5;241m5\u001b[39m):\n\u001b[0;32m---> 12\u001b[0m     bin_vals[i] \u001b[38;5;241m=\u001b[39m num[(\u001b[38;5;241m-\u001b[39m\u001b[38;5;241m8\u001b[39m\u001b[38;5;241m*\u001b[39mi) : \u001b[38;5;28mlen\u001b[39m(num)\u001b[38;5;241m+\u001b[39m(\u001b[38;5;241m-\u001b[39m\u001b[38;5;241m8\u001b[39m\u001b[38;5;241m*\u001b[39m(i\u001b[38;5;241m-\u001b[39m\u001b[38;5;241m1\u001b[39m))]\n",
      "\u001b[0;31mIndexError\u001b[0m: list assignment index out of range"
     ]
    }
   ],
   "source": [
    "num = bin(1926263581)\n",
    "\n",
    "# if len(num) < 34:\n",
    "    \n",
    "# for i in range(1,5):\n",
    "#     bin_val = num[(-8*i) : len(num)+(-8*(i-1))]\n",
    "#     print(bin_val)\n",
    "# for i in range(0,3):\n",
    "#     bin_val = num[(-8*i) : len(num)+(-8*(3-i))]\n",
    "#     print(bin_val)\n",
    "\n",
    "bin_vals = []\n",
    "for i in range(1,5):\n",
    "    bin_vals[i] = num[(-8*i) : len(num)+(-8*(i-1))]\n",
    "    # print(bin_val)"
   ]
  },
  {
   "cell_type": "code",
   "execution_count": 196,
   "id": "c4b0a687-3c76-4465-a3d3-4baefd13cd7b",
   "metadata": {
    "tags": []
   },
   "outputs": [
    {
     "data": {
      "text/plain": [
       "180"
      ]
     },
     "execution_count": 196,
     "metadata": {},
     "output_type": "execute_result"
    }
   ],
   "source": [
    "95+85"
   ]
  },
  {
   "cell_type": "code",
   "execution_count": null,
   "id": "da2cf043-8c81-4dd0-86dd-5ffdcd8d5b12",
   "metadata": {},
   "outputs": [],
   "source": []
  }
 ],
 "metadata": {
  "kernelspec": {
   "display_name": "Python 3 (ipykernel)",
   "language": "python",
   "name": "python3"
  },
  "language_info": {
   "codemirror_mode": {
    "name": "ipython",
    "version": 3
   },
   "file_extension": ".py",
   "mimetype": "text/x-python",
   "name": "python",
   "nbconvert_exporter": "python",
   "pygments_lexer": "ipython3",
   "version": "3.10.13"
  }
 },
 "nbformat": 4,
 "nbformat_minor": 5
}
