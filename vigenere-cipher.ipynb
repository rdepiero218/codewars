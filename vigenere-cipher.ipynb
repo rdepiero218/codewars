{
 "cells": [
  {
   "cell_type": "markdown",
   "id": "e87953b9-c894-4ae8-8c85-805abbcc640d",
   "metadata": {
    "editable": true,
    "slideshow": {
     "slide_type": ""
    },
    "tags": []
   },
   "source": [
    "# Vigenere Cipher\n",
    "\n",
    "https://www.codewars.com/kata/52d1bd3694d26f8d6e0000d3/train/python"
   ]
  },
  {
   "cell_type": "code",
   "execution_count": 20,
   "id": "a9e81951-b1ee-410e-bbb7-2611a872b37a",
   "metadata": {
    "editable": true,
    "slideshow": {
     "slide_type": ""
    },
    "tags": []
   },
   "outputs": [
    {
     "name": "stdout",
     "output_type": "stream",
     "text": [
      "rovwsoiv\n",
      "codewars\n"
     ]
    }
   ],
   "source": [
    "\n",
    "alphabet = 'abcdefghijklmnopqrstuvwxyz'\n",
    "key = 'password'\n",
    "\n",
    "\n",
    "letters = list(alphabet)\n",
    "values = list(range(26))\n",
    "\n",
    "cipher = dict(zip(letters, values))\n",
    "\n",
    "# message = \"my secret code i want to secure\"\n",
    "# keyed message\n",
    "# \"passwordpasswordpasswordpasswor\" \n",
    "text = 'codewars'\n",
    "cipher_text = 'rovwsoiv'\n",
    "\n",
    "\n",
    "## encode \n",
    "coded_msg = ''\n",
    "\n",
    "for i in range(len(text)):\n",
    "    code = (cipher[text[i]] + cipher[key[i]]) % 26\n",
    "    coded = list(cipher.keys())[code]\n",
    "    coded_msg += coded\n",
    "print(coded_msg)\n",
    "## decode \n",
    "\n",
    "decoded_msg = ''\n",
    "for i in range(len(cipher_text)):\n",
    "    code = (cipher[cipher_text[i]] - cipher[key[i]]) % 26\n",
    "    decoded = list(cipher.keys())[code]\n",
    "    decoded_msg += decoded\n",
    "    \n",
    "print(decoded_msg)"
   ]
  },
  {
   "cell_type": "code",
   "execution_count": 22,
   "id": "7bd2dccd-7ec1-4a1b-ac47-30cbe738c784",
   "metadata": {
    "editable": true,
    "slideshow": {
     "slide_type": ""
    },
    "tags": []
   },
   "outputs": [
    {
     "ename": "KeyError",
     "evalue": "'C'",
     "output_type": "error",
     "traceback": [
      "\u001b[0;31m---------------------------------------------------------------------------\u001b[0m",
      "\u001b[0;31mKeyError\u001b[0m                                  Traceback (most recent call last)",
      "Cell \u001b[0;32mIn[22], line 10\u001b[0m\n\u001b[1;32m      6\u001b[0m coded_msg \u001b[38;5;241m=\u001b[39m \u001b[38;5;124m'\u001b[39m\u001b[38;5;124m'\u001b[39m\n\u001b[1;32m      8\u001b[0m \u001b[38;5;28;01mfor\u001b[39;00m i \u001b[38;5;129;01min\u001b[39;00m \u001b[38;5;28mrange\u001b[39m(\u001b[38;5;28mlen\u001b[39m(text)):\n\u001b[1;32m      9\u001b[0m     \u001b[38;5;66;03m# if text[i] not in cipher.\u001b[39;00m\n\u001b[0;32m---> 10\u001b[0m     code \u001b[38;5;241m=\u001b[39m (\u001b[43mcipher\u001b[49m\u001b[43m[\u001b[49m\u001b[43mtext\u001b[49m\u001b[43m[\u001b[49m\u001b[43mi\u001b[49m\u001b[43m]\u001b[49m\u001b[43m]\u001b[49m \u001b[38;5;241m+\u001b[39m cipher[key[i]]) \u001b[38;5;241m%\u001b[39m \u001b[38;5;241m26\u001b[39m\n\u001b[1;32m     11\u001b[0m     coded \u001b[38;5;241m=\u001b[39m \u001b[38;5;28mlist\u001b[39m(cipher\u001b[38;5;241m.\u001b[39mkeys())[code]\n\u001b[1;32m     12\u001b[0m     coded_msg \u001b[38;5;241m+\u001b[39m\u001b[38;5;241m=\u001b[39m coded\n",
      "\u001b[0;31mKeyError\u001b[0m: 'C'"
     ]
    }
   ],
   "source": [
    "text = 'CODEWARS'\n",
    "cipher_text = 'rovwsoiv'\n",
    "\n",
    "\n",
    "## encode \n",
    "coded_msg = ''\n",
    "\n",
    "for i in range(len(text)):\n",
    "    if text[i] not in cipher.keys():\n",
    "        coded_msg += text[i]\n",
    "    else:\n",
    "        code = (cipher[text[i]] + cipher[key[i]]) % 26\n",
    "        coded = list(cipher.keys())[code]\n",
    "        coded_msg += coded\n",
    "    \n",
    "print(coded_msg)"
   ]
  },
  {
   "cell_type": "code",
   "execution_count": 23,
   "id": "68347163-70c3-4880-942d-549218d0d6dc",
   "metadata": {},
   "outputs": [
    {
     "name": "stdout",
     "output_type": "stream",
     "text": [
      "C\n"
     ]
    }
   ],
   "source": [
    "if text[0] not in cipher.keys():\n",
    "    print(text[0])"
   ]
  },
  {
   "cell_type": "code",
   "execution_count": 27,
   "id": "8984e0fa-df72-4899-840e-3106d268e5fc",
   "metadata": {},
   "outputs": [
    {
     "name": "stdout",
     "output_type": "stream",
     "text": [
      "password\n"
     ]
    }
   ],
   "source": [
    "# text = \"it's a shift cipher!\"\n",
    "text = 'codewars'\n",
    "key = 'password'\n",
    "\n",
    "key_string = ''\n",
    "\n",
    "for i in range(len(text)):\n",
    "    key_string += key[i % len(key)]\n",
    "\n",
    "print(key_string)\n",
    "    "
   ]
  },
  {
   "cell_type": "code",
   "execution_count": 25,
   "id": "4ec4c78a-18f5-4c93-bdfe-f81391571957",
   "metadata": {},
   "outputs": [
    {
     "data": {
      "text/plain": [
       "20"
      ]
     },
     "execution_count": 25,
     "metadata": {},
     "output_type": "execute_result"
    }
   ],
   "source": [
    "len(text)"
   ]
  },
  {
   "cell_type": "code",
   "execution_count": 26,
   "id": "b7772876-783c-4b9d-aa95-58f0aa357a1c",
   "metadata": {},
   "outputs": [
    {
     "data": {
      "text/plain": [
       "20"
      ]
     },
     "execution_count": 26,
     "metadata": {},
     "output_type": "execute_result"
    }
   ],
   "source": [
    "len(key_string)"
   ]
  },
  {
   "cell_type": "code",
   "execution_count": 28,
   "id": "aa6d80a8-5112-4c8b-9fe8-3cbf2379821d",
   "metadata": {},
   "outputs": [],
   "source": [
    "## testing katakana alphabet\n",
    "\n",
    "alphabet = 'アイウエオァィゥェォカキクケコサシスセソタチツッテトナニヌネノハヒフヘホマミムメモヤャユュヨョラリルレロワヲンー'\n",
    "key = ''"
   ]
  },
  {
   "cell_type": "code",
   "execution_count": 29,
   "id": "9252e5c3-4401-4dc2-8cc9-cb2163ad695d",
   "metadata": {},
   "outputs": [
    {
     "data": {
      "text/plain": [
       "26"
      ]
     },
     "execution_count": 29,
     "metadata": {},
     "output_type": "execute_result"
    }
   ],
   "source": [
    "alphabet.find('ナ')"
   ]
  },
  {
   "cell_type": "code",
   "execution_count": 37,
   "id": "5ab420cf-cde8-4918-832a-8d0a288e7212",
   "metadata": {
    "editable": true,
    "slideshow": {
     "slide_type": ""
    },
    "tags": []
   },
   "outputs": [
    {
     "name": "stdout",
     "output_type": "stream",
     "text": [
      "rovwsoiv\n",
      "codewars\n"
     ]
    }
   ],
   "source": [
    "alphabet = 'abcdefghijklmnopqrstuvwxyz'\n",
    "key = 'password'\n",
    "\n",
    "\n",
    "# letters = list(alphabet)\n",
    "# values = list(range(26))\n",
    "\n",
    "# cipher = dict(zip(letters, values))\n",
    "\n",
    "# message = \"my secret code i want to secure\"\n",
    "# keyed message\n",
    "# \"passwordpasswordpasswordpasswor\" \n",
    "text = 'codewars'\n",
    "cipher_text = 'rovwsoiv'\n",
    "\n",
    "\n",
    "## encode \n",
    "coded_msg = ''\n",
    "\n",
    "for i in range(len(text)):\n",
    "    # code = (cipher[text[i]] + cipher[key[i]]) % 26\n",
    "    code = (alphabet.index(text[i]) + alphabet.index(key[i]) )% len(alphabet)\n",
    "    coded = alphabet[code]\n",
    "    coded_msg += coded\n",
    "    \n",
    "print(coded_msg)\n",
    "\n",
    "\n",
    "# ## decode \n",
    "\n",
    "decoded_msg = ''\n",
    "for i in range(len(cipher_text)):\n",
    "    code = (alphabet.index(cipher_text[i]) - alphabet.index(key[i]) )% len(alphabet)\n",
    "    decoded = list(cipher.keys())[code]\n",
    "    decoded_msg += decoded\n",
    "    \n",
    "print(decoded_msg)"
   ]
  },
  {
   "cell_type": "code",
   "execution_count": 32,
   "id": "b2dc3158-2581-45bf-b335-e210b9ed3174",
   "metadata": {},
   "outputs": [
    {
     "data": {
      "text/plain": [
       "1"
      ]
     },
     "execution_count": 32,
     "metadata": {},
     "output_type": "execute_result"
    }
   ],
   "source": [
    "alphabet.index(text[i]) - alphabet.index(key[i]) % len(alphabet)"
   ]
  },
  {
   "cell_type": "code",
   "execution_count": null,
   "id": "dfb7d5f4-85e8-4346-bc0d-02e8bb9ceb9a",
   "metadata": {},
   "outputs": [],
   "source": []
  }
 ],
 "metadata": {
  "kernelspec": {
   "display_name": "Python 3 (ipykernel)",
   "language": "python",
   "name": "python3"
  },
  "language_info": {
   "codemirror_mode": {
    "name": "ipython",
    "version": 3
   },
   "file_extension": ".py",
   "mimetype": "text/x-python",
   "name": "python",
   "nbconvert_exporter": "python",
   "pygments_lexer": "ipython3",
   "version": "3.10.13"
  }
 },
 "nbformat": 4,
 "nbformat_minor": 5
}
