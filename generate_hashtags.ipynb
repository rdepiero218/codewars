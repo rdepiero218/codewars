{
 "cells": [
  {
   "cell_type": "code",
   "execution_count": 44,
   "id": "bf9162a5-935b-48dc-84c5-c3ed7c517bb5",
   "metadata": {
    "tags": []
   },
   "outputs": [],
   "source": [
    "### testing some string stuff\n",
    "\n",
    "\n",
    "\n",
    "\n",
    "def generate_hashtag(s):\n",
    "    \n",
    "    \n",
    "    if s == '':\n",
    "        return False\n",
    "    \n",
    "    str_list = s.replace('#', ' ').lower().strip().split(' ')\n",
    "    \n",
    "    hashtag = ['#']\n",
    "    \n",
    "    for word in str_list:\n",
    "        hashtag.append(word.capitalize())\n",
    "    \n",
    "    hashtag = ''.join(hashtag)\n",
    "    \n",
    "    if len(hashtag) > 140:\n",
    "        return False\n",
    "    \n",
    "    return hashtag\n"
   ]
  },
  {
   "cell_type": "code",
   "execution_count": null,
   "id": "7c12135e-c8b9-4e93-b7d2-780c23691a01",
   "metadata": {},
   "outputs": [],
   "source": []
  },
  {
   "cell_type": "code",
   "execution_count": 45,
   "id": "ee6dd8a7-d08c-4621-b911-cdd01e0c152e",
   "metadata": {
    "tags": []
   },
   "outputs": [
    {
     "data": {
      "text/plain": [
       "'#Codewars'"
      ]
     },
     "execution_count": 45,
     "metadata": {},
     "output_type": "execute_result"
    }
   ],
   "source": [
    "\n",
    "string = '#CODEWARS'\n",
    "generate_hashtag(string)"
   ]
  },
  {
   "cell_type": "code",
   "execution_count": 3,
   "id": "c6f07f09-5934-435f-b3ed-dd2a1622796a",
   "metadata": {
    "tags": []
   },
   "outputs": [
    {
     "data": {
      "text/plain": [
       "'here is my string'"
      ]
     },
     "execution_count": 3,
     "metadata": {},
     "output_type": "execute_result"
    }
   ],
   "source": [
    "string.strip()"
   ]
  },
  {
   "cell_type": "code",
   "execution_count": 4,
   "id": "278ff6de-3d15-4cb2-875d-6bed81b8f7bb",
   "metadata": {
    "tags": []
   },
   "outputs": [
    {
     "data": {
      "text/plain": [
       "['here', 'is', 'my', 'string', '', '']"
      ]
     },
     "execution_count": 4,
     "metadata": {},
     "output_type": "execute_result"
    }
   ],
   "source": [
    "### removes whitespace\n",
    "\n",
    "string.split(' ')"
   ]
  },
  {
   "cell_type": "code",
   "execution_count": 7,
   "id": "1f163312-cbc0-4721-a037-9891462d133a",
   "metadata": {
    "tags": []
   },
   "outputs": [],
   "source": [
    "string = string.strip().split(' ')"
   ]
  },
  {
   "cell_type": "code",
   "execution_count": 37,
   "id": "02b6fd14-8e69-4d70-8514-ec97a61bf384",
   "metadata": {
    "tags": []
   },
   "outputs": [
    {
     "ename": "AttributeError",
     "evalue": "'list' object has no attribute 'replace'",
     "output_type": "error",
     "traceback": [
      "\u001b[0;31m---------------------------------------------------------------------------\u001b[0m",
      "\u001b[0;31mAttributeError\u001b[0m                            Traceback (most recent call last)",
      "Cell \u001b[0;32mIn[37], line 1\u001b[0m\n\u001b[0;32m----> 1\u001b[0m \u001b[43mstring\u001b[49m\u001b[38;5;241;43m.\u001b[39;49m\u001b[43mreplace\u001b[49m(\u001b[38;5;124m'\u001b[39m\u001b[38;5;124m#\u001b[39m\u001b[38;5;124m'\u001b[39m, \u001b[38;5;124m'\u001b[39m\u001b[38;5;124m \u001b[39m\u001b[38;5;124m'\u001b[39m)\n",
      "\u001b[0;31mAttributeError\u001b[0m: 'list' object has no attribute 'replace'"
     ]
    }
   ],
   "source": [
    "string.replace('#', ' ')"
   ]
  },
  {
   "cell_type": "code",
   "execution_count": 36,
   "id": "5398b4cc-ba32-451d-b361-dfb058637e2a",
   "metadata": {
    "tags": []
   },
   "outputs": [
    {
     "data": {
      "text/plain": [
       "'#HereIsMyString'"
      ]
     },
     "execution_count": 36,
     "metadata": {},
     "output_type": "execute_result"
    }
   ],
   "source": [
    "s = 'here is my string  '\n",
    "\n",
    "string = s.strip().lower().split(' ')\n",
    "\n",
    "hashtag = ['#']\n",
    "for word in string:\n",
    "    hashtag.append(word.capitalize())\n",
    "hashtag = ''.join(hashtag)\n",
    "\n",
    "hashtag"
   ]
  },
  {
   "cell_type": "code",
   "execution_count": 31,
   "id": "2d619223-354b-44f2-ac3b-ff5b0c6ed962",
   "metadata": {
    "tags": []
   },
   "outputs": [
    {
     "data": {
      "text/plain": [
       "'Here is my string'"
      ]
     },
     "execution_count": 31,
     "metadata": {},
     "output_type": "execute_result"
    }
   ],
   "source": [
    "string.capitalize()"
   ]
  },
  {
   "cell_type": "code",
   "execution_count": 41,
   "id": "d71c8305-eca2-4203-94eb-c346fd73fb29",
   "metadata": {
    "tags": []
   },
   "outputs": [
    {
     "data": {
      "text/plain": [
       "['here', 'is', 'my', 'string']"
      ]
     },
     "execution_count": 41,
     "metadata": {},
     "output_type": "execute_result"
    }
   ],
   "source": [
    "s = '#here is my string  '\n",
    "string = s.replace('#', ' ').lower().strip().split(' ')\n",
    "string"
   ]
  },
  {
   "cell_type": "code",
   "execution_count": 33,
   "id": "7db79980-64c6-46e3-817c-7e8cd38f1451",
   "metadata": {
    "tags": []
   },
   "outputs": [
    {
     "data": {
      "text/plain": [
       "'#HERE IS MY STRING'"
      ]
     },
     "execution_count": 33,
     "metadata": {},
     "output_type": "execute_result"
    }
   ],
   "source": [
    "hashtag"
   ]
  },
  {
   "cell_type": "code",
   "execution_count": 23,
   "id": "13241c27-a09b-480b-b7e4-e3be54027254",
   "metadata": {
    "tags": []
   },
   "outputs": [
    {
     "data": {
      "text/plain": [
       "15"
      ]
     },
     "execution_count": 23,
     "metadata": {},
     "output_type": "execute_result"
    }
   ],
   "source": [
    "len(hashtag)"
   ]
  },
  {
   "cell_type": "code",
   "execution_count": 21,
   "id": "78978329-1d48-468c-904d-c613cb39c66e",
   "metadata": {
    "tags": []
   },
   "outputs": [
    {
     "data": {
      "text/plain": [
       "True"
      ]
     },
     "execution_count": 21,
     "metadata": {},
     "output_type": "execute_result"
    }
   ],
   "source": [
    "result = True\n",
    "\n",
    "if string == '':\n",
    "    result = False\n",
    "\n",
    "result\n"
   ]
  },
  {
   "cell_type": "code",
   "execution_count": null,
   "id": "830e0f39-c2e9-4ce6-8979-d519e16b33fd",
   "metadata": {},
   "outputs": [],
   "source": [
    "if hashtag.len() > 140:\n",
    "    return False"
   ]
  }
 ],
 "metadata": {
  "kernelspec": {
   "display_name": "Python 3 (ipykernel)",
   "language": "python",
   "name": "python3"
  },
  "language_info": {
   "codemirror_mode": {
    "name": "ipython",
    "version": 3
   },
   "file_extension": ".py",
   "mimetype": "text/x-python",
   "name": "python",
   "nbconvert_exporter": "python",
   "pygments_lexer": "ipython3",
   "version": "3.10.13"
  }
 },
 "nbformat": 4,
 "nbformat_minor": 5
}
