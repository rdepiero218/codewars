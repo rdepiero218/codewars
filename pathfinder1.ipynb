{
 "cells": [
  {
   "cell_type": "markdown",
   "id": "78d413a9-f275-4091-ad36-f77e86e6be47",
   "metadata": {},
   "source": [
    "# Pathfinder - walk a maze "
   ]
  },
  {
   "cell_type": "code",
   "execution_count": 33,
   "id": "a4fd491a-7f97-4030-a28b-17d1bdcb964e",
   "metadata": {},
   "outputs": [],
   "source": [
    "maze_string = \"\\n\".join([\n",
    "        \".W.\",\n",
    "        \".A.\",\n",
    "        \"...\"\n",
    "    ])\n",
    "\n",
    "\n",
    "def move_east(pos):\n",
    "    pos[1] = int(pos[1]+1)\n",
    "    return pos\n",
    "\n",
    "def move_west(pos):\n",
    "    pos[1] = int(pos[1]-1)\n",
    "    pos[1] = max(pos[1], 0) # defaults to 0 if value negative\n",
    "    return pos\n",
    "\n",
    "# def move_south(pos):\n",
    "#     pos[0] = int(pos[0]+1)\n",
    "#     return pos\n",
    "\n",
    "# def move_north(pos):\n",
    "#     return pos[0] = int(pos[0]-1)\n",
    "    \n",
    "rows = maze_string.split('\\n')\n",
    "maze = []\n",
    "for row in rows:\n",
    "    maze.append(list(row))\n",
    "    \n",
    "# print(maze)\n",
    "\n",
    "current_position = [0,0]\n",
    "\n",
    "# if current_position[1] < len(maze):\n",
    "#     if maze[current_position[0]][current_position[1]] != 'W':\n",
    "#         current_postiion\n",
    "\n",
    "# move east\n",
    "\n",
    "# if pos[1] < len(maze):\n",
    "#     pos[1] = int(pos[1]+1)\n",
    "\n",
    "# # move west\n",
    "# if pos[1] > 0:\n",
    "#     pos[1] = int(pos[1]-1)\n",
    "\n",
    "# # move south\n",
    "# if pos[0] < len(maze):\n",
    "#     pos[0] = int(pos[0]+1)\n",
    "       \n",
    "# # move north\n",
    "# if pos[0] > 0:\n",
    "#     pos[0] = int(pos[0]-1)\n",
    "\n",
    "\n",
    "# if "
   ]
  },
  {
   "cell_type": "code",
   "execution_count": 42,
   "id": "cdeb3ded-b15f-4e69-a322-e79c375a0744",
   "metadata": {},
   "outputs": [
    {
     "data": {
      "text/plain": [
       "[0, 4]"
      ]
     },
     "execution_count": 42,
     "metadata": {},
     "output_type": "execute_result"
    }
   ],
   "source": [
    "move_east(current_position)"
   ]
  },
  {
   "cell_type": "code",
   "execution_count": 47,
   "id": "3235fb76-10d5-424f-9984-92ebd36383e9",
   "metadata": {},
   "outputs": [
    {
     "data": {
      "text/plain": [
       "[0, 0]"
      ]
     },
     "execution_count": 47,
     "metadata": {},
     "output_type": "execute_result"
    }
   ],
   "source": [
    "move_west(current_position)"
   ]
  },
  {
   "cell_type": "code",
   "execution_count": 26,
   "id": "bfa30d86-9689-4b60-997e-783fc6749c2d",
   "metadata": {},
   "outputs": [
    {
     "data": {
      "text/plain": [
       "[0, 3]"
      ]
     },
     "execution_count": 26,
     "metadata": {},
     "output_type": "execute_result"
    }
   ],
   "source": [
    "move_east(current_position)"
   ]
  },
  {
   "cell_type": "code",
   "execution_count": 27,
   "id": "3e396a67-06b3-4702-b654-61a719ff76bd",
   "metadata": {},
   "outputs": [
    {
     "data": {
      "text/plain": [
       "[0, 4]"
      ]
     },
     "execution_count": 27,
     "metadata": {},
     "output_type": "execute_result"
    }
   ],
   "source": [
    "move_east(current_position)"
   ]
  },
  {
   "cell_type": "code",
   "execution_count": 18,
   "id": "f5428680-dc3f-4206-9765-f3492c43a84a",
   "metadata": {},
   "outputs": [
    {
     "data": {
      "text/plain": [
       "'.'"
      ]
     },
     "execution_count": 18,
     "metadata": {},
     "output_type": "execute_result"
    }
   ],
   "source": [
    "maze[0][0]"
   ]
  },
  {
   "cell_type": "code",
   "execution_count": 9,
   "id": "8a8b82c9-cb14-4112-9de3-8337e765119d",
   "metadata": {},
   "outputs": [
    {
     "data": {
      "text/plain": [
       "['.', '.', '.']"
      ]
     },
     "execution_count": 9,
     "metadata": {},
     "output_type": "execute_result"
    }
   ],
   "source": [
    "list(row)\n"
   ]
  },
  {
   "cell_type": "code",
   "execution_count": 8,
   "id": "a8d46ff6-2464-48ca-8799-0743a3f7f5d5",
   "metadata": {},
   "outputs": [
    {
     "data": {
      "text/plain": [
       "['...']"
      ]
     },
     "execution_count": 8,
     "metadata": {},
     "output_type": "execute_result"
    }
   ],
   "source": [
    "row.split()"
   ]
  },
  {
   "cell_type": "code",
   "execution_count": null,
   "id": "ebe3fb61-38a5-4864-a3f0-5514e7dd3e3d",
   "metadata": {},
   "outputs": [],
   "source": [
    "[\n",
    "    []\n",
    "    []\n",
    "    []\n",
    "]"
   ]
  },
  {
   "cell_type": "code",
   "execution_count": null,
   "id": "3f51cf6c-3518-47e2-b40d-79d4d31cc6f0",
   "metadata": {},
   "outputs": [],
   "source": [
    "# rows[0][0]\n",
    "# len(rows)\n",
    "\n",
    "# start = \n",
    "# end =\n",
    "\n",
    "# pos = [0,0]\n",
    "\n",
    "# print(pos)\n",
    "\n",
    "# MOVE EAST\n",
    "# if rows[pos[0], pos[1]] == '.':\n",
    "#     pos[1] += 1\n",
    "\n",
    "# print(pos)\n",
    "# # # MOVE WEST\n",
    "# # if row[pos[0], pos[1]] == '.':\n",
    "# #     pos[1] -= 1\n",
    "\n",
    "# # MOVE SOUTH\n",
    "# if rows[pos[0], pos[1]] == '.':\n",
    "#     pos[0] += 1\n",
    "    \n",
    "# print(pos)\n",
    "# if\n",
    "# for i in range(len(rows)):\n",
    "#     for j in range(len(rows)):\n",
    "#         if maze[0][1] == '.'\n",
    "# maze[1]\n",
    "        "
   ]
  },
  {
   "cell_type": "code",
   "execution_count": null,
   "id": "ecda2234-1880-4790-9b93-85ec791bb1e7",
   "metadata": {},
   "outputs": [],
   "source": [
    "print(maze)"
   ]
  },
  {
   "cell_type": "code",
   "execution_count": null,
   "id": "51cdb1ee-a655-4afa-bfae-9b6ae3915bb4",
   "metadata": {},
   "outputs": [],
   "source": [
    "maze"
   ]
  },
  {
   "cell_type": "code",
   "execution_count": null,
   "id": "7cb12484-5a04-4a1f-a7d4-c77d96878f2a",
   "metadata": {},
   "outputs": [],
   "source": [
    "pos[0]"
   ]
  },
  {
   "cell_type": "code",
   "execution_count": null,
   "id": "e3a799ff-71bd-4819-ba1d-37ca287386d8",
   "metadata": {},
   "outputs": [],
   "source": [
    "pos[1]"
   ]
  },
  {
   "cell_type": "code",
   "execution_count": null,
   "id": "54813578-a7dc-4bbd-93b3-e8641f408f6d",
   "metadata": {},
   "outputs": [],
   "source": [
    "rows[pos[0]][pos[1]]"
   ]
  },
  {
   "cell_type": "code",
   "execution_count": null,
   "id": "5b48d65c-4e39-43ce-b7e7-241dff7f0558",
   "metadata": {},
   "outputs": [],
   "source": [
    "maze_grid = \"\\n\".join([\n",
    "        \"00 01 02\",\n",
    "        \"10 11 12\",\n",
    "        \"20 21 22\",\n",
    "    ])\n",
    "\n",
    "# get size of maze\n",
    "\n",
    "maze_grid.find('\\n')"
   ]
  },
  {
   "cell_type": "code",
   "execution_count": null,
   "id": "2060b055-c1a0-4c3e-8cfb-8550bb96af4d",
   "metadata": {},
   "outputs": [],
   "source": [
    "len(maze_grid)"
   ]
  },
  {
   "cell_type": "code",
   "execution_count": null,
   "id": "9d4a4cdb-1941-4204-a49c-237a18b51516",
   "metadata": {},
   "outputs": [],
   "source": [
    "maze_grid.split('\\n')"
   ]
  },
  {
   "cell_type": "code",
   "execution_count": null,
   "id": "d8b24162-2e14-4ae2-baa9-2550d91090eb",
   "metadata": {},
   "outputs": [],
   "source": [
    "maze[0]"
   ]
  },
  {
   "cell_type": "code",
   "execution_count": null,
   "id": "6cd2d8e5-3156-4213-a944-433ec23e0892",
   "metadata": {},
   "outputs": [],
   "source": [
    "for i in range(len(maze)):\n",
    "    print(maze[i])"
   ]
  },
  {
   "cell_type": "code",
   "execution_count": null,
   "id": "e91aead7-30ca-4e73-bade-7cfa46b2dbb5",
   "metadata": {},
   "outputs": [],
   "source": [
    "# type(maze)"
   ]
  },
  {
   "cell_type": "code",
   "execution_count": null,
   "id": "f74cc074-6f49-463c-964b-cb400c2e05db",
   "metadata": {},
   "outputs": [],
   "source": [
    "maze"
   ]
  },
  {
   "cell_type": "code",
   "execution_count": null,
   "id": "5a93797b-ca3a-46f0-b2b1-06005a984ce9",
   "metadata": {},
   "outputs": [],
   "source": []
  }
 ],
 "metadata": {
  "kernelspec": {
   "display_name": "Python 3 (ipykernel)",
   "language": "python",
   "name": "python3"
  },
  "language_info": {
   "codemirror_mode": {
    "name": "ipython",
    "version": 3
   },
   "file_extension": ".py",
   "mimetype": "text/x-python",
   "name": "python",
   "nbconvert_exporter": "python",
   "pygments_lexer": "ipython3",
   "version": "3.10.13"
  }
 },
 "nbformat": 4,
 "nbformat_minor": 5
}
