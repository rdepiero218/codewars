{
 "cells": [
  {
   "cell_type": "markdown",
   "id": "78d413a9-f275-4091-ad36-f77e86e6be47",
   "metadata": {},
   "source": [
    "# Pathfinder - walk a maze "
   ]
  },
  {
   "cell_type": "code",
   "execution_count": 33,
   "id": "a4fd491a-7f97-4030-a28b-17d1bdcb964e",
   "metadata": {},
   "outputs": [],
   "source": [
    "maze_string = \"\\n\".join([\n",
    "        \".W.\",\n",
    "        \".W.\",\n",
    "        \"...\"\n",
    "    ])\n",
    "\n",
    "\n",
    "def move_east(pos):\n",
    "    pos[1] = int(pos[1]+1)\n",
    "    return pos\n",
    "\n",
    "def move_west(pos):\n",
    "    pos[1] = int(pos[1]-1)\n",
    "    pos[1] = max(pos[1], 0) # defaults to 0 if value negative\n",
    "    return pos\n",
    "\n",
    "# def move_south(pos):\n",
    "#     pos[0] = int(pos[0]+1)\n",
    "#     return pos\n",
    "\n",
    "# def move_north(pos):\n",
    "#     return pos[0] = int(pos[0]-1)\n",
    "    \n",
    "rows = maze_string.split('\\n')\n",
    "maze = []\n",
    "for row in rows:\n",
    "    maze.append(list(row))\n",
    "    \n",
    "# print(maze)\n",
    "\n",
    "current_position = [0,0]\n",
    "\n",
    "# if current_position[1] < len(maze):\n",
    "#     if maze[current_position[0]][current_position[1]] != 'W':\n",
    "#         current_postiion\n",
    "\n",
    "# move east\n",
    "\n",
    "# if pos[1] < len(maze):\n",
    "#     pos[1] = int(pos[1]+1)\n",
    "\n",
    "# # move west\n",
    "# if pos[1] > 0:\n",
    "#     pos[1] = int(pos[1]-1)\n",
    "\n",
    "# # move south\n",
    "# if pos[0] < len(maze):\n",
    "#     pos[0] = int(pos[0]+1)\n",
    "       \n",
    "# # move north\n",
    "# if pos[0] > 0:\n",
    "#     pos[0] = int(pos[0]-1)\n",
    "\n",
    "\n",
    "# if "
   ]
  },
  {
   "cell_type": "code",
   "execution_count": 42,
   "id": "cdeb3ded-b15f-4e69-a322-e79c375a0744",
   "metadata": {},
   "outputs": [
    {
     "data": {
      "text/plain": [
       "[0, 4]"
      ]
     },
     "execution_count": 42,
     "metadata": {},
     "output_type": "execute_result"
    }
   ],
   "source": [
    "move_east(current_position)"
   ]
  },
  {
   "cell_type": "code",
   "execution_count": 47,
   "id": "3235fb76-10d5-424f-9984-92ebd36383e9",
   "metadata": {},
   "outputs": [
    {
     "data": {
      "text/plain": [
       "[0, 0]"
      ]
     },
     "execution_count": 47,
     "metadata": {},
     "output_type": "execute_result"
    }
   ],
   "source": [
    "move_west(current_position)"
   ]
  },
  {
   "cell_type": "code",
   "execution_count": 26,
   "id": "bfa30d86-9689-4b60-997e-783fc6749c2d",
   "metadata": {},
   "outputs": [
    {
     "data": {
      "text/plain": [
       "[0, 3]"
      ]
     },
     "execution_count": 26,
     "metadata": {},
     "output_type": "execute_result"
    }
   ],
   "source": [
    "move_east(current_position)"
   ]
  },
  {
   "cell_type": "code",
   "execution_count": 27,
   "id": "3e396a67-06b3-4702-b654-61a719ff76bd",
   "metadata": {},
   "outputs": [
    {
     "data": {
      "text/plain": [
       "[0, 4]"
      ]
     },
     "execution_count": 27,
     "metadata": {},
     "output_type": "execute_result"
    }
   ],
   "source": [
    "move_east(current_position)"
   ]
  },
  {
   "cell_type": "code",
   "execution_count": 18,
   "id": "f5428680-dc3f-4206-9765-f3492c43a84a",
   "metadata": {},
   "outputs": [
    {
     "data": {
      "text/plain": [
       "'.'"
      ]
     },
     "execution_count": 18,
     "metadata": {},
     "output_type": "execute_result"
    }
   ],
   "source": [
    "maze[0][0]"
   ]
  },
  {
   "cell_type": "code",
   "execution_count": 9,
   "id": "8a8b82c9-cb14-4112-9de3-8337e765119d",
   "metadata": {},
   "outputs": [
    {
     "data": {
      "text/plain": [
       "['.', '.', '.']"
      ]
     },
     "execution_count": 9,
     "metadata": {},
     "output_type": "execute_result"
    }
   ],
   "source": [
    "list(row)\n"
   ]
  },
  {
   "cell_type": "code",
   "execution_count": 8,
   "id": "a8d46ff6-2464-48ca-8799-0743a3f7f5d5",
   "metadata": {},
   "outputs": [
    {
     "data": {
      "text/plain": [
       "['...']"
      ]
     },
     "execution_count": 8,
     "metadata": {},
     "output_type": "execute_result"
    }
   ],
   "source": [
    "row.split()"
   ]
  },
  {
   "cell_type": "code",
   "execution_count": null,
   "id": "ebe3fb61-38a5-4864-a3f0-5514e7dd3e3d",
   "metadata": {},
   "outputs": [],
   "source": [
    "[\n",
    "    []\n",
    "    []\n",
    "    []\n",
    "]"
   ]
  },
  {
   "cell_type": "code",
   "execution_count": null,
   "id": "3f51cf6c-3518-47e2-b40d-79d4d31cc6f0",
   "metadata": {},
   "outputs": [],
   "source": [
    "# rows[0][0]\n",
    "# len(rows)\n",
    "\n",
    "# start = \n",
    "# end =\n",
    "\n",
    "# pos = [0,0]\n",
    "\n",
    "# print(pos)\n",
    "\n",
    "# MOVE EAST\n",
    "# if rows[pos[0], pos[1]] == '.':\n",
    "#     pos[1] += 1\n",
    "\n",
    "# print(pos)\n",
    "# # # MOVE WEST\n",
    "# # if row[pos[0], pos[1]] == '.':\n",
    "# #     pos[1] -= 1\n",
    "\n",
    "# # MOVE SOUTH\n",
    "# if rows[pos[0], pos[1]] == '.':\n",
    "#     pos[0] += 1\n",
    "    \n",
    "# print(pos)\n",
    "# if\n",
    "# for i in range(len(rows)):\n",
    "#     for j in range(len(rows)):\n",
    "#         if maze[0][1] == '.'\n",
    "# maze[1]\n",
    "        "
   ]
  },
  {
   "cell_type": "code",
   "execution_count": null,
   "id": "ecda2234-1880-4790-9b93-85ec791bb1e7",
   "metadata": {},
   "outputs": [],
   "source": []
  },
  {
   "cell_type": "code",
   "execution_count": null,
   "id": "e91aead7-30ca-4e73-bade-7cfa46b2dbb5",
   "metadata": {},
   "outputs": [],
   "source": [
    "# type(maze)"
   ]
  },
  {
   "cell_type": "code",
   "execution_count": 18,
   "id": "3cba611d-d9b2-4e77-a1f6-8234f77ad0d5",
   "metadata": {},
   "outputs": [],
   "source": [
    "def path_finder(maze_string):\n",
    "    maze = [list(row) for row in maze_string.split('\\n')]\n",
    "    start_pos = (0,0)\n",
    "    visited = set([start_pos])\n",
    "    queue = [start_pos]\n",
    "    \n",
    "    while queue:\n",
    "\n",
    "        (this_row, this_col) = queue.pop()\n",
    "        visited.add((this_row,this_col))\n",
    "        print(visited)\n",
    "\n",
    "        for dir_row, dir_col in [(0,1), (-1,0), (0, 1), (0,-1)]:\n",
    "            next_row, next_col = this_row + dir_row, this_col + dir_col\n",
    "            print('i =', next_row, 'j =', next_col)\n",
    "            \n",
    "            if (next_row, next_col) in visited:\n",
    "                continue\n",
    "\n",
    "            if next_row < 0 or next_col < 0 or next_row >= len(maze) or next_col >= len(maze):\n",
    "                continue\n",
    "\n",
    "            if maze[next_row][next_col] == 'W':\n",
    "                \n",
    "                continue\n",
    "                # result = True\n",
    "                # return True\n",
    "\n",
    "            if dir_row == (len(maze)-1) and dir_col == (len(maze)-1):\n",
    "                return False\n",
    "            \n",
    "            if maze[next_row][next_col] == '.':\n",
    "                visited.add((next_row, next_col))\n",
    "                queue.append((next_row, next_col))\n",
    "\n",
    "    return True # can go to lower right corner from upper left one\n"
   ]
  },
  {
   "cell_type": "code",
   "execution_count": 20,
   "id": "dd636c83-070c-4c02-81d6-21b22c13f9a7",
   "metadata": {},
   "outputs": [
    {
     "name": "stdout",
     "output_type": "stream",
     "text": [
      "{(0, 0)}\n",
      "i = 0 j = 1\n",
      "i = -1 j = 0\n",
      "i = 0 j = 1\n",
      "i = 0 j = -1\n",
      "{(0, 1), (0, 0)}\n",
      "i = 0 j = 2\n",
      "i = -1 j = 1\n",
      "i = 0 j = 2\n",
      "i = 0 j = 0\n",
      "{(0, 1), (0, 2), (0, 0)}\n",
      "i = 0 j = 3\n",
      "i = -1 j = 2\n",
      "i = 0 j = 3\n",
      "i = 0 j = 1\n",
      "{(0, 1), (0, 2), (0, 3), (0, 0)}\n",
      "i = 0 j = 4\n",
      "i = -1 j = 3\n",
      "i = 0 j = 4\n",
      "i = 0 j = 2\n",
      "{(0, 1), (0, 4), (0, 0), (0, 3), (0, 2)}\n",
      "i = 0 j = 5\n",
      "i = -1 j = 4\n",
      "i = 0 j = 5\n",
      "i = 0 j = 3\n",
      "{(0, 1), (0, 4), (0, 0), (0, 3), (0, 2), (0, 5)}\n",
      "i = 0 j = 6\n",
      "i = -1 j = 5\n",
      "i = 0 j = 6\n",
      "i = 0 j = 4\n"
     ]
    },
    {
     "data": {
      "text/plain": [
       "True"
      ]
     },
     "execution_count": 20,
     "metadata": {},
     "output_type": "execute_result"
    }
   ],
   "source": [
    "\n",
    "# ## trivial case\n",
    "# maze_string = \"\\n\".join([\n",
    "#         \"...\",\n",
    "#         \"...\",\n",
    "#         \"...\"\n",
    "#     ])\n",
    "\n",
    "# # should fail\n",
    "\n",
    "maze_string = \"\\n\".join([\n",
    "        \"......\",\n",
    "        \"......\",\n",
    "        \"......\",\n",
    "        \"......\",\n",
    "        \".....W\",\n",
    "        \"....W.\"\n",
    "    ])\n",
    "\n",
    "path_finder(maze_string)"
   ]
  },
  {
   "cell_type": "code",
   "execution_count": null,
   "id": "5351bfb6-1870-4b67-a0a4-092374107fff",
   "metadata": {},
   "outputs": [],
   "source": []
  }
 ],
 "metadata": {
  "kernelspec": {
   "display_name": "Python 3 (ipykernel)",
   "language": "python",
   "name": "python3"
  },
  "language_info": {
   "codemirror_mode": {
    "name": "ipython",
    "version": 3
   },
   "file_extension": ".py",
   "mimetype": "text/x-python",
   "name": "python",
   "nbconvert_exporter": "python",
   "pygments_lexer": "ipython3",
   "version": "3.10.13"
  }
 },
 "nbformat": 4,
 "nbformat_minor": 5
}
