{
 "cells": [
  {
   "cell_type": "markdown",
   "id": "5e2f0e00-2258-426a-bd5c-cba9aff9b5cd",
   "metadata": {},
   "source": [
    "# bowling score\n",
    "\n",
    "link to kata: https://www.codewars.com/kata/5531abe4855bcc8d1f00004c/train/python"
   ]
  },
  {
   "cell_type": "code",
   "execution_count": 79,
   "id": "6f0fb8f4-d9a2-4205-9e6b-f8d261e5be95",
   "metadata": {
    "collapsed": true,
    "jupyter": {
     "outputs_hidden": true,
     "source_hidden": true
    }
   },
   "outputs": [
    {
     "name": "stdout",
     "output_type": "stream",
     "text": [
      "rolls:  ['8', '/', '5', '4', '9', '0', 'X', 'X', '5', '/', '5', '3', '6', '3', '9', '/', '9', '/', 'X']\n",
      "vals:  [8, 10, 5, 4, 9, 0, 10, 10, 5, 10, 5, 3, 6, 3, 9, 10, 9, 10, 10]\n",
      "length:  19\n",
      "last frame length 3\n",
      "i = 0: val = 8, score = 8\n",
      "spare! adding 5: score = 5\n",
      "i = 2: val = 5, score = 10\n",
      "i = 3: val = 4, score = 14\n",
      "i = 4: val = 9, score = 23\n",
      "i = 5: val = 0, score = 23\n",
      "strike! adding 10 and 5: score = 38\n",
      "strike! adding 5 and 10: score = 53\n",
      "i = 8: val = 5, score = 58\n",
      "spare! adding 5: score = 58\n",
      "i = 10: val = 5, score = 63\n",
      "i = 11: val = 3, score = 66\n",
      "i = 12: val = 6, score = 72\n",
      "i = 13: val = 3, score = 75\n",
      "i = 14: val = 9, score = 84\n",
      "spare! adding 9: score = 84\n"
     ]
    },
    {
     "data": {
      "text/plain": [
       "113"
      ]
     },
     "execution_count": 79,
     "metadata": {},
     "output_type": "execute_result"
    }
   ],
   "source": [
    "def bowling_score(frames):\n",
    "    score_ref = list(frames.replace(' ', ''))\n",
    "    score_vals = [10 if val== '/' or val == 'X' else int(val) for val in score_ref ]\n",
    "    \n",
    "    print('rolls: ', score_ref)\n",
    "    print('vals: ', score_vals)\n",
    "    \n",
    "    print('length: ', len(score_ref))\n",
    "    \n",
    "    last_frame = len(frames[-3:].strip())\n",
    "    print('last frame length', last_frame)\n",
    "    score = 0\n",
    "    \n",
    "    for i in range(len(score_ref) - last_frame):\n",
    "        \n",
    "        if score_ref[i] == 'X':\n",
    "            score += score_vals[i+1] + score_vals[i+2]\n",
    "            print(f'strike! adding {score_vals[i+1]} and {score_vals[i+2]}: score = {score}')\n",
    "        elif score_ref[i] == '/':\n",
    "            score += - score_vals[i-1] + score_vals[i+1]\n",
    "            print(f'spare! adding {score_vals[i+1]}: score = {score}')\n",
    "        else:\n",
    "            score += score_vals[i]\n",
    "            print(f'i = {i}: val = {score_vals[i]}, score = {score}')\n",
    "        # print(f'i ={i}: val = {score_vals[i]}, score = {score}')\n",
    "        ## add last \n",
    "    \n",
    "    score += sum(score_vals[-last_frame:])\n",
    "    \n",
    "    return score\n",
    "\n",
    "# frames = '9/ 8/ 63 7/ 06 X 22 53 70 XX1'\n",
    "# frames = '00 5/ 4/ 53 33 22 4/ 5/ 45 XXX' # 115\n",
    "frames = '8/ 54 90 X X 5/ 53 63 9/ 9/X' # 149\n",
    "bowling_score(frames)"
   ]
  },
  {
   "cell_type": "code",
   "execution_count": 62,
   "id": "7a111862-d100-4170-94e4-6c726c512d4e",
   "metadata": {
    "collapsed": true,
    "jupyter": {
     "outputs_hidden": true,
     "source_hidden": true
    }
   },
   "outputs": [
    {
     "name": "stdout",
     "output_type": "stream",
     "text": [
      "rolls:  ['8', '1', '0', '4', '9', '0', '4', '3', '7', '0', '4', '/', '0', '5', '9', '0', '7', '0', '1', '/', 'X']\n",
      "vals:  [8, 1, 0, 4, 9, 0, 4, 3, 7, 0, 4, 10, 0, 5, 9, 0, 7, 0, 1, 10, 10]\n",
      "length:  21\n",
      "i =0: val = 8, score = 8\n",
      "i =1: val = 1, score = 9\n",
      "i =2: val = 0, score = 9\n",
      "i =3: val = 4, score = 13\n",
      "i =4: val = 9, score = 22\n",
      "i =5: val = 0, score = 22\n",
      "i =6: val = 4, score = 26\n",
      "i =7: val = 3, score = 29\n",
      "i =8: val = 7, score = 36\n",
      "i =9: val = 0, score = 36\n",
      "i =10: val = 4, score = 40\n",
      "spare! adding 0\n",
      "i =11: val = 10, score = 50\n",
      "i =12: val = 0, score = 50\n",
      "i =13: val = 5, score = 55\n",
      "i =14: val = 9, score = 64\n",
      "i =15: val = 0, score = 64\n",
      "i =16: val = 7, score = 71\n",
      "i =17: val = 0, score = 71\n",
      "92\n"
     ]
    }
   ],
   "source": [
    "# basic case\n",
    "\n",
    "# frames = '54 72 44'\n",
    "# frames = 'X X X X X X X X X XXX' # perfect score\n",
    "# frames = '11 11 11 11 11 11 11 11 11 11'\n",
    "\n",
    "# frames = '9/ 8/ 63 7/ 06 X 22 53 70 XX1'\n",
    "frames = '81 04 90 43 70 4/ 05 90 70 1/X' # 87\n",
    "\n",
    "\n",
    "# score = 0\n",
    "\n",
    "score_ref = list(frames.replace(' ', ''))\n",
    "score_vals = [10 if val== '/' or val == 'X' else int(val) for val in score_ref ]\n",
    "# score_ref.reverse()\n",
    "# score_vals.reverse()\n",
    "\n",
    "print('rolls: ', score_ref)\n",
    "print('vals: ', score_vals)\n",
    "\n",
    "print('length: ', len(score_ref))\n",
    "\n",
    "last_frame = len(frames[-3:].strip())\n",
    "\n",
    "score = 0\n",
    "\n",
    "for i in range(len(score_ref) - last_frame):\n",
    "    \n",
    "    score += score_vals[i]\n",
    "    \n",
    "    if score_ref[i] == 'X':\n",
    "        score += score_vals[i+1] + score_vals[i+2]\n",
    "        print(f'strike! adding {score_vals[i+1]} and {score_vals[i+2]}')\n",
    "    elif score_ref[i] == '/':\n",
    "        score += score_vals[i+1]\n",
    "        print(f'spare! adding {score_vals[i+1]}')\n",
    "    print(f'i ={i}: val = {score_vals[i]}, score = {score}')\n",
    "## add last \n",
    "\n",
    "score += sum(score_vals[-last_frame:])\n",
    "# print(sum)\n",
    "        \n",
    "print(score)"
   ]
  },
  {
   "cell_type": "code",
   "execution_count": 119,
   "id": "321bb348-376c-4a7d-8529-bacdad935b13",
   "metadata": {
    "jupyter": {
     "source_hidden": true
    }
   },
   "outputs": [
    {
     "name": "stdout",
     "output_type": "stream",
     "text": [
      "rolls:  ['8', '/', '5', '4', '9', '0', 'X', 'X', '5', '/', '5', '3', '6', '3', '9', '/', '9', '/', 'X']\n",
      "vals:  [8, 10, 5, 4, 9, 0, 10, 10, 5, 10, 5, 3, 6, 3, 9, 10, 9, 10, 10]\n",
      "length:  19\n",
      "last frame length 3\n",
      "scores: [8, 15, 5, 4, 9, 0, 25, 20, 5, 15, 5, 3, 6, 3, 9, 19] len:  16\n"
     ]
    },
    {
     "data": {
      "text/plain": [
       "151"
      ]
     },
     "execution_count": 119,
     "metadata": {},
     "output_type": "execute_result"
    }
   ],
   "source": [
    "# try storing values in a list\n",
    "\n",
    "def bowling_score(frames):\n",
    "    score_ref = list(frames.replace(' ', ''))\n",
    "    score_vals = [10 if val== '/' or val == 'X' else int(val) for val in score_ref ]\n",
    "    \n",
    "    print('rolls: ', score_ref)\n",
    "    print('vals: ', score_vals)\n",
    "    \n",
    "    print('length: ', len(score_ref))\n",
    "    \n",
    "    last_frame = len(frames[-3:].strip())\n",
    "    print('last frame length', last_frame)\n",
    "\n",
    "    scores = []\n",
    "    # score = 0\n",
    "    \n",
    "    for i in range(len(score_ref) - last_frame):\n",
    "        \n",
    "        if score_ref[i] == 'X':\n",
    "            if score_ref[i+2] == '/':\n",
    "                scores.append(20)\n",
    "            else:\n",
    "                scores.append(10 + score_vals[i+1] + score_vals[i+2])\n",
    "            # score += score_vals[i+1] + score_vals[i+2]\n",
    "            # print(f'strike! adding {score_vals[i+1]} and {score_vals[i+2]}: score = {score}')\n",
    "        elif score_ref[i] == '/':\n",
    "            # if score_ref[i+1]\n",
    "            scores.append(10 + score_vals[i+1])\n",
    "            # print(f'spare! adding {score_vals[i+1]}: score = {score}')\n",
    "        else:\n",
    "            scores.append(score_vals[i])\n",
    "            # print(f'i = {i}: val = {score_vals[i]}, score = {score}')\n",
    "        # print(f'i ={i}: val = {score_vals[i]}, score = {score}')\n",
    "        ## add last \n",
    "    \n",
    "    # score += sum(score_vals[-last_frame:])\n",
    "    print('scores:', scores, 'len: ', len(scores))\n",
    "    return sum(scores)\n",
    "\n",
    "# frames = '9/ 8/ 63 7/ 06 X 22 53 70 XX1'\n",
    "# frames = '00 5/ 4/ 53 33 22 4/ 5/ 45 XXX' # 115\n",
    "# frames = '8/ 54 90 X X 5/ 53 63 9/ 9/X' # 149\n",
    "\n",
    "tests = [\n",
    "    '9/ 8/ 63 7/ 06 X 22 53 70 XX1',\n",
    "    '00 5/ 4/ 53 33 22 4/ 5/ 45 XXX',\n",
    "    '8/ 54 90 X X 5/ 53 63 9/ 9/X',\n",
    "    'X X X X X X X X X XXX',\n",
    "    '11 11 11 11 11 11 11 11 11 11'\n",
    "]\n",
    "bowling_score(tests[2])"
   ]
  },
  {
   "cell_type": "code",
   "execution_count": 401,
   "id": "af407a61-229d-4d5e-ac74-bbe486611f4c",
   "metadata": {},
   "outputs": [
    {
     "name": "stdout",
     "output_type": "stream",
     "text": [
      "  1   |   5/   |  [5, 10]            14     14     \n",
      "  2   |   4/   |  [4, 10]            13     27     \n",
      "  3   |   3/   |  [3, 10]            12     39     \n",
      "  4   |   2/   |  [2, 10]            11     50     \n",
      "  5   |   1/   |  [1, 10]            10     60     \n",
      "  6   |   0/   |  [0, 10]            20     80     \n",
      "  7   |   X    |  [10]            0      100    \n",
      "  8   |   9/   |  [9, 10]            14     114    \n",
      "  9   |   4/   |  [4, 10]            17     131    \n",
      " 10   |  7/2   |  [7, 10, 2]        12         143    \n",
      "total score: 143\n",
      "  1   |   5/   |  [5, 10]            14     14     \n",
      "  2   |   4/   |  [4, 10]            13     27     \n",
      "  3   |   3/   |  [3, 10]            12     39     \n",
      "  4   |   2/   |  [2, 10]            11     50     \n",
      "  5   |   1/   |  [1, 10]            10     60     \n",
      "  6   |   0/   |  [0, 10]            20     80     \n",
      "  7   |   X    |  [10]            0      100    \n",
      "  8   |   9/   |  [9, 10]            14     114    \n",
      "  9   |   4/   |  [4, 10]            18     132    \n",
      " 10   |  8/8   |  [8, 10, 8]        18         150    \n",
      "total score: 150\n"
     ]
    }
   ],
   "source": [
    "## I think  this is the one...\n",
    "def bowling_score(frames):\n",
    "    frames_list = frames.split()\n",
    "    \n",
    "    frames = {}\n",
    "   \n",
    "    frame_num = 0\n",
    "    \n",
    "    for frame in frames_list:\n",
    "        frame_num += 1\n",
    "        rolls = []\n",
    "\n",
    "        \n",
    "        for i in range(len(frame)):\n",
    "\n",
    "            # if frame[i].isdigit():\n",
    "            #     rolls.append(int(frame[i]))\n",
    "            \n",
    "            if frame[i]=='/':\n",
    "                rolls.append(10)\n",
    "                \n",
    "            elif frame[i]=='X':\n",
    "                rolls.append(10)\n",
    "            else:\n",
    "                rolls.append(int(frame[i]))\n",
    "        \n",
    "        frames.update({frame_num: {'frame': frame, 'roll': rolls, 'score': 0}})\n",
    "\n",
    "    # print(frames)\n",
    "\n",
    "    # # last frame\n",
    "    # frames[10]['roll'] = [10 if val == '/' or val == 'X' else int(val) for val in frames[10]['frame'] ]\n",
    "        \n",
    "    if '/X' in frames[10]['frame']:\n",
    "        frames[10]['score'] += 20\n",
    "    elif '/' in frames[10]['frame']:\n",
    "        frames[10]['score'] += 10 + frames[10]['roll'][2]\n",
    "    else:\n",
    "        # last_frame = [10 if val == '/' or val == 'X' else int(val) for val in last_frame ]\n",
    "        frames[10]['score'] = sum(frames[10]['roll'])\n",
    "\n",
    "    # print('roll: ', frames[10]['roll'], 'score: ', print(frames[10]['score']))\n",
    "    \n",
    "    # print(frames)\n",
    "    # print(f\"{'FRAME':^7s} {'STRING':^7s} {'ROLL':^10s} {'SCORE':^20s} {'TOTAL':^7s}\")\n",
    "    # print(50*'-')\n",
    "    # FRAMES 1-9\n",
    "    score = 0\n",
    "\n",
    "    for i in range(1,len(frames)):\n",
    "    # for frame in frames:\n",
    "        if '/' in frames[i]['frame']:\n",
    "            frames[i]['score'] += 10 + frames[i+1]['roll'][0]\n",
    "        elif 'X' in frames[i]['frame']:\n",
    "            if '/' in frames[i+1]['frame']:\n",
    "                score += 20\n",
    "            elif 'X' in frames[i+1]['frame'] and i == 9:\n",
    "                score += 20 + frames[i+1]['roll'][1]\n",
    "            \n",
    "            elif 'X' in frames[i+1]['frame']:\n",
    "                score += 20 + frames[i+2]['roll'][0]\n",
    "            else:\n",
    "                frames[i]['score'] += 10 + frames[i+1]['roll'][0] + frames[i+1]['roll'][1]\n",
    "        else:\n",
    "            frames[i]['score'] += sum(frames[i]['roll'])\n",
    "    \n",
    "        score += frames[i]['score']\n",
    "        \n",
    "        print(f\"{i:^5d} | {frames[i]['frame']:^6s} |{'':1s} {frames[i]['roll']} {'':6s} {frames[i]['score']:^10d} {score:<7d}\")\n",
    "\n",
    "    score += frames[10]['score']\n",
    "    print(f\"{10:^5d} | {frames[10]['frame']:^6s} |{'':1s} {frames[10]['roll']} {'':6s} {frames[10]['score']:<10d} {score:<7d}\")\n",
    "    # score = 0\n",
    "    return score\n",
    "\n",
    "tests = [\n",
    "    # '25 X 90 45 81 X X 7/ 71 XX1', # 146\n",
    "    # '90 61 23 63 81 23 43 72 1/ XX1', # 101\n",
    "    # '00 5/ 4/ 53 33 22 4/ 5/ 45 XXX',\n",
    "    '5/ 4/ 3/ 2/ 1/ 0/ X 9/ 4/ 7/2', # 143\n",
    "    '5/ 4/ 3/ 2/ 1/ 0/ X 9/ 4/ 8/8', # 150\n",
    "    # '8/ 54 90 X X 5/ 53 63 9/ 9/X',\n",
    "    # 'X X X X X X X X X XXX', # 300\n",
    "    # '11 11 11 11 11 11 11 11 11 11' # 20\n",
    "]\n",
    "for test in tests: \n",
    "    print('total score:', bowling_score(test))"
   ]
  },
  {
   "cell_type": "code",
   "execution_count": 313,
   "id": "3309bf7d-8862-4e63-bee1-f47602129f77",
   "metadata": {},
   "outputs": [
    {
     "name": "stdout",
     "output_type": "stream",
     "text": [
      "FRAME   STRING  ROLL    SCORE   TOTAL  \n",
      "--------------------------------------------------\n",
      "  1   |   90   | [9, 0] |   9    |   9   |\n",
      "  2   |   61   | [6, 1] |   7    |  16   |\n",
      "  3   |   23   | [2, 3] |   5    |  21   |\n",
      "  4   |   63   | [6, 3] |   9    |  30   |\n",
      "  5   |   81   | [8, 1] |   9    |  39   |\n",
      "  6   |   23   | [2, 3] |   5    |  44   |\n",
      "  7   |   43   | [4, 3] |   7    |  51   |\n",
      "  8   |   72   | [7, 2] |   9    |  60   |\n",
      "  9   |   1/   | [1, 10] |   20   |  80   |\n",
      "10 | [10, 10, 10] | 30 |        110 |\n",
      "total score: 110\n"
     ]
    }
   ],
   "source": [
    "tests = [\n",
    "    # '25 X 90 45 81 X X 7/ 71 XX1', # 146\n",
    "    '90 61 23 63 81 23 43 72 1/ XX1', # 101\n",
    "    # '00 5/ 4/ 53 33 22 4/ 5/ 45 XXX',\n",
    "    \n",
    "    # '8/ 54 90 X X 5/ 53 63 9/ 9/X',\n",
    "    # 'X X X X X X X X X XXX',\n",
    "    # '11 11 11 11 11 11 11 11 11 11'\n",
    "]\n",
    "for test in tests: \n",
    "    print('total score:', bowling_score(test))"
   ]
  },
  {
   "cell_type": "code",
   "execution_count": 39,
   "id": "755721e2-3f98-438f-9678-2c43791ff33c",
   "metadata": {},
   "outputs": [
    {
     "data": {
      "text/plain": [
       "'XXX'"
      ]
     },
     "execution_count": 39,
     "metadata": {},
     "output_type": "execute_result"
    }
   ],
   "source": [
    "frames[-3:]"
   ]
  },
  {
   "cell_type": "code",
   "execution_count": 92,
   "id": "9265a3c3-de65-40e5-98bc-1fc670e42e4a",
   "metadata": {},
   "outputs": [
    {
     "data": {
      "text/plain": [
       "10"
      ]
     },
     "execution_count": 92,
     "metadata": {},
     "output_type": "execute_result"
    }
   ],
   "source": [
    "tests[1].split()\n",
    "\n",
    "len(tests[1].split())"
   ]
  },
  {
   "cell_type": "code",
   "execution_count": 93,
   "id": "9c060b69-1157-474d-a62e-3cc9ed5db46d",
   "metadata": {},
   "outputs": [
    {
     "data": {
      "text/plain": [
       "10"
      ]
     },
     "execution_count": 93,
     "metadata": {},
     "output_type": "execute_result"
    }
   ],
   "source": [
    "len(tests[0].split())"
   ]
  },
  {
   "cell_type": "code",
   "execution_count": 105,
   "id": "2ae8e1da-0dac-453d-9728-1231ef0b35a4",
   "metadata": {},
   "outputs": [
    {
     "name": "stdout",
     "output_type": "stream",
     "text": [
      "i=0: score = 64\n",
      "i=1: score = 64\n",
      "i=2: score = 64\n"
     ]
    },
    {
     "ename": "ValueError",
     "evalue": "invalid literal for int() with base 10: 'X'",
     "output_type": "error",
     "traceback": [
      "\u001b[0;31m---------------------------------------------------------------------------\u001b[0m",
      "\u001b[0;31mValueError\u001b[0m                                Traceback (most recent call last)",
      "Cell \u001b[0;32mIn[105], line 13\u001b[0m\n\u001b[1;32m     11\u001b[0m             score \u001b[38;5;241m+\u001b[39m\u001b[38;5;241m=\u001b[39m \u001b[38;5;241m20\u001b[39m\n\u001b[1;32m     12\u001b[0m         \u001b[38;5;28;01melse\u001b[39;00m:\n\u001b[0;32m---> 13\u001b[0m             score \u001b[38;5;241m+\u001b[39m\u001b[38;5;241m=\u001b[39m \u001b[38;5;241m10\u001b[39m \u001b[38;5;241m+\u001b[39m \u001b[38;5;28;43mint\u001b[39;49m\u001b[43m(\u001b[49m\u001b[43mframes\u001b[49m\u001b[43m[\u001b[49m\u001b[43mi\u001b[49m\u001b[38;5;241;43m+\u001b[39;49m\u001b[38;5;241;43m1\u001b[39;49m\u001b[43m]\u001b[49m\u001b[43m)\u001b[49m\u001b[38;5;241m+\u001b[39m \u001b[38;5;28mint\u001b[39m(frames[i\u001b[38;5;241m+\u001b[39m\u001b[38;5;241m2\u001b[39m])\n\u001b[1;32m     15\u001b[0m     \u001b[38;5;28mprint\u001b[39m(\u001b[38;5;124mf\u001b[39m\u001b[38;5;124m'\u001b[39m\u001b[38;5;124mi=\u001b[39m\u001b[38;5;132;01m{\u001b[39;00mi\u001b[38;5;132;01m}\u001b[39;00m\u001b[38;5;124m: score = \u001b[39m\u001b[38;5;132;01m{\u001b[39;00mscore\u001b[38;5;132;01m}\u001b[39;00m\u001b[38;5;124m'\u001b[39m)    \n\u001b[1;32m     16\u001b[0m \u001b[38;5;28mprint\u001b[39m(score)\n",
      "\u001b[0;31mValueError\u001b[0m: invalid literal for int() with base 10: 'X'"
     ]
    }
   ],
   "source": [
    "frames = tests[2].split()\n",
    "frames\n",
    "\n",
    "score = 0\n",
    "for i in range(len(frames)-2):\n",
    "    \n",
    "    if '/' in frames[i]:\n",
    "        score += 10 + int(frames[i+1])\n",
    "    elif 'X' in frames[i]:\n",
    "        if '/' in frames[i+1]:\n",
    "            score += 20\n",
    "        else:\n",
    "            score += 10 + int(frames[i+1])+ int(frames[i+2])\n",
    "    \n",
    "    print(f'i={i}: score = {score}')\n",
    "    \n",
    "print(score)"
   ]
  },
  {
   "cell_type": "code",
   "execution_count": 169,
   "id": "7ffe58cd-b50f-4ec7-923d-2e1c9a3fff5a",
   "metadata": {},
   "outputs": [
    {
     "name": "stdout",
     "output_type": "stream",
     "text": [
      "{1: {'frame': '8/', 'roll': [8, 10], 'score': 0}, 2: {'frame': '54', 'roll': [5, 4], 'score': 0}, 3: {'frame': '90', 'roll': [9, 0], 'score': 0}, 4: {'frame': 'X', 'roll': [10, 0], 'score': 0}, 5: {'frame': 'X', 'roll': [10, 0], 'score': 0}, 6: {'frame': '5/', 'roll': [5, 10], 'score': 0}, 7: {'frame': '53', 'roll': [5, 3], 'score': 0}, 8: {'frame': '63', 'roll': [6, 3], 'score': 0}, 9: {'frame': '9/', 'roll': [9, 10], 'score': 0}, 10: {'frame': '9/X', 'roll': [9, 10], 'score': 0}}\n",
      "i=1: roll score = 15 total score: 15\n",
      "i=2: roll score = 9 total score: 24\n",
      "i=3: roll score = 9 total score: 33\n",
      "i=4: roll score = 0 total score: 58\n",
      "i=5: roll score = 0 total score: 78\n",
      "i=6: roll score = 15 total score: 93\n",
      "i=7: roll score = 8 total score: 101\n",
      "i=8: roll score = 9 total score: 110\n",
      "i=9: roll score = 19 total score: 129\n",
      "i=10: score = 20 total score: 149\n",
      "149\n"
     ]
    }
   ],
   "source": [
    "frames_list = tests[2].split()\n",
    "\n",
    "frames = {}\n",
    "\n",
    "frames_list\n",
    "frame_num = 0\n",
    "for frame in frames_list:\n",
    "    frame_num += 1    \n",
    "    if '/' in frame:\n",
    "        rolls = [int(frame[0]), 10]\n",
    "    elif 'X' in frame:\n",
    "        rolls = [10, 0]\n",
    "    else:\n",
    "        rolls = [ int(frame[0]), int(frame[1]) ]\n",
    "    frames.update({frame_num: {'frame': frame, 'roll': rolls, 'score': 0}})\n",
    "\n",
    "print(frames)\n",
    "score = 0\n",
    "for i in range(1,len(frames)):\n",
    "# for frame in frames:\n",
    "    if '/' in frames[i]['frame']:\n",
    "        frames[i]['score'] += 10 + frames[i+1]['roll'][0]\n",
    "    elif 'X' in frames[i]['frame']:\n",
    "        if '/' in frames[i+1]['frame']:\n",
    "            score += 20\n",
    "        elif 'X' in frames[i+1]['frame']:\n",
    "            score += 20 + frames[i+2]['roll'][0]\n",
    "        else:\n",
    "            frames[i]['score'] += 10 + frames[i+1]['roll'][0] + frames[i+1]['roll'][1]\n",
    "    else:\n",
    "        frames[i]['score'] += sum(frames[i]['roll'])\n",
    "\n",
    "    score += frames[i]['score']\n",
    "    print(f\"i={i}: roll score = { frames[i]['score'] } total score: {score}\")\n",
    "\n",
    "## last frame score\n",
    "\n",
    "if '/' and 'X' in frames[10]['frame']:\n",
    "    \n",
    "    frames[10]['score'] += 20\n",
    "else:\n",
    "    last_frame = [10 if val == '/' or val == 'X' else int(val) for val in last_frame ]\n",
    "    frames[10]['score'] = sum(last_frame)\n",
    "\n",
    "score += frames[10]['score']\n",
    "print(f\"i={10}: score = { frames[10]['score'] } total score: {score}\")\n",
    "\n",
    "print(score)"
   ]
  },
  {
   "cell_type": "code",
   "execution_count": 165,
   "id": "953ed09c-b209-4f7c-8153-80863b7ab62e",
   "metadata": {},
   "outputs": [
    {
     "name": "stdout",
     "output_type": "stream",
     "text": [
      "1 {'frame': '8/', 'roll': [8, 10], 'score': 15}\n",
      "2 {'frame': '54', 'roll': [5, 4], 'score': 9}\n",
      "3 {'frame': '90', 'roll': [9, 0], 'score': 9}\n",
      "4 {'frame': 'X', 'roll': [10, 0], 'score': 20}\n",
      "5 {'frame': 'X', 'roll': [10, 0], 'score': 0}\n",
      "6 {'frame': '5/', 'roll': [5, 10], 'score': 15}\n",
      "7 {'frame': '53', 'roll': [5, 3], 'score': 8}\n",
      "8 {'frame': '63', 'roll': [6, 3], 'score': 9}\n",
      "9 {'frame': '9/', 'roll': [9, 10], 'score': 19}\n",
      "10 {'frame': '9/X', 'roll': [9, 10], 'score': 29}\n"
     ]
    }
   ],
   "source": [
    "for frame in frames:\n",
    "    print(frame, frames[frame])"
   ]
  },
  {
   "cell_type": "code",
   "execution_count": 154,
   "id": "f163d0e3-a48c-4047-99a7-75607fd14a55",
   "metadata": {},
   "outputs": [
    {
     "data": {
      "text/plain": [
       "[9, 10, 10]"
      ]
     },
     "execution_count": 154,
     "metadata": {},
     "output_type": "execute_result"
    }
   ],
   "source": [
    "frames[10]['roll']\n",
    "last_frame_roll"
   ]
  },
  {
   "cell_type": "code",
   "execution_count": 140,
   "id": "bec7e327-27ad-42d7-8f14-c0141f68a21f",
   "metadata": {},
   "outputs": [
    {
     "data": {
      "text/plain": [
       "'8/'"
      ]
     },
     "execution_count": 140,
     "metadata": {},
     "output_type": "execute_result"
    }
   ],
   "source": [
    "# sum(score_vals[18:])\n",
    "len(frames)\n",
    "frames[1]['frame']"
   ]
  },
  {
   "cell_type": "code",
   "execution_count": 68,
   "id": "3ad59a28-f4df-4848-a293-4d1218b6581f",
   "metadata": {},
   "outputs": [
    {
     "data": {
      "text/plain": [
       "['81', '04', '90', '43', '70', '4/', '05', '90', '70']"
      ]
     },
     "execution_count": 68,
     "metadata": {},
     "output_type": "execute_result"
    }
   ],
   "source": [
    "frames_list = frames.split(' ')\n",
    "len(frames_list)\n",
    "first_nine = frames_list[:9]\n",
    "first_nine"
   ]
  },
  {
   "cell_type": "code",
   "execution_count": 72,
   "id": "c5be76f0-fa9c-40c3-9e39-310a3f14f020",
   "metadata": {},
   "outputs": [
    {
     "data": {
      "text/plain": [
       "'81 04 90 43 70 4/ 05 90 70'"
      ]
     },
     "execution_count": 72,
     "metadata": {},
     "output_type": "execute_result"
    }
   ],
   "source": [
    "frames[:26]"
   ]
  },
  {
   "cell_type": "code",
   "execution_count": 71,
   "id": "e7315816-cfb6-47fa-806f-305da06afbaf",
   "metadata": {},
   "outputs": [
    {
     "data": {
      "text/plain": [
       "' 1/X'"
      ]
     },
     "execution_count": 71,
     "metadata": {},
     "output_type": "execute_result"
    }
   ],
   "source": [
    "frames[26:]"
   ]
  },
  {
   "cell_type": "code",
   "execution_count": 89,
   "id": "d4c68dfd-9eec-4360-95c3-3fdd29ead683",
   "metadata": {},
   "outputs": [
    {
     "data": {
      "text/plain": [
       "18"
      ]
     },
     "execution_count": 89,
     "metadata": {},
     "output_type": "execute_result"
    }
   ],
   "source": [
    "a = [8, 1, 0, 4, 9, 0, 4, 3, 7, 0, 4, 10, 0, 5, 9, 0, 7, 0]\n",
    "len(a)"
   ]
  },
  {
   "cell_type": "code",
   "execution_count": null,
   "id": "fa77eb52-29a1-4c27-bc20-ac9128a0e2b8",
   "metadata": {},
   "outputs": [],
   "source": [
    "\n"
   ]
  },
  {
   "cell_type": "code",
   "execution_count": 98,
   "id": "1fb0105a-6c5e-44d6-abea-e14b3de45743",
   "metadata": {},
   "outputs": [
    {
     "data": {
      "text/plain": [
       "list"
      ]
     },
     "execution_count": 98,
     "metadata": {},
     "output_type": "execute_result"
    }
   ],
   "source": [
    "type(score_vals[18:])"
   ]
  },
  {
   "cell_type": "code",
   "execution_count": null,
   "id": "873ac013-a83c-42e1-ae15-011dd7a2180f",
   "metadata": {},
   "outputs": [],
   "source": [
    "# frames_list = frames.split(' ')\n",
    "\n",
    "# print(frames_list)\n",
    "\n",
    "# frame_rolls = [list(frame) for frame in frames_list]\n",
    "\n",
    "# frame_scores = []\n",
    "\n",
    "# # sum_frame = 0\n",
    "\n",
    "# for k in range(len(frame_rolls)):\n",
    "#     for i in range(len(frame_rolls[k])):\n",
    "#         if frame[i] == '/':\n",
    "#             sum_frame += 10 + int(frame[i]) + \n",
    "#         else:\n",
    "#             sum_frame += int(frame[i])\n",
    "\n",
    "# for i in range(len(frames_list)):\n",
    "#     rolls = list(frames_list[i])\n",
    "#     frame_rolls.append(rolls)\n",
    "#     if frames_list[i] == 'X':\n",
    "#         frame_scores.append(10) \n",
    "#     # if \n",
    "        \n",
    "frame_rolls"
   ]
  },
  {
   "cell_type": "code",
   "execution_count": 21,
   "id": "34abd715-a04d-4271-b1f9-ec7b79b8df8e",
   "metadata": {},
   "outputs": [
    {
     "data": {
      "text/plain": [
       "'/'"
      ]
     },
     "execution_count": 21,
     "metadata": {},
     "output_type": "execute_result"
    }
   ],
   "source": [
    "frame_rolls[2][1]"
   ]
  },
  {
   "cell_type": "code",
   "execution_count": null,
   "id": "2e171543-4a7b-4d78-b8a4-ed9623b97e56",
   "metadata": {},
   "outputs": [],
   "source": []
  }
 ],
 "metadata": {
  "kernelspec": {
   "display_name": "Python 3 (ipykernel)",
   "language": "python",
   "name": "python3"
  },
  "language_info": {
   "codemirror_mode": {
    "name": "ipython",
    "version": 3
   },
   "file_extension": ".py",
   "mimetype": "text/x-python",
   "name": "python",
   "nbconvert_exporter": "python",
   "pygments_lexer": "ipython3",
   "version": "3.10.13"
  }
 },
 "nbformat": 4,
 "nbformat_minor": 5
}
