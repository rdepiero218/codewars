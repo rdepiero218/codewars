


maze_string = "\n".join([
        ".W.",
        ".W.",
        "..."
    ])


def move_east(pos):
    pos[1] = int(pos[1]+1)
    return pos

def move_west(pos):
    pos[1] = int(pos[1]-1)
    pos[1] = max(pos[1], 0) # defaults to 0 if value negative
    return pos

# def move_south(pos):
#     pos[0] = int(pos[0]+1)
#     return pos

# def move_north(pos):
#     return pos[0] = int(pos[0]-1)
    
rows = maze_string.split('\n')
maze = []
for row in rows:
    maze.append(list(row))
    
# print(maze)

current_position = [0,0]

# if current_position[1] < len(maze):
#     if maze[current_position[0]][current_position[1]] != 'W':
#         current_postiion

# move east

# if pos[1] < len(maze):
#     pos[1] = int(pos[1]+1)

# # move west
# if pos[1] > 0:
#     pos[1] = int(pos[1]-1)

# # move south
# if pos[0] < len(maze):
#     pos[0] = int(pos[0]+1)
       
# # move north
# if pos[0] > 0:
#     pos[0] = int(pos[0]-1)


# if 


move_east(current_position)


move_west(current_position)


move_east(current_position)


move_east(current_position)


maze[0][0]


list(row)



row.split()


[
    []
    []
    []
]


# rows[0][0]
# len(rows)

# start = 
# end =

# pos = [0,0]

# print(pos)

# MOVE EAST
# if rows[pos[0], pos[1]] == '.':
#     pos[1] += 1

# print(pos)
# # # MOVE WEST
# # if row[pos[0], pos[1]] == '.':
# #     pos[1] -= 1

# # MOVE SOUTH
# if rows[pos[0], pos[1]] == '.':
#     pos[0] += 1
    
# print(pos)
# if
# for i in range(len(rows)):
#     for j in range(len(rows)):
#         if maze[0][1] == '.'
# maze[1]
        


# # # should fail
# maze_string = "\n".join([
#         "......",
#         "......",
#         "......",
#         "......",
#         ".....W",
#         "....W."
#     ])



# type(maze)


def path_finder(maze_string):
    maze = [list(row) for row in maze_string.split('\n')]
    start_pos = (0,0)
    visited = set([start_pos])
    queue = [start_pos]
    
    while queue:
        # print('visited: ', visited)
        print('queue: ', queue)
        (this_row, this_col) = queue.pop()
        visited.add((this_row,this_col))
        print('visited: ', visited)

        for dir_row, dir_col in [(1,0), (-1,0), (0, 1), (0,-1)]:
            print('dr: ', dir_row, 'dc', dir_col)
            
            next_row, next_col = this_row + dir_row, this_col + dir_col
            
            print('next coord: (', next_row, ',', next_col, ')')
            
            if (next_row, next_col) in visited:
                continue

            if next_row < 0 or next_col < 0 or next_row >= len(maze) or next_col >= len(maze):
                continue

            if maze[next_row][next_col] == 'W':
                print('#### Hit a wall! ####!')
                continue
                # result = True
                # return True

            # if next_row == (len(maze)-1) and next_col == (len(maze)-1):
            #     print('-----REACHED THE EXIT ------')
            #     return True
            
            if maze[next_row][next_col] == '.':
            
                visited.add((next_row, next_col))
                queue.append((next_row, next_col))
                print('VALID MOVE: adding to queue')

            print(10*'-')
            print('visited:', visited)
            print('queue: ', queue)
            print(10*'-')

    print('visited:', visited)
    print('queue: ', queue)
    
    if ((len(maze)-1), (len(maze)-1)) not in visited:
        return False
    
    return True # can go to lower right corner from upper left one


## trivial case
maze_string = "\n".join([
        "...",
        "...",
        "..."
    ])

## FAIL Case
maze_string = "\n".join([
        "...",
        "..W",
        ".W."
    ])

## super trivial case
maze_string = '\n'.join([
  '.',
])

path_finder(maze_string)





## Shortest Path

def path_finder(maze_string):
    maze = [list(row) for row in maze_string.split('\n')]
    start_pos = (0,0)
    visited = set([start_pos])
    queue = [start_pos]
    
    while queue:
        # print('visited: ', visited)
        print('queue: ', queue)
        (this_row, this_col) = queue.pop()
        visited.add((this_row,this_col))
        print('visited: ', visited)

        for dir_row, dir_col in [(1,0), (-1,0), (0, 1), (0,-1)]:
            print('dr: ', dir_row, 'dc', dir_col)
            
            next_row, next_col = this_row + dir_row, this_col + dir_col
            
            print('next coord: (', next_row, ',', next_col, ')')
            
            if (next_row, next_col) in visited:
                continue

            if next_row < 0 or next_col < 0 or next_row >= len(maze) or next_col >= len(maze):
                continue

            if maze[next_row][next_col] == 'W':
                print('#### Hit a wall! ####!')
                continue
                # result = True
                # return True

            # if next_row == (len(maze)-1) and next_col == (len(maze)-1):
            #     print('-----REACHED THE EXIT ------')
            #     return True
            
            if maze[next_row][next_col] == '.':
            
                visited.add((next_row, next_col))
                queue.append((next_row, next_col))
                print('VALID MOVE: adding to queue')

            print(10*'-')
            print('visited:', visited)
            print('queue: ', queue)
            print(10*'-')

    print('visited:', visited)
    print('queue: ', queue)
    
    if ((len(maze)-1), (len(maze)-1)) not in visited:
        return False
    
    return True # can go to lower right corner from upper left one


## trivial case
maze_string = "\n".join([
        "...",
        "...",
        "..."
    ])

## FAIL Case
maze_string = "\n".join([
        "...",
        "..W",
        ".W."
    ])

## super trivial case
maze_string = '\n'.join([
  '.',
])

path_finder(maze_string)


## removin
def path_finder(maze_string):
    maze = [list(row) for row in maze_string.split('\n')]
    start_pos = (0,0)
    visited = set([start_pos])
    queue = [start_pos]
    
    while queue:
        (this_row, this_col) = queue.pop()
        visited.add((this_row,this_col))

        for dir_row, dir_col in [(1,0), (-1,0), (0, 1), (0,-1)]:
            
            next_row, next_col = this_row + dir_row, this_col + dir_col
            
            if (next_row, next_col) in visited:
                continue

            if next_row < 0 or next_col < 0 or next_row >= len(maze) or next_col >= len(maze):
                continue

            if maze[next_row][next_col] == 'W':
                # print('#### Hit a wall! ####!')
                continue
                
            if next_row == (len(maze)-1) and next_col == (len(maze)-1):
                # print('-----REACHED THE EXIT ------')
                return True
            
            if maze[next_row][next_col] == '.':
            
                visited.add((next_row, next_col))
                queue.append((next_row, next_col))
                # print('VALID MOVE: adding to queue')

            # print(10*'-')
            # print('visited:', visited)
            # print('queue: ', queue)
            # print(10*'-')
            
    return False # can go to lower right corner from upper left one


## trivial case
maze_string = "\n".join([
        "...",
        "...",
        "..."
    ])

## FAIL Case
maze_string = "\n".join([
        "...",
        "..W",
        ".W."
    ])



path_finder(maze_string)







