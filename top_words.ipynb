{
 "cells": [
  {
   "cell_type": "markdown",
   "id": "e00e5477-d0bf-4e21-a06c-82c437978984",
   "metadata": {},
   "source": [
    "## Test Strings\n",
    "\n",
    "WOW. Note to self, don't copy/paste from the internet - symbols copy wrong remember!"
   ]
  },
  {
   "cell_type": "code",
   "execution_count": 99,
   "id": "410a8ce3-8b60-4e1a-9250-e9bde3a28c51",
   "metadata": {
    "tags": []
   },
   "outputs": [],
   "source": [
    "## TEST STRINGS\n",
    "# string = 'In a village of La Mancha, the name of which I have no desire to call to mind, there lived not long since one of those gentlemen that keep a lance in the lance-rack, an old buckler, a lean hack, and a greyhound forcoursing. An olla of rather more beef than mutton.'\n",
    "\n",
    "# string = 'In a village of La Mancha, the name-of which\\I have/no. desire, to call #to mind.'\n",
    "# string = 'In a village of La Mancha, in what, the, the the name-of which\\I have/no. desire, the to call #to mind.'\n",
    "string1 = \"a a a  b  c c  d d d d  e e e e e\"\n",
    "# string = \"won't wont //won't\"\n",
    "# # string = \"  '  \"\n",
    "\n",
    "# string = \"  '''  \"\n",
    "string2 = \"IDKvvl,hNIM_/._,hNIM-:;/;SaINszyUBb;.;:?LuDo?_-!!'IDKvvl; ;RqUIDf.. .hNIM?:!!hNIM?POzKhOsh?/tOHEckugaW//_?!RqUIDf-LuDo!YkFSXnet!!,aMj;-,/tOHEckugaW,;;?NFvManTG:NFvManTG!hNIM?!:.?NFvManTG_SaINszyUBb, !/_XwONAhnW-RqUIDf ,-OvV_::NFvManTG, -:-JYwxKptdcm_/?!'IDKvvl..NFvManTG,.!tOHEckugaW./.!tOHEckugaW:_?'IDKvvl ?/NFvManTG/XwONAhnW?:-RqUIDf;;/XwONAhnW.?NFvManTG!POzKhOsh/--_,NFvManTG/!NFvManTG?OvV!_ .XwONAhnW,:/!tOHEckugaW/,.: NFvManTG!.;__RqUIDf  _LuDo._/OvV-;:YkFSXnet-- XwONAhnW,-JYwxKptdcm/RqUIDf.?JYwxKptdcm_,/RqUIDf;-? /NFvManTG::/YkFSXnet!NFvManTG!;-?SaINszyUBb/._:SaINszyUBb.LuDo_-;.;LuDo?,,,-NFvManTG-.RqUIDf/?; ;OvV;,!:;XwONAhnW/.OvV?:!/SaINszyUBb,hNIM;XwONAhnW.,?SaINszyUBb_YkFSXnet;:.:SaINszyUBb?_:RqUIDf -LuDo-'IDKvvl ,SaINszyUBb,;XwONAhnW:.!_SaINszyUBb?; :;tOHEckugaW,NFvManTG.SaINszyUBb/SaINszyUBb:/_?tOHEckugaW;,?!:SaINszyUBb_/_SaINszyUBb_ ;;XwONAhnW!??!NFvManTG-.POzKhOsh:XwONAhnW.SaINszyUBb;? ,,XwONAhnW;,LuDo/-NFvManTG._,! YkFSXnet,;POzKhOsh;!!._LuDo!! .'IDKvvl;SaINszyUBb. ;NFvManTG_:-NFvManTG_NFvManTG ,SaINszyUBb_!. NFvManTG_SaINszyUBb: ? -SaINszyUBb,.aMj!__ ?SaINszyUBb.tOHEckugaW_,LuDo?;.?'IDKvvl_,!.hNIM!,!;YkFSXnet!-RqUIDf.?_;.RqUIDf??LuDo ./JYwxKptdcm,/;!,OvV-:- LuDo!,;/-SaINszyUBb; /_;LuDo;-LuDo,NFvManTG- .?:RqUIDf?,!XwONAhnW?.LuDo !,/,NFvManTG?_/--YkFSXnet:hNIM.NFvManTG /'IDKvvl_,?_/SaINszyUBb:__,'IDKvvl!??LuDo LuDo ,?;?SaINszyUBb, :.NFvManTG:?OvV!hNIM?POzKhOsh.XwONAhnW:.XwONAhnW ;  NFvManTG?;XwONAhnW,.-LuDo_!!RqUIDf_ ,;,NFvManTG!_.;;NFvManTG_-.XwONAhnW?..LuDo!/!SaINszyUBb;:/!RqUIDf/:!;,'IDKvvl/.hNIM?RqUIDf;-:/LuDo/;hNIM-tOHEckugaW!LuDo,-- !YkFSXnet-:_LuDo?XwONAhnW?JYwxKptdcm,_LuDo- ,RqUIDf,LuDo-?!XwONAhnW::.,LuDo?.;,SaINszyUBb!;,RqUIDf :!!LuDo-:??LuDo!/SaINszyUBb:!.:.SaINszyUBb.:'IDKvvl-; tOHEckugaW?LuDo?!;XwONAhnW,OvV_!tOHEckugaW!XwONAhnW-,,?NFvManTG,:NFvManTG /-SaINszyUBb:?hNIM._:;SaINszyUBb.NFvManTG!SaINszyUBb:?//;SaINszyUBb_-;\"\n",
    "\n",
    "## output comment: Incorrect frequencies: [30, 27, 30] should be [30, 30, 27]. Your output: ['nfvmantg', 'ludo', 'sainszyubb']. One possible output: ['sainszyubb', 'nfvmantg', 'ludo']\n",
    "\n",
    "string3 = \"Nw'ey.!: AxnX/Nw'ey/??hZyU_,AxnX? ?/-oFyP!!hZyU:UXmnJ :. AxnX, _ _hZyU,?IojRvOIit-UXmnJ-  Nw'ey. .?:yABgbR _:!MVOdh?-;Nw'ey:/:,!VCeQpHKoI,!- ;AxnX:- !UXmnJ!AxnX,Nw'ey/IojRvOIit;,,!:AxnX, -.Nw'ey.:.Nw'ey:!/.VCeQpHKoI:-!IojRvOIit ;;/yABgbR.AxnX:,,;oFyP:?__,hZyU/:?!_hZyU;.-UXmnJ!!;;UXmnJ,;hZyU oFyP:! MVOdh?oFyP;_;oFyP yABgbR,AxnX?.-:AxnX.UXmnJ -!_oFyP/ UXmnJ :yABgbR,_;/.hZyU/-Nw'ey- /;.AxnX/hZyU.;._yABgbR:!IojRvOIit -!/VCeQpHKoI;._..VCeQpHKoI -/ oFyP:oFyP; _-VCeQpHKoI.-IojRvOIit,hZyU;.:oFyP,/__:oFyP;;/:Nw'ey__?yABgbR:.//!oFyP-_.hZyU.:/oFyP!_?;;AxnX://?;MVOdh,,_.hZyU-.Nw'ey. Nw'ey!Nw'ey-:hZyU;?.?_oFyP,VCeQpHKoI/:IojRvOIit:!Nw'ey;Nw'ey.oFyP;:_;yABgbR_.?VCeQpHKoI;?yABgbR?UXmnJ_hZyU!,_;;KhTq_-oFyP.!,:;AxnX oFyP Nw'ey-;:-?yABgbR;_/!Nw'ey UXmnJ:AxnX:/yABgbR.UXmnJ-?: ,VCeQpHKoI;:,Nw'ey--UXmnJ/,;IojRvOIit !_:VCeQpHKoI;/hZyU..,: AxnX;UXmnJ__!!MVOdh_!::-UXmnJ-.VCeQpHKoI/oFyP: .AxnX IojRvOIit?!_,?VCeQpHKoI/hZyU,! .UXmnJ._?;_oFyP!:?.oFyP-_-hZyU.;VCeQpHKoI!IojRvOIit!.oFyP -.;;IojRvOIit,, _ oFyP_ _!-Nw'ey-!UXmnJ:,,IojRvOIit_,_-hZyU-_ oFyP_hZyU _-_.MVOdh ,-AxnX:?AxnX/Nw'ey; _IojRvOIit.!/-UXmnJ!MVOdh oFyP:,.,-IojRvOIit.oFyP-_!-/IojRvOIit/Nw'ey?/-,;AxnX oFyP;:hZyU_,:AxnX,,!?hZyU:.KhTq?UXmnJ,?._.AxnX??./.VCeQpHKoI_,?yABgbR, :;Nw'ey/IojRvOIit:.-/yABgbR.Nw'ey /KhTq-UXmnJ!?-:oFyP- .VCeQpHKoI _oFyP/_!UXmnJ;_AxnX;.?UXmnJ ?AxnX!;!;-yABgbR ./!?VCeQpHKoI/:yABgbR?  hZyU?:/ oFyP,,,! AxnX-:,-;AxnX/Nw'ey?-..IojRvOIit!;_KhTq__?.Nw'ey:VCeQpHKoI_AxnX :,:!Nw'ey?.;!hZyU-_.oFyP;MVOdh_:,VCeQpHKoI_- Nw'ey!yABgbR.KhTq; :hZyU :hZyU.,,hZyU-?.!hZyU!,;-?yABgbR! ,AxnX!/hZyU.,!;,hZyU-.UXmnJ_;,hZyU-.oFyP/_UXmnJ _VCeQpHKoI,.Nw'ey_:,!Nw'ey;-!?Nw'ey,?KhTq!\"\n",
    "\n",
    "## output: Incorrect frequencies: [26, 29, 30] should be [30, 29, 29]. Your output: ['axnx', \"nw'ey\", 'ofyp']. One possible output: ['ofyp', \"nw'ey\", 'hzyu']\n",
    "\n",
    "\n",
    "string4 = \"TkC.-TkC!-_?-TkC :TkC?,TkC:?!-?TkC-_,/TkC/_TkC.-_!,TkC_/,/TkC?TkC:TkC:TkC -/??TkC!?TkC.,TkC ?TkC;?/TkC_-TkC ??:-\"\n",
    "\n",
    "## Incorrect match: words not present in the string. Your output: ['tkc', 'tkc.-tkc', '-tkc']. One possible valid answer: ['tkc']"
   ]
  },
  {
   "cell_type": "code",
   "execution_count": 85,
   "id": "ccada1ef-9004-4670-a985-713dc3650449",
   "metadata": {
    "tags": []
   },
   "outputs": [
    {
     "data": {
      "text/plain": [
       "'aIN'"
      ]
     },
     "execution_count": 85,
     "metadata": {},
     "output_type": "execute_result"
    }
   ],
   "source": [
    "string[26:29]"
   ]
  },
  {
   "cell_type": "markdown",
   "id": "e04bf1e6-5b81-486b-a547-a1415c7c8efb",
   "metadata": {
    "tags": []
   },
   "source": [
    "## Writing as a function"
   ]
  },
  {
   "cell_type": "code",
   "execution_count": null,
   "id": "f56d4522-4901-4ea1-b7aa-7d9a4a396ffe",
   "metadata": {},
   "outputs": [],
   "source": []
  },
  {
   "cell_type": "code",
   "execution_count": 81,
   "id": "8a486904-9c49-4c0a-82a3-590220dabc64",
   "metadata": {
    "tags": []
   },
   "outputs": [],
   "source": [
    "### FUNCTION STARTS HERE\n",
    "def top_3_words(text):\n",
    "    symbols = ['!', '@', '#', '&', '(', ')', '-', '_', '[', '{', '}', ']', ':', ';', ',', '?', '/', '*', '~', '$', '^', '+', '=', '<', '>', '.']\n",
    "\n",
    "    for char in symbols:\n",
    "        text = text.replace(char, ' ').strip().lower()\n",
    "    text = text.split(' ')\n",
    "    words = []\n",
    "    for word in text:\n",
    "        if word.strip():\n",
    "            words.append(word)\n",
    "\n",
    "    word_counts = {}\n",
    "\n",
    "    for word in words:\n",
    "\n",
    "        if word not in word_counts:\n",
    "            count = 0\n",
    "            this_word = word\n",
    "\n",
    "            # alphas = [char in word if char.isalpha()]\n",
    "\n",
    "            if any([char for char in word if char.isalpha()]):\n",
    "\n",
    "                for i in range(words.index(word),len(words)):\n",
    "\n",
    "                    if this_word == words[i]:\n",
    "                        count += 1\n",
    "\n",
    "                word_counts.update({this_word : count})\n",
    "                \n",
    "    top_words = []\n",
    "\n",
    "    if len(word_counts) > 3:\n",
    "        top_val = 3\n",
    "    else:\n",
    "        top_val = len(word_counts)\n",
    "\n",
    "    for i in range(top_val):\n",
    "        top_words.append(max(word_counts, key=word_counts.get))\n",
    "        del word_counts[top_words[i]]\n",
    "\n",
    "    return top_words"
   ]
  },
  {
   "cell_type": "code",
   "execution_count": 100,
   "id": "87168ff8-8f3c-4184-8f7b-73ae14f8f967",
   "metadata": {
    "tags": []
   },
   "outputs": [
    {
     "data": {
      "text/plain": [
       "['tkc', 'tkc.-tkc', '-tkc']"
      ]
     },
     "execution_count": 100,
     "metadata": {},
     "output_type": "execute_result"
    }
   ],
   "source": [
    "top_3_words(string4)"
   ]
  },
  {
   "cell_type": "markdown",
   "id": "e5ac75ee-8c43-456f-8143-00754589820e",
   "metadata": {},
   "source": [
    "# TESTING STUFF HERE"
   ]
  },
  {
   "cell_type": "code",
   "execution_count": 105,
   "id": "e9cbcb50-a315-4634-be2c-66dab6a7e969",
   "metadata": {
    "tags": []
   },
   "outputs": [
    {
     "name": "stdout",
     "output_type": "stream",
     "text": [
      "{'tkc': 19}\n"
     ]
    },
    {
     "data": {
      "text/plain": [
       "{'tkc': 19}"
      ]
     },
     "execution_count": 105,
     "metadata": {},
     "output_type": "execute_result"
    }
   ],
   "source": [
    "\n",
    "text = string4\n",
    "\n",
    "### FUNCTION Testing STARTS HERE\n",
    "\n",
    "symbols = ['!', '@', '#', '&', '(', ')', '-', '_', '[', '{', '}', ']', ':', ';', ',', '?', '/', '*', '~', '$', '^', '+', '=', '<', '>', '.']\n",
    "\n",
    "\n",
    "\n",
    "for char in symbols:\n",
    "    text = text.replace(char, ' ').strip().lower()\n",
    "\n",
    "text\n",
    "\n",
    "# text = text.strip().lower()\n",
    "\n",
    "\n",
    "text = text.split(' ')\n",
    "\n",
    "# words = words.remove(' ')\n",
    "\n",
    "words = []\n",
    "for word in text:\n",
    "    if word.strip():\n",
    "        words.append(word)\n",
    "        \n",
    "# words\n",
    "\n",
    "word_counts = {}\n",
    "\n",
    "for word in words:\n",
    "    \n",
    "    if word not in word_counts:\n",
    "        count = 0\n",
    "        this_word = word\n",
    "        \n",
    "        # alphas = [char in word if char.isalpha()]\n",
    "        \n",
    "        if any([char for char in word if char.isalpha()]):\n",
    "\n",
    "            for i in range(words.index(word),len(words)):\n",
    "\n",
    "                if this_word == words[i]:\n",
    "                    count += 1\n",
    "\n",
    "            word_counts.update({this_word : count})\n",
    "\n",
    "\n",
    "# print(len(word_counts))\n",
    "print(word_counts)\n",
    "\n",
    "\n",
    "top_words = []\n",
    "top_counts = []\n",
    "\n",
    "if len(word_counts) > 3:\n",
    "    top_val = 3\n",
    "else:\n",
    "    top_val = len(word_counts)\n",
    "\n",
    "for i in range(top_val):\n",
    "    max_key = max(word_counts, key=word_counts.get)\n",
    "    top_words.append(max_key)\n",
    "    top_counts.append(word_counts[max_key])\n",
    "    del word_counts[top_words[i]]\n",
    "\n",
    "tops = dict(zip(top_words, top_counts))    \n",
    "tops\n",
    "# top_words\n",
    "\n"
   ]
  },
  {
   "cell_type": "code",
   "execution_count": 98,
   "id": "6c38a829-b309-421f-b354-dfaf55d79f4b",
   "metadata": {
    "tags": []
   },
   "outputs": [
    {
     "data": {
      "text/plain": [
       "151"
      ]
     },
     "execution_count": 98,
     "metadata": {},
     "output_type": "execute_result"
    }
   ],
   "source": [
    "string2.lower().find('nfvmantg')"
   ]
  },
  {
   "cell_type": "code",
   "execution_count": 94,
   "id": "6c600a66-9b9c-4417-948c-d5cda1d048a0",
   "metadata": {
    "tags": []
   },
   "outputs": [
    {
     "name": "stdout",
     "output_type": "stream",
     "text": [
      "{'e': 5, 'd': 4, 'a': 3}\n"
     ]
    }
   ],
   "source": [
    "print(tops)"
   ]
  },
  {
   "cell_type": "code",
   "execution_count": 65,
   "id": "f325f6f1-b601-4d2f-a279-20ae1d5083fd",
   "metadata": {
    "tags": []
   },
   "outputs": [
    {
     "data": {
      "text/plain": [
       "True"
      ]
     },
     "execution_count": 65,
     "metadata": {},
     "output_type": "execute_result"
    }
   ],
   "source": [
    "# string = \"  '  \"\n",
    "# string = \"  '''  \"\n",
    "word = \"won't\"\n",
    "\n",
    "alphas = [char for char in word if char.isalpha()]\n",
    "alphas\n",
    "any([char for char in word if char.isalpha()])"
   ]
  },
  {
   "cell_type": "code",
   "execution_count": 33,
   "id": "d18a23de-0bbc-422a-9c25-7273ac926959",
   "metadata": {
    "tags": []
   },
   "outputs": [
    {
     "name": "stdout",
     "output_type": "stream",
     "text": [
      "iter =  8\n",
      "word this\n",
      "start =  4\n",
      "end =  7\n",
      "iter =  10\n",
      "word  is\n",
      "start =  7\n",
      "end =  9\n",
      "iter =  15\n",
      "word  a\n",
      "start =  9\n",
      "end =  14\n",
      "iter =  20\n",
      "word  test\n",
      "start =  14\n",
      "end =  19\n",
      "iter =  23\n",
      "word  this\n",
      "start =  19\n",
      "end =  22\n",
      "iter =  25\n",
      "word  is\n",
      "start =  22\n",
      "end =  24\n",
      "iter =  30\n",
      "word  a\n",
      "start =  24\n",
      "end =  29\n",
      "iter =  35\n",
      "word  test\n",
      "start =  29\n",
      "end =  34\n",
      "iter =  40\n",
      "word  this\n",
      "start =  34\n",
      "end =  39\n",
      "iter =  44\n",
      "word  nope\n",
      "start =  39\n",
      "end =  43\n"
     ]
    }
   ],
   "source": [
    "word_counts = {}\n",
    "\n",
    "string = 'this is a test this is a test this nope why '\n",
    "\n",
    "\n",
    "count = 0\n",
    "start = 0\n",
    "end = string.find(' ')\n",
    "\n",
    "word = string[start:end]\n",
    "\n",
    "\n",
    "\n",
    "    \n",
    "# word\n",
    "\n",
    "count += 1\n",
    "\n",
    "\n",
    "\n",
    "word_counts.update({'word': word, 'stats': {'count': count, 'string_list': [word] }})\n",
    "\n",
    "i = 0\n",
    "\n",
    "while i in range(len(string)):\n",
    "    word = string[start:end]\n",
    "    start = end\n",
    "    end = string.find(' ', start+1)\n",
    "    \n",
    "    i = end + 1\n",
    "    \n",
    "    print('iter = ', i)\n",
    "    print('word', word)\n",
    "    print('start = ', start)\n",
    "    print('end = ', end)\n",
    "    \n",
    "    #move to next word\n",
    "    # print(word)"
   ]
  },
  {
   "cell_type": "code",
   "execution_count": 12,
   "id": "419ef145-4963-4b19-be71-5ad8f70081b8",
   "metadata": {},
   "outputs": [
    {
     "data": {
      "text/plain": [
       "{'word': 'this', 'stats': {'count': 1, 'string_list': ['this']}}"
      ]
     },
     "execution_count": 12,
     "metadata": {},
     "output_type": "execute_result"
    }
   ],
   "source": [
    "word_counts"
   ]
  },
  {
   "cell_type": "code",
   "execution_count": 19,
   "id": "67c9b7ee-0d69-4d8c-8b3d-63327e9ef24a",
   "metadata": {
    "tags": []
   },
   "outputs": [
    {
     "data": {
      "text/plain": [
       "''"
      ]
     },
     "execution_count": 19,
     "metadata": {},
     "output_type": "execute_result"
    }
   ],
   "source": [
    "word"
   ]
  },
  {
   "cell_type": "code",
   "execution_count": 10,
   "id": "8d79fc66-1c92-4c7d-ad96-924891285c82",
   "metadata": {
    "tags": []
   },
   "outputs": [
    {
     "data": {
      "text/plain": [
       "7"
      ]
     },
     "execution_count": 10,
     "metadata": {},
     "output_type": "execute_result"
    }
   ],
   "source": [
    "string.find(' ', 5)"
   ]
  },
  {
   "cell_type": "code",
   "execution_count": 27,
   "id": "9cca3edd-f56b-4e14-afa2-dce7e6725bb6",
   "metadata": {
    "tags": []
   },
   "outputs": [
    {
     "data": {
      "text/plain": [
       "43"
      ]
     },
     "execution_count": 27,
     "metadata": {},
     "output_type": "execute_result"
    }
   ],
   "source": [
    "len(string)"
   ]
  },
  {
   "cell_type": "code",
   "execution_count": 29,
   "id": "e8f211dd-f5a8-4a85-ac1d-02f8a01c39e0",
   "metadata": {
    "tags": []
   },
   "outputs": [
    {
     "data": {
      "text/plain": [
       "range(0, 44)"
      ]
     },
     "execution_count": 29,
     "metadata": {},
     "output_type": "execute_result"
    }
   ],
   "source": [
    "range(len(string))"
   ]
  },
  {
   "cell_type": "code",
   "execution_count": 44,
   "id": "d43d52ac-23f6-4053-b048-3f6acfe68d19",
   "metadata": {
    "tags": []
   },
   "outputs": [],
   "source": [
    "text = 'this is a test this is a test this nope why '\n",
    "\n",
    "symbols = ['#', '\\\\', '/','-', ',', '.']\n",
    "\n",
    "# string = \"a a a  b  c c  d d d d  e e e e e\"\n",
    "for char in symbols:\n",
    "    text = text.replace(char, ' ').strip().lower()\n",
    "\n",
    "\n",
    "text = text.split(' ')\n",
    "\n",
    "# words = words.remove(' ')\n",
    "\n",
    "words = []\n",
    "for word in text:\n",
    "    if word.strip():\n",
    "        words.append(word)\n",
    "        \n",
    "# words\n",
    "\n",
    "word_counts = {}\n",
    "\n",
    "for word in words:\n",
    "    \n",
    "    if word not in word_counts:\n",
    "        count = 0\n",
    "        this_word = word\n",
    "\n",
    "        for i in range(words.index(word),len(words)):\n",
    "\n",
    "            if this_word == words[i]:\n",
    "                count += 1\n",
    "\n",
    "        word_counts.update({this_word : count})\n",
    "\n",
    "top_words = []\n",
    "\n",
    "for i in range(3):\n",
    "    top_words.append(max(word_counts, key=word_counts.get))\n",
    "    del word_counts[top_words[i]]\n",
    "    \n",
    "# top_words"
   ]
  },
  {
   "cell_type": "code",
   "execution_count": null,
   "id": "05be8bad-ccf4-4e08-ab92-2dc99c7cd065",
   "metadata": {},
   "outputs": [],
   "source": []
  },
  {
   "cell_type": "code",
   "execution_count": 73,
   "id": "50a16757-dd53-44ab-afe6-dc9bba8cbf8b",
   "metadata": {
    "tags": []
   },
   "outputs": [
    {
     "data": {
      "text/plain": [
       "['!',\n",
       " '@',\n",
       " '#',\n",
       " '&',\n",
       " '(',\n",
       " ')',\n",
       " '–',\n",
       " '[',\n",
       " '{',\n",
       " '}',\n",
       " ']',\n",
       " ':',\n",
       " ';',\n",
       " ',',\n",
       " '?',\n",
       " '/',\n",
       " '*',\n",
       " '~',\n",
       " '$',\n",
       " '^',\n",
       " '+',\n",
       " '=',\n",
       " '<',\n",
       " '>',\n",
       " '']"
      ]
     },
     "execution_count": 73,
     "metadata": {},
     "output_type": "execute_result"
    }
   ],
   "source": [
    "symbol_string = \"! @ # & ( ) – [ { } ] : ; , ? / * ~ $ ^ + = < > \"\n",
    "symbol_string.split(' ')"
   ]
  },
  {
   "cell_type": "code",
   "execution_count": 76,
   "id": "2365fc83-a07d-48fc-ae20-ea229ee39a20",
   "metadata": {
    "tags": []
   },
   "outputs": [
    {
     "name": "stdout",
     "output_type": "stream",
     "text": [
      "['!', '@', '#', '&', '(', ')', '–', '[', '{', '}', ']', ':', ';', ',', '?', '/', '*', '~', '$', '^', '+', '=', '<', '>']\n"
     ]
    }
   ],
   "source": [
    "symb = ['!',\n",
    " '@',\n",
    " '#',\n",
    " '&',\n",
    " '(',\n",
    " ')',\n",
    " '–',\n",
    " '[',\n",
    " '{',\n",
    " '}',\n",
    " ']',\n",
    " ':',\n",
    " ';',\n",
    " ',',\n",
    " '?',\n",
    " '/',\n",
    " '*',\n",
    " '~',\n",
    " '$',\n",
    " '^',\n",
    " '+',\n",
    " '=',\n",
    " '<',\n",
    " '>']\n",
    "\n",
    "print(symb)"
   ]
  },
  {
   "cell_type": "code",
   "execution_count": null,
   "id": "0ce4482b-16f3-44d0-a1ed-5579f2129e0b",
   "metadata": {},
   "outputs": [],
   "source": []
  }
 ],
 "metadata": {
  "kernelspec": {
   "display_name": "Python 3 (ipykernel)",
   "language": "python",
   "name": "python3"
  },
  "language_info": {
   "codemirror_mode": {
    "name": "ipython",
    "version": 3
   },
   "file_extension": ".py",
   "mimetype": "text/x-python",
   "name": "python",
   "nbconvert_exporter": "python",
   "pygments_lexer": "ipython3",
   "version": "3.10.13"
  }
 },
 "nbformat": 4,
 "nbformat_minor": 5
}
