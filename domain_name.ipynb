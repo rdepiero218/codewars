{
 "cells": [
  {
   "cell_type": "code",
   "execution_count": null,
   "id": "9b85afc1-6052-4102-ab14-6a85d4d76eb8",
   "metadata": {},
   "outputs": [],
   "source": []
  },
  {
   "cell_type": "code",
   "execution_count": null,
   "id": "5d8eb935-9e8c-4575-a2ca-a5d77197a4c2",
   "metadata": {},
   "outputs": [],
   "source": []
  },
  {
   "cell_type": "code",
   "execution_count": 5,
   "id": "8b50f9d2-e9ec-4478-9ae2-2dc92320ed5c",
   "metadata": {
    "tags": []
   },
   "outputs": [],
   "source": [
    "url = 'www.xakep.ru'"
   ]
  },
  {
   "cell_type": "code",
   "execution_count": 9,
   "id": "0ee4562b-6416-48fb-bd06-15d0a1483bd5",
   "metadata": {
    "tags": []
   },
   "outputs": [
    {
     "data": {
      "text/plain": [
       "-1"
      ]
     },
     "execution_count": 9,
     "metadata": {},
     "output_type": "execute_result"
    }
   ],
   "source": [
    "url.find('//')"
   ]
  },
  {
   "cell_type": "code",
   "execution_count": 10,
   "id": "151404ab-9558-49e8-927b-f7cd5792de8d",
   "metadata": {
    "tags": []
   },
   "outputs": [
    {
     "data": {
      "text/plain": [
       "0"
      ]
     },
     "execution_count": 10,
     "metadata": {},
     "output_type": "execute_result"
    }
   ],
   "source": [
    "url.find('www.')"
   ]
  },
  {
   "cell_type": "code",
   "execution_count": 11,
   "id": "66773a95-0410-4844-86a1-901d6d255c9b",
   "metadata": {
    "tags": []
   },
   "outputs": [
    {
     "data": {
      "text/plain": [
       "'xakep'"
      ]
     },
     "execution_count": 11,
     "metadata": {},
     "output_type": "execute_result"
    }
   ],
   "source": [
    "if url.rfind('//') > 0:\n",
    "    start = url.find('//')+2\n",
    "    name = url[start: url.find('.',start+2)]\n",
    "\n",
    "if url.rfind('www.') >= 0:\n",
    "    start = url.find('www.')+4\n",
    "    name = url[start: url.find('.',start+2)]\n",
    "\n",
    "name"
   ]
  },
  {
   "cell_type": "code",
   "execution_count": 19,
   "id": "5c121824-188a-4f1a-992a-5375da5995b3",
   "metadata": {
    "tags": []
   },
   "outputs": [],
   "source": [
    "url ='http://google.com'"
   ]
  },
  {
   "cell_type": "code",
   "execution_count": 21,
   "id": "bd2b6284-1fcd-4b2e-bb78-956e19c4edcb",
   "metadata": {
    "tags": []
   },
   "outputs": [],
   "source": [
    "def domain_name(url):\n",
    "    \n",
    "    if url.find('.') >= 0:\n",
    "        end = url.find('.')\n",
    "        name = url[: end]\n",
    "    \n",
    "    if url.rfind('//') > 0:\n",
    "        start = url.find('//')+2\n",
    "        name = url[start: url.find('.',start+2)]\n",
    "\n",
    "    if url.find('www.') >= 0:\n",
    "        start = url.find('www.')+4\n",
    "        name = url[start: url.find('.',start+4)]\n",
    "    return name"
   ]
  },
  {
   "cell_type": "code",
   "execution_count": 22,
   "id": "5d425774-752f-4bee-81f2-02f721cdf550",
   "metadata": {
    "tags": []
   },
   "outputs": [
    {
     "data": {
      "text/plain": [
       "'google'"
      ]
     },
     "execution_count": 22,
     "metadata": {},
     "output_type": "execute_result"
    }
   ],
   "source": [
    "domain_name(url)"
   ]
  },
  {
   "cell_type": "code",
   "execution_count": null,
   "id": "0617362f-eb86-41a1-8ece-686b7ba5581f",
   "metadata": {},
   "outputs": [],
   "source": []
  }
 ],
 "metadata": {
  "kernelspec": {
   "display_name": "Python 3 (ipykernel)",
   "language": "python",
   "name": "python3"
  },
  "language_info": {
   "codemirror_mode": {
    "name": "ipython",
    "version": 3
   },
   "file_extension": ".py",
   "mimetype": "text/x-python",
   "name": "python",
   "nbconvert_exporter": "python",
   "pygments_lexer": "ipython3",
   "version": "3.10.13"
  }
 },
 "nbformat": 4,
 "nbformat_minor": 5
}
